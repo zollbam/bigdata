{
 "cells": [
  {
   "cell_type": "markdown",
   "metadata": {},
   "source": [
    "# 택시 문제\n",
    "## 뉴욕시의 택시 데이터 셋으로 예측 모델\n",
    "\n",
    "- 데이터셋 출처: 캐글의 NYC_taxi.csv\n",
    "- 조건: 뉴욕시 내\n",
    "- 거리에 따른 요금 예측 => 회귀\n",
    "- 승차에 따른 하차 지역 예측 => 분류"
   ]
  },
  {
   "cell_type": "code",
   "execution_count": 1,
   "metadata": {},
   "outputs": [],
   "source": [
    "# 모듈 로딩\n",
    "import pandas as pd\n",
    "import numpy as np"
   ]
  },
  {
   "cell_type": "code",
   "execution_count": 34,
   "metadata": {},
   "outputs": [
    {
     "ename": "",
     "evalue": "",
     "output_type": "error",
     "traceback": [
      "\u001b[1;31mCanceled future for execute_request message before replies were done"
     ]
    },
    {
     "ename": "",
     "evalue": "",
     "output_type": "error",
     "traceback": [
      "현재 셀 또는 이전 셀에서 코드를 실행하는 동안 Kernel이 충돌했습니다. 셀의 코드를 검토하여 오류의 가능한 원인을 식별하세요. 자세한 내용을 보려면 <a href='https://aka.ms/vscodeJupyterKernelCrash'> 여기 </a> 를 클릭하세요. 자세한 내용은 Jupyter <a href='command:jupyter.viewOutput'>로그</a>를 참조하세요."
     ]
    }
   ],
   "source": [
    "# 데이터 로딩\n",
    "taxi_df=pd.read_csv('train.csv')\n",
    "print(taxi_df)"
   ]
  },
  {
   "cell_type": "markdown",
   "metadata": {},
   "source": [
    "- taxi_df에는 55423856행이 있음"
   ]
  },
  {
   "cell_type": "code",
   "execution_count": 3,
   "metadata": {},
   "outputs": [
    {
     "name": "stdout",
     "output_type": "stream",
     "text": [
      "                                 key  fare_amount           pickup_datetime  \\\n",
      "0        2009-06-15 17:26:21.0000001          4.5 2009-06-15 17:26:21+00:00   \n",
      "1        2010-01-05 16:52:16.0000002         16.9 2010-01-05 16:52:16+00:00   \n",
      "2       2011-08-18 00:35:00.00000049          5.7 2011-08-18 00:35:00+00:00   \n",
      "3        2012-04-21 04:30:42.0000001          7.7 2012-04-21 04:30:42+00:00   \n",
      "4      2010-03-09 07:51:00.000000135          5.3 2010-03-09 07:51:00+00:00   \n",
      "...                              ...          ...                       ...   \n",
      "49995    2013-06-12 23:25:15.0000004         15.0 2013-06-12 23:25:15+00:00   \n",
      "49996    2015-06-22 17:19:18.0000007          7.5 2015-06-22 17:19:18+00:00   \n",
      "49997   2011-01-30 04:53:00.00000063          6.9 2011-01-30 04:53:00+00:00   \n",
      "49998   2012-11-06 07:09:00.00000069          4.5 2012-11-06 07:09:00+00:00   \n",
      "49999    2010-01-13 08:13:14.0000007         10.9 2010-01-13 08:13:14+00:00   \n",
      "\n",
      "       pickup_longitude  pickup_latitude  dropoff_longitude  dropoff_latitude  \\\n",
      "0            -73.844311        40.721319         -73.841610         40.712278   \n",
      "1            -74.016048        40.711303         -73.979268         40.782004   \n",
      "2            -73.982738        40.761270         -73.991242         40.750562   \n",
      "3            -73.987130        40.733143         -73.991567         40.758092   \n",
      "4            -73.968095        40.768008         -73.956655         40.783762   \n",
      "...                 ...              ...                ...               ...   \n",
      "49995        -73.999973        40.748531         -74.016899         40.705993   \n",
      "49996        -73.984756        40.768211         -73.987366         40.760597   \n",
      "49997        -74.002698        40.739428         -73.998108         40.759483   \n",
      "49998        -73.946062        40.777567         -73.953450         40.779687   \n",
      "49999        -73.932603        40.763805         -73.932603         40.763805   \n",
      "\n",
      "       passenger_count  \n",
      "0                    1  \n",
      "1                    1  \n",
      "2                    2  \n",
      "3                    1  \n",
      "4                    1  \n",
      "...                ...  \n",
      "49995                1  \n",
      "49996                1  \n",
      "49997                1  \n",
      "49998                2  \n",
      "49999                1  \n",
      "\n",
      "[50000 rows x 8 columns]\n"
     ]
    }
   ],
   "source": [
    "# 데이터 로딩(행 50000개만)\n",
    "taxi_df_50000=pd.read_csv('train.csv',nrows=50000,parse_dates=['pickup_datetime'])\n",
    "print(taxi_df_50000)"
   ]
  },
  {
   "cell_type": "markdown",
   "metadata": {},
   "source": [
    "- nrows=옵션을 이용하여 불러들인 행수를 정할 수 있음\n",
    "- parse_dates=['pickup_datetime']을 쓰면 pickup_datetime열이  \n",
    "  datetime64[ns, UTC]타입으로 변경됨"
   ]
  },
  {
   "cell_type": "code",
   "execution_count": 4,
   "metadata": {},
   "outputs": [
    {
     "name": "stdout",
     "output_type": "stream",
     "text": [
      "<class 'pandas.core.frame.DataFrame'>\n",
      "RangeIndex: 50000 entries, 0 to 49999\n",
      "Data columns (total 8 columns):\n",
      " #   Column             Non-Null Count  Dtype              \n",
      "---  ------             --------------  -----              \n",
      " 0   key                50000 non-null  object             \n",
      " 1   fare_amount        50000 non-null  float64            \n",
      " 2   pickup_datetime    50000 non-null  datetime64[ns, UTC]\n",
      " 3   pickup_longitude   50000 non-null  float64            \n",
      " 4   pickup_latitude    50000 non-null  float64            \n",
      " 5   dropoff_longitude  50000 non-null  float64            \n",
      " 6   dropoff_latitude   50000 non-null  float64            \n",
      " 7   passenger_count    50000 non-null  int64              \n",
      "dtypes: datetime64[ns, UTC](1), float64(5), int64(1), object(1)\n",
      "memory usage: 3.1+ MB\n"
     ]
    }
   ],
   "source": [
    "# 데이터 확인\n",
    "taxi_df_50000.info()"
   ]
  },
  {
   "cell_type": "code",
   "execution_count": 5,
   "metadata": {},
   "outputs": [
    {
     "data": {
      "text/plain": [
       "Index(['key', 'fare_amount', 'pickup_datetime', 'pickup_longitude',\n",
       "       'pickup_latitude', 'dropoff_longitude', 'dropoff_latitude',\n",
       "       'passenger_count'],\n",
       "      dtype='object')"
      ]
     },
     "execution_count": 5,
     "metadata": {},
     "output_type": "execute_result"
    }
   ],
   "source": [
    "# 열이름\n",
    "taxi_df_50000.columns"
   ]
  },
  {
   "cell_type": "code",
   "execution_count": 6,
   "metadata": {},
   "outputs": [
    {
     "data": {
      "text/plain": [
       "key                  0\n",
       "fare_amount          0\n",
       "pickup_datetime      0\n",
       "pickup_longitude     0\n",
       "pickup_latitude      0\n",
       "dropoff_longitude    0\n",
       "dropoff_latitude     0\n",
       "passenger_count      0\n",
       "dtype: int64"
      ]
     },
     "execution_count": 6,
     "metadata": {},
     "output_type": "execute_result"
    }
   ],
   "source": [
    "# 결측치 및 이상치 체크\n",
    "taxi_df_50000.isnull().sum()"
   ]
  },
  {
   "cell_type": "code",
   "execution_count": 7,
   "metadata": {},
   "outputs": [
    {
     "data": {
      "text/html": [
       "<div>\n",
       "<style scoped>\n",
       "    .dataframe tbody tr th:only-of-type {\n",
       "        vertical-align: middle;\n",
       "    }\n",
       "\n",
       "    .dataframe tbody tr th {\n",
       "        vertical-align: top;\n",
       "    }\n",
       "\n",
       "    .dataframe thead th {\n",
       "        text-align: right;\n",
       "    }\n",
       "</style>\n",
       "<table border=\"1\" class=\"dataframe\">\n",
       "  <thead>\n",
       "    <tr style=\"text-align: right;\">\n",
       "      <th></th>\n",
       "      <th>fare_amount</th>\n",
       "      <th>pickup_longitude</th>\n",
       "      <th>pickup_latitude</th>\n",
       "      <th>dropoff_longitude</th>\n",
       "      <th>dropoff_latitude</th>\n",
       "      <th>passenger_count</th>\n",
       "    </tr>\n",
       "  </thead>\n",
       "  <tbody>\n",
       "    <tr>\n",
       "      <th>count</th>\n",
       "      <td>50000.000000</td>\n",
       "      <td>50000.000000</td>\n",
       "      <td>50000.000000</td>\n",
       "      <td>50000.000000</td>\n",
       "      <td>50000.000000</td>\n",
       "      <td>50000.000000</td>\n",
       "    </tr>\n",
       "    <tr>\n",
       "      <th>mean</th>\n",
       "      <td>11.364171</td>\n",
       "      <td>-72.509756</td>\n",
       "      <td>39.933759</td>\n",
       "      <td>-72.504616</td>\n",
       "      <td>39.926251</td>\n",
       "      <td>1.667840</td>\n",
       "    </tr>\n",
       "    <tr>\n",
       "      <th>std</th>\n",
       "      <td>9.685557</td>\n",
       "      <td>10.393860</td>\n",
       "      <td>6.224857</td>\n",
       "      <td>10.407570</td>\n",
       "      <td>6.014737</td>\n",
       "      <td>1.289195</td>\n",
       "    </tr>\n",
       "    <tr>\n",
       "      <th>min</th>\n",
       "      <td>-5.000000</td>\n",
       "      <td>-75.423848</td>\n",
       "      <td>-74.006893</td>\n",
       "      <td>-84.654241</td>\n",
       "      <td>-74.006377</td>\n",
       "      <td>0.000000</td>\n",
       "    </tr>\n",
       "    <tr>\n",
       "      <th>25%</th>\n",
       "      <td>6.000000</td>\n",
       "      <td>-73.992062</td>\n",
       "      <td>40.734880</td>\n",
       "      <td>-73.991152</td>\n",
       "      <td>40.734372</td>\n",
       "      <td>1.000000</td>\n",
       "    </tr>\n",
       "    <tr>\n",
       "      <th>50%</th>\n",
       "      <td>8.500000</td>\n",
       "      <td>-73.981840</td>\n",
       "      <td>40.752678</td>\n",
       "      <td>-73.980082</td>\n",
       "      <td>40.753372</td>\n",
       "      <td>1.000000</td>\n",
       "    </tr>\n",
       "    <tr>\n",
       "      <th>75%</th>\n",
       "      <td>12.500000</td>\n",
       "      <td>-73.967148</td>\n",
       "      <td>40.767360</td>\n",
       "      <td>-73.963584</td>\n",
       "      <td>40.768167</td>\n",
       "      <td>2.000000</td>\n",
       "    </tr>\n",
       "    <tr>\n",
       "      <th>max</th>\n",
       "      <td>200.000000</td>\n",
       "      <td>40.783472</td>\n",
       "      <td>401.083332</td>\n",
       "      <td>40.851027</td>\n",
       "      <td>43.415190</td>\n",
       "      <td>6.000000</td>\n",
       "    </tr>\n",
       "  </tbody>\n",
       "</table>\n",
       "</div>"
      ],
      "text/plain": [
       "        fare_amount  pickup_longitude  pickup_latitude  dropoff_longitude  \\\n",
       "count  50000.000000      50000.000000     50000.000000       50000.000000   \n",
       "mean      11.364171        -72.509756        39.933759         -72.504616   \n",
       "std        9.685557         10.393860         6.224857          10.407570   \n",
       "min       -5.000000        -75.423848       -74.006893         -84.654241   \n",
       "25%        6.000000        -73.992062        40.734880         -73.991152   \n",
       "50%        8.500000        -73.981840        40.752678         -73.980082   \n",
       "75%       12.500000        -73.967148        40.767360         -73.963584   \n",
       "max      200.000000         40.783472       401.083332          40.851027   \n",
       "\n",
       "       dropoff_latitude  passenger_count  \n",
       "count      50000.000000     50000.000000  \n",
       "mean          39.926251         1.667840  \n",
       "std            6.014737         1.289195  \n",
       "min          -74.006377         0.000000  \n",
       "25%           40.734372         1.000000  \n",
       "50%           40.753372         1.000000  \n",
       "75%           40.768167         2.000000  \n",
       "max           43.415190         6.000000  "
      ]
     },
     "execution_count": 7,
     "metadata": {},
     "output_type": "execute_result"
    }
   ],
   "source": [
    "# 분포 확인\n",
    "taxi_df_50000.describe()"
   ]
  },
  {
   "cell_type": "code",
   "execution_count": null,
   "metadata": {},
   "outputs": [
    {
     "data": {
      "text/plain": [
       "0       0.000007\n",
       "1       0.001353\n",
       "2       0.000072\n",
       "3       0.000020\n",
       "4       0.000131\n",
       "          ...   \n",
       "4995    0.000023\n",
       "4996    0.000022\n",
       "4997    0.000009\n",
       "4998    0.000157\n",
       "4999    0.000353\n",
       "Length: 5000, dtype: float64"
      ]
     },
     "execution_count": 26,
     "metadata": {},
     "output_type": "execute_result"
    }
   ],
   "source": [
    "np.power((taxi_df_5000['pickup_longitude']-taxi_df_5000['dropoff_longitude']),2)+"
   ]
  },
  {
   "cell_type": "code",
   "execution_count": null,
   "metadata": {},
   "outputs": [
    {
     "data": {
      "text/html": [
       "<div>\n",
       "<style scoped>\n",
       "    .dataframe tbody tr th:only-of-type {\n",
       "        vertical-align: middle;\n",
       "    }\n",
       "\n",
       "    .dataframe tbody tr th {\n",
       "        vertical-align: top;\n",
       "    }\n",
       "\n",
       "    .dataframe thead th {\n",
       "        text-align: right;\n",
       "    }\n",
       "</style>\n",
       "<table border=\"1\" class=\"dataframe\">\n",
       "  <thead>\n",
       "    <tr style=\"text-align: right;\">\n",
       "      <th></th>\n",
       "      <th>key</th>\n",
       "      <th>fare_amount</th>\n",
       "      <th>pickup_datetime</th>\n",
       "      <th>pickup_longitude</th>\n",
       "      <th>pickup_latitude</th>\n",
       "      <th>dropoff_longitude</th>\n",
       "      <th>dropoff_latitude</th>\n",
       "      <th>passenger_count</th>\n",
       "      <th>distance</th>\n",
       "    </tr>\n",
       "  </thead>\n",
       "  <tbody>\n",
       "    <tr>\n",
       "      <th>0</th>\n",
       "      <td>2009-06-15 17:26:21.0000001</td>\n",
       "      <td>4.5</td>\n",
       "      <td>2009-06-15 17:26:21+00:00</td>\n",
       "      <td>-73.844311</td>\n",
       "      <td>40.721319</td>\n",
       "      <td>-73.841610</td>\n",
       "      <td>40.712278</td>\n",
       "      <td>1</td>\n",
       "      <td>0.009436</td>\n",
       "    </tr>\n",
       "    <tr>\n",
       "      <th>1</th>\n",
       "      <td>2010-01-05 16:52:16.0000002</td>\n",
       "      <td>16.9</td>\n",
       "      <td>2010-01-05 16:52:16+00:00</td>\n",
       "      <td>-74.016048</td>\n",
       "      <td>40.711303</td>\n",
       "      <td>-73.979268</td>\n",
       "      <td>40.782004</td>\n",
       "      <td>1</td>\n",
       "      <td>0.079696</td>\n",
       "    </tr>\n",
       "    <tr>\n",
       "      <th>2</th>\n",
       "      <td>2011-08-18 00:35:00.00000049</td>\n",
       "      <td>5.7</td>\n",
       "      <td>2011-08-18 00:35:00+00:00</td>\n",
       "      <td>-73.982738</td>\n",
       "      <td>40.761270</td>\n",
       "      <td>-73.991242</td>\n",
       "      <td>40.750562</td>\n",
       "      <td>2</td>\n",
       "      <td>0.013674</td>\n",
       "    </tr>\n",
       "    <tr>\n",
       "      <th>3</th>\n",
       "      <td>2012-04-21 04:30:42.0000001</td>\n",
       "      <td>7.7</td>\n",
       "      <td>2012-04-21 04:30:42+00:00</td>\n",
       "      <td>-73.987130</td>\n",
       "      <td>40.733143</td>\n",
       "      <td>-73.991567</td>\n",
       "      <td>40.758092</td>\n",
       "      <td>1</td>\n",
       "      <td>0.025340</td>\n",
       "    </tr>\n",
       "    <tr>\n",
       "      <th>4</th>\n",
       "      <td>2010-03-09 07:51:00.000000135</td>\n",
       "      <td>5.3</td>\n",
       "      <td>2010-03-09 07:51:00+00:00</td>\n",
       "      <td>-73.968095</td>\n",
       "      <td>40.768008</td>\n",
       "      <td>-73.956655</td>\n",
       "      <td>40.783762</td>\n",
       "      <td>1</td>\n",
       "      <td>0.019470</td>\n",
       "    </tr>\n",
       "    <tr>\n",
       "      <th>...</th>\n",
       "      <td>...</td>\n",
       "      <td>...</td>\n",
       "      <td>...</td>\n",
       "      <td>...</td>\n",
       "      <td>...</td>\n",
       "      <td>...</td>\n",
       "      <td>...</td>\n",
       "      <td>...</td>\n",
       "      <td>...</td>\n",
       "    </tr>\n",
       "    <tr>\n",
       "      <th>4995</th>\n",
       "      <td>2010-09-04 12:45:32.0000001</td>\n",
       "      <td>6.5</td>\n",
       "      <td>2010-09-04 12:45:32+00:00</td>\n",
       "      <td>-73.980622</td>\n",
       "      <td>40.745157</td>\n",
       "      <td>-73.975777</td>\n",
       "      <td>40.755863</td>\n",
       "      <td>1</td>\n",
       "      <td>0.011751</td>\n",
       "    </tr>\n",
       "    <tr>\n",
       "      <th>4996</th>\n",
       "      <td>2011-06-13 10:53:52.0000006</td>\n",
       "      <td>4.9</td>\n",
       "      <td>2011-06-13 10:53:52+00:00</td>\n",
       "      <td>-73.956664</td>\n",
       "      <td>40.766989</td>\n",
       "      <td>-73.961371</td>\n",
       "      <td>40.772639</td>\n",
       "      <td>1</td>\n",
       "      <td>0.007354</td>\n",
       "    </tr>\n",
       "    <tr>\n",
       "      <th>4997</th>\n",
       "      <td>2013-12-12 21:26:40.0000004</td>\n",
       "      <td>7.5</td>\n",
       "      <td>2013-12-12 21:26:40+00:00</td>\n",
       "      <td>-73.988707</td>\n",
       "      <td>40.734343</td>\n",
       "      <td>-73.991737</td>\n",
       "      <td>40.722582</td>\n",
       "      <td>1</td>\n",
       "      <td>0.012145</td>\n",
       "    </tr>\n",
       "    <tr>\n",
       "      <th>4998</th>\n",
       "      <td>2010-03-08 14:01:00.00000067</td>\n",
       "      <td>7.7</td>\n",
       "      <td>2010-03-08 14:01:00+00:00</td>\n",
       "      <td>-73.952795</td>\n",
       "      <td>40.776642</td>\n",
       "      <td>-73.965320</td>\n",
       "      <td>40.759412</td>\n",
       "      <td>5</td>\n",
       "      <td>0.021301</td>\n",
       "    </tr>\n",
       "    <tr>\n",
       "      <th>4999</th>\n",
       "      <td>2011-02-28 18:37:41.0000002</td>\n",
       "      <td>13.3</td>\n",
       "      <td>2011-02-28 18:37:41+00:00</td>\n",
       "      <td>-73.983301</td>\n",
       "      <td>40.743722</td>\n",
       "      <td>-73.964523</td>\n",
       "      <td>40.710758</td>\n",
       "      <td>1</td>\n",
       "      <td>0.037937</td>\n",
       "    </tr>\n",
       "  </tbody>\n",
       "</table>\n",
       "<p>5000 rows × 9 columns</p>\n",
       "</div>"
      ],
      "text/plain": [
       "                                key  fare_amount           pickup_datetime  \\\n",
       "0       2009-06-15 17:26:21.0000001          4.5 2009-06-15 17:26:21+00:00   \n",
       "1       2010-01-05 16:52:16.0000002         16.9 2010-01-05 16:52:16+00:00   \n",
       "2      2011-08-18 00:35:00.00000049          5.7 2011-08-18 00:35:00+00:00   \n",
       "3       2012-04-21 04:30:42.0000001          7.7 2012-04-21 04:30:42+00:00   \n",
       "4     2010-03-09 07:51:00.000000135          5.3 2010-03-09 07:51:00+00:00   \n",
       "...                             ...          ...                       ...   \n",
       "4995    2010-09-04 12:45:32.0000001          6.5 2010-09-04 12:45:32+00:00   \n",
       "4996    2011-06-13 10:53:52.0000006          4.9 2011-06-13 10:53:52+00:00   \n",
       "4997    2013-12-12 21:26:40.0000004          7.5 2013-12-12 21:26:40+00:00   \n",
       "4998   2010-03-08 14:01:00.00000067          7.7 2010-03-08 14:01:00+00:00   \n",
       "4999    2011-02-28 18:37:41.0000002         13.3 2011-02-28 18:37:41+00:00   \n",
       "\n",
       "      pickup_longitude  pickup_latitude  dropoff_longitude  dropoff_latitude  \\\n",
       "0           -73.844311        40.721319         -73.841610         40.712278   \n",
       "1           -74.016048        40.711303         -73.979268         40.782004   \n",
       "2           -73.982738        40.761270         -73.991242         40.750562   \n",
       "3           -73.987130        40.733143         -73.991567         40.758092   \n",
       "4           -73.968095        40.768008         -73.956655         40.783762   \n",
       "...                ...              ...                ...               ...   \n",
       "4995        -73.980622        40.745157         -73.975777         40.755863   \n",
       "4996        -73.956664        40.766989         -73.961371         40.772639   \n",
       "4997        -73.988707        40.734343         -73.991737         40.722582   \n",
       "4998        -73.952795        40.776642         -73.965320         40.759412   \n",
       "4999        -73.983301        40.743722         -73.964523         40.710758   \n",
       "\n",
       "      passenger_count  distance  \n",
       "0                   1  0.009436  \n",
       "1                   1  0.079696  \n",
       "2                   2  0.013674  \n",
       "3                   1  0.025340  \n",
       "4                   1  0.019470  \n",
       "...               ...       ...  \n",
       "4995                1  0.011751  \n",
       "4996                1  0.007354  \n",
       "4997                1  0.012145  \n",
       "4998                5  0.021301  \n",
       "4999                1  0.037937  \n",
       "\n",
       "[5000 rows x 9 columns]"
      ]
     },
     "execution_count": 30,
     "metadata": {},
     "output_type": "execute_result"
    }
   ],
   "source": [
    "# 거리(distance)열 추가\n",
    "taxi_df_5000['distance']=np.power((taxi_df_5000['pickup_longitude']-taxi_df_5000['dropoff_longitude'])**2+(taxi_df_5000['pickup_latitude']-taxi_df_5000['dropoff_latitude'])**2,0.5)\n",
    "taxi_df_5000"
   ]
  },
  {
   "cell_type": "code",
   "execution_count": null,
   "metadata": {},
   "outputs": [
    {
     "data": {
      "text/plain": [
       "Index(['key', 'fare_amount', 'pickup_datetime', 'pickup_longitude',\n",
       "       'pickup_latitude', 'dropoff_longitude', 'dropoff_latitude',\n",
       "       'passenger_count', 'distance'],\n",
       "      dtype='object')"
      ]
     },
     "execution_count": 32,
     "metadata": {},
     "output_type": "execute_result"
    }
   ],
   "source": [
    "# 새로운 열 추가 되었는지 확인\n",
    "taxi_df_5000.columns"
   ]
  },
  {
   "cell_type": "code",
   "execution_count": null,
   "metadata": {},
   "outputs": [],
   "source": []
  },
  {
   "cell_type": "code",
   "execution_count": null,
   "metadata": {},
   "outputs": [],
   "source": []
  },
  {
   "cell_type": "code",
   "execution_count": null,
   "metadata": {},
   "outputs": [],
   "source": []
  },
  {
   "cell_type": "code",
   "execution_count": null,
   "metadata": {},
   "outputs": [],
   "source": []
  },
  {
   "cell_type": "code",
   "execution_count": null,
   "metadata": {},
   "outputs": [],
   "source": []
  },
  {
   "cell_type": "code",
   "execution_count": null,
   "metadata": {},
   "outputs": [],
   "source": []
  },
  {
   "cell_type": "code",
   "execution_count": null,
   "metadata": {},
   "outputs": [],
   "source": []
  },
  {
   "cell_type": "code",
   "execution_count": null,
   "metadata": {},
   "outputs": [],
   "source": []
  },
  {
   "cell_type": "code",
   "execution_count": null,
   "metadata": {},
   "outputs": [],
   "source": []
  },
  {
   "cell_type": "code",
   "execution_count": null,
   "metadata": {},
   "outputs": [],
   "source": []
  },
  {
   "cell_type": "code",
   "execution_count": null,
   "metadata": {},
   "outputs": [],
   "source": []
  },
  {
   "cell_type": "code",
   "execution_count": null,
   "metadata": {},
   "outputs": [],
   "source": []
  },
  {
   "cell_type": "code",
   "execution_count": null,
   "metadata": {},
   "outputs": [],
   "source": []
  },
  {
   "cell_type": "code",
   "execution_count": null,
   "metadata": {},
   "outputs": [],
   "source": []
  }
 ],
 "metadata": {
  "kernelspec": {
   "display_name": "Python 3.9.12 ('EV_PY39')",
   "language": "python",
   "name": "python3"
  },
  "language_info": {
   "codemirror_mode": {
    "name": "ipython",
    "version": 3
   },
   "file_extension": ".py",
   "mimetype": "text/x-python",
   "name": "python",
   "nbconvert_exporter": "python",
   "pygments_lexer": "ipython3",
   "version": "3.9.12"
  },
  "orig_nbformat": 4,
  "vscode": {
   "interpreter": {
    "hash": "d1dde8d3f1fc6169eb2afb9c884f1482ff31994a855398e316a83a9dc8ff488b"
   }
  }
 },
 "nbformat": 4,
 "nbformat_minor": 2
}
