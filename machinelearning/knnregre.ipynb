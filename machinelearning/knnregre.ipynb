{
 "cells": [
  {
   "cell_type": "code",
   "execution_count": 132,
   "metadata": {},
   "outputs": [],
   "source": [
    "# 모듈 로드\n",
    "import numpy as np\n",
    "import matplotlib.pyplot as plt\n",
    "import pandas as pd\n",
    "from sklearn.model_selection import train_test_split\n",
    "from sklearn.neighbors import KNeighborsRegressor\n",
    "from sklearn.metrics import mean_absolute_error\n",
    "from sklearn.linear_model import LinearRegression\n",
    "from sklearn.preprocessing import PolynomialFeatures\n",
    "import warnings"
   ]
  },
  {
   "cell_type": "code",
   "execution_count": 133,
   "metadata": {},
   "outputs": [],
   "source": [
    "# 경고무시\n",
    "warnings.filterwarnings(action='ignore')"
   ]
  },
  {
   "cell_type": "code",
   "execution_count": 134,
   "metadata": {},
   "outputs": [],
   "source": [
    "# 데이터 생성\n",
    "perch_length =\tnp.array([8.4,\t13.7,\t15.0,\t16.2,\t17.4,\t18.0,\t18.7,\t19.0,\t19.6,\t20.0,\t\n",
    "21.0,\t21.0,\t21.0,\t21.3,\t22.0,\t22.0,\t22.0,\t22.0,\t22.0,\t22.5,\t\n",
    "22.5,\t22.7,\t23.0,\t23.5,\t24.0,\t24.0,\t24.6,\t25.0,\t25.6,\t26.5,\t\n",
    "27.3,\t27.5,\t27.5,\t27.5,\t28.0,\t28.7,\t30.0,\t32.8,\t34.5,\t35.0,\t\n",
    "36.5,\t36.0,\t37.0,\t37.0,\t39.0,\t39.0,\t39.0,\t40.0,\t40.0,\t40.0,\t\n",
    "40.0,\t42.0,\t43.0,\t43.0,\t43.5,\t44.0])\n",
    "\n",
    "perch_weight =\tnp.array([5.9,\t32.0,\t40.0,\t51.5,\t70.0,\t100.0,\t78.0,\t80.0,\t85.0,\t85.0,\t\n",
    "110.0,\t115.0,\t125.0,\t130.0,\t120.0,\t120.0,\t130.0,\t135.0,\t110.0,\t130.0,\n",
    "150.0,\t145.0,\t150.0,\t170.0,\t225.0,\t145.0,\t188.0,\t180.0,\t197.0,\t218.0,\t\n",
    "300.0,\t260.0,\t265.0,\t250.0,\t250.0,\t300.0,\t320.0,\t514.0,\t556.0,\t840.0,\t\n",
    "685.0,\t700.0,\t700.0,\t690.0,\t900.0,\t650.0,\t820.0,\t850.0,\t900.0,\t1015.0,\n",
    "820.0,\t1100.0,\t1000.0,\t1100.0,\t1000.0,\t1000.0])"
   ]
  },
  {
   "cell_type": "code",
   "execution_count": 135,
   "metadata": {},
   "outputs": [
    {
     "data": {
      "image/png": "[encoded data removed]",
      "text/plain": [
       "<Figure size 432x288 with 1 Axes>"
      ]
     },
     "metadata": {
      "needs_background": "light"
     },
     "output_type": "display_data"
    }
   ],
   "source": [
    "# 산점도 확인\n",
    "plt.scatter(perch_length,perch_weight)\n",
    "plt.xlabel('length')\n",
    "plt.ylabel('weight')\n",
    "plt.show()"
   ]
  },
  {
   "cell_type": "code",
   "execution_count": 136,
   "metadata": {},
   "outputs": [
    {
     "name": "stdout",
     "output_type": "stream",
     "text": [
      "(42,) (14,)\n",
      "[19.6 22.  18.7 17.4 36.  25.  40.  39.  43.  22.  20.  22.  24.  27.5\n",
      " 43.  40.  24.  21.  27.5 40.  32.8 26.5 36.5 13.7 22.7 15.  37.  35.\n",
      " 28.7 23.5 39.  21.  23.  22.  44.  22.5 19.  37.  22.  25.6 42.  34.5]\n",
      "[ 8.4 18.  27.5 21.3 22.5 40.  30.  24.6 39.  21.  43.5 16.2 28.  27.3]\n",
      "(42,) (14,)\n",
      "[  85.  135.   78.   70.  700.  180.  850.  820. 1000.  120.   85.  130.\n",
      "  225.  260. 1100.  900.  145.  115.  265. 1015.  514.  218.  685.   32.\n",
      "  145.   40.  690.  840.  300.  170.  650.  110.  150.  110. 1000.  150.\n",
      "   80.  700.  120.  197. 1100.  556.]\n",
      "[   5.9  100.   250.   130.   130.   820.   320.   188.   900.   125.\n",
      " 1000.    51.5  250.   300. ]\n"
     ]
    }
   ],
   "source": [
    "# 훈련/테스트 데이터 분리\n",
    "train_input,test_input,train_target,test_target=train_test_split(perch_length,perch_weight,random_state=42)\n",
    "print(train_input.shape,test_input.shape)\n",
    "\n",
    "print(train_input)\n",
    "print(test_input)\n",
    "\n",
    "print(train_target.shape,test_target.shape)\n",
    "\n",
    "print(train_target)\n",
    "print(test_target)"
   ]
  },
  {
   "cell_type": "code",
   "execution_count": 137,
   "metadata": {},
   "outputs": [
    {
     "name": "stdout",
     "output_type": "stream",
     "text": [
      "(42, 1) (14, 1)\n"
     ]
    }
   ],
   "source": [
    "# 2차원 배열로 변경\n",
    "train_input=train_input.reshape(-1,1)\n",
    "test_input=test_input.reshape(-1,1)\n",
    "\n",
    "print(train_input.shape,test_input.shape)"
   ]
  },
  {
   "cell_type": "markdown",
   "metadata": {},
   "source": [
    "##### reshape()함수 예제"
   ]
  },
  {
   "cell_type": "code",
   "execution_count": 138,
   "metadata": {},
   "outputs": [
    {
     "data": {
      "text/plain": [
       "array([[19.6, 22. , 18.7, 17.4, 36. , 25. , 40. ],\n",
       "       [39. , 43. , 22. , 20. , 22. , 24. , 27.5],\n",
       "       [43. , 40. , 24. , 21. , 27.5, 40. , 32.8],\n",
       "       [26.5, 36.5, 13.7, 22.7, 15. , 37. , 35. ],\n",
       "       [28.7, 23.5, 39. , 21. , 23. , 22. , 44. ],\n",
       "       [22.5, 19. , 37. , 22. , 25.6, 42. , 34.5]])"
      ]
     },
     "execution_count": 138,
     "metadata": {},
     "output_type": "execute_result"
    }
   ],
   "source": [
    "train_input.reshape(6,-1)"
   ]
  },
  {
   "cell_type": "code",
   "execution_count": 139,
   "metadata": {},
   "outputs": [
    {
     "data": {
      "text/plain": [
       "array([[19.6, 22. ],\n",
       "       [18.7, 17.4],\n",
       "       [36. , 25. ],\n",
       "       [40. , 39. ],\n",
       "       [43. , 22. ],\n",
       "       [20. , 22. ],\n",
       "       [24. , 27.5],\n",
       "       [43. , 40. ],\n",
       "       [24. , 21. ],\n",
       "       [27.5, 40. ],\n",
       "       [32.8, 26.5],\n",
       "       [36.5, 13.7],\n",
       "       [22.7, 15. ],\n",
       "       [37. , 35. ],\n",
       "       [28.7, 23.5],\n",
       "       [39. , 21. ],\n",
       "       [23. , 22. ],\n",
       "       [44. , 22.5],\n",
       "       [19. , 37. ],\n",
       "       [22. , 25.6],\n",
       "       [42. , 34.5]])"
      ]
     },
     "execution_count": 139,
     "metadata": {},
     "output_type": "execute_result"
    }
   ],
   "source": [
    "# 배열로 변환\n",
    "train_input.reshape(21,2)\n",
    "# train_input.reshape(-1,2)로 해도 동일한 결과가 나옴"
   ]
  },
  {
   "cell_type": "markdown",
   "metadata": {},
   "source": [
    "- 행을 정하고 열에 -1을 넣든지 열을 정하고 행에 -1을 넣든지  \n",
    "  정해진 열과 행열 맞추어서 자동으로 행과 열이 지정됨\n",
    "- 이 예제들로 인해 밑에 코드가 오류 날수 있으니 주의 하자!!!"
   ]
  },
  {
   "cell_type": "markdown",
   "metadata": {},
   "source": [
    "## knn이웃 회귀"
   ]
  },
  {
   "cell_type": "code",
   "execution_count": 140,
   "metadata": {},
   "outputs": [
    {
     "name": "stdout",
     "output_type": "stream",
     "text": [
      "0.992809406101064\n"
     ]
    }
   ],
   "source": [
    "# knn이웃 회귀 알고리즘\n",
    "knr=KNeighborsRegressor().fit(train_input,train_target) # knn회귀 객체 생성\n",
    "\n",
    "print(knr.score(test_input,test_target)) # 결정계수"
   ]
  },
  {
   "cell_type": "code",
   "execution_count": 141,
   "metadata": {},
   "outputs": [
    {
     "data": {
      "text/plain": [
       "array([  60. ,   79.6,  248. ,  122. ,  136. ,  847. ,  311.4,  183.4,\n",
       "        847. ,  113. , 1010. ,   60. ,  248. ,  248. ])"
      ]
     },
     "execution_count": 141,
     "metadata": {},
     "output_type": "execute_result"
    }
   ],
   "source": [
    "# 테스트 세트에 대한 예측값\n",
    "test_prediction=knr.predict(test_input)\n",
    "test_prediction"
   ]
  },
  {
   "cell_type": "code",
   "execution_count": 142,
   "metadata": {},
   "outputs": [
    {
     "name": "stdout",
     "output_type": "stream",
     "text": [
      "19.157142857142862\n"
     ]
    }
   ],
   "source": [
    "# 테스트 세트에 대한 평균 절대 오차 계산\n",
    "mae=mean_absolute_error(test_target,test_prediction)\n",
    "print(mae)"
   ]
  },
  {
   "cell_type": "markdown",
   "metadata": {},
   "source": [
    "- 이 결과의 뜻은 19.157142857142862g 정도의 오차가 발생한다는 것을 의미"
   ]
  },
  {
   "cell_type": "code",
   "execution_count": 143,
   "metadata": {},
   "outputs": [
    {
     "name": "stdout",
     "output_type": "stream",
     "text": [
      "0.9698823289099254\n"
     ]
    }
   ],
   "source": [
    "# 훈련 세트를 사용하여 결정계수 계산\n",
    "print(knr.score(train_input,train_target))"
   ]
  },
  {
   "cell_type": "code",
   "execution_count": 144,
   "metadata": {},
   "outputs": [
    {
     "name": "stdout",
     "output_type": "stream",
     "text": [
      "0.992809406101064\n"
     ]
    }
   ],
   "source": [
    "# 테스트 세트를 사용하여 결정계수 계산\n",
    "print(knr.score(test_input,test_target)) # 위의 값과 동일하게 나옴"
   ]
  },
  {
   "cell_type": "code",
   "execution_count": 145,
   "metadata": {},
   "outputs": [
    {
     "name": "stdout",
     "output_type": "stream",
     "text": [
      "훈련 데이터로 모델의 정확도 점수 계산: 0.9804899950518966\n",
      "테스트 데이터로 모델의 정확도 점수 계산: 0.9746459963987609\n"
     ]
    }
   ],
   "source": [
    "# 이웃수를 줄여보자\n",
    "knr.n_neighbors=3\n",
    "knr.fit(train_input,train_target)\n",
    "\n",
    "print(f\"훈련 데이터로 모델의 정확도 점수 계산: {knr.score(train_input,train_target)}\")\n",
    "print(f\"테스트 데이터로 모델의 정확도 점수 계산: {knr.score(test_input,test_target)}\")"
   ]
  },
  {
   "cell_type": "markdown",
   "metadata": {},
   "source": [
    "- 이웃개수를 줄이는 것으로 테스트의 정확도는 떨어졌지만 훈련데이터의 정확도는 높아짐"
   ]
  },
  {
   "cell_type": "code",
   "execution_count": 146,
   "metadata": {},
   "outputs": [
    {
     "data": {
      "image/png": "[encoded data removed]",
      "text/plain": [
       "<Figure size 432x288 with 1 Axes>"
      ]
     },
     "metadata": {
      "needs_background": "light"
     },
     "output_type": "display_data"
    },
    {
     "data": {
      "image/png": "[encoded data removed]",
      "text/plain": [
       "<Figure size 432x288 with 1 Axes>"
      ]
     },
     "metadata": {
      "needs_background": "light"
     },
     "output_type": "display_data"
    },
    {
     "data": {
      "image/png": "[encoded data removed]",
      "text/plain": [
       "<Figure size 432x288 with 1 Axes>"
      ]
     },
     "metadata": {
      "needs_background": "light"
     },
     "output_type": "display_data"
    }
   ],
   "source": [
    "# 이웃수를 1,5,10으로 변경\n",
    "knr = KNeighborsRegressor() # knn회귀 객체 생성\n",
    "\n",
    "x = np.arange(5, 45).reshape(40, -1) # 농어의 길이를 5~45로 설정\n",
    "\n",
    "for n in [1,5,10]:\n",
    "    knr.n_neighbors=n # 이웃 개수\n",
    "    knr.fit(train_input, train_target) # 모델 훈련\n",
    "    prediction = knr.predict(x) # 예측값\n",
    "    plt.scatter(train_input, train_target, label='train\tset') # 산점도\n",
    "    plt.plot(x,\tprediction,\tlabel='prediction',\tcolor='orange') # 이웃수가 변경될 때마다 prediction값이 변경됨\n",
    "    plt.title(f'n_neighbors = {n}')\n",
    "    plt.xlabel('length')\n",
    "    plt.ylabel('weight')\n",
    "    plt.show()"
   ]
  },
  {
   "cell_type": "code",
   "execution_count": 147,
   "metadata": {},
   "outputs": [
    {
     "name": "stdout",
     "output_type": "stream",
     "text": [
      "50cm: [1033.33333333]\n",
      "100cm: [1033.33333333]\n"
     ]
    }
   ],
   "source": [
    "# 새로운 데이터로 예측\n",
    "knr=KNeighborsRegressor(n_neighbors=3) # knn회귀 이웃수는 3으로 설정\n",
    "knr.fit(train_input,train_target) # 모델 훈련\n",
    "\n",
    "print(f\"50cm: {knr.predict([[50]])}\") # 길이가 50cm일 때 무게 예측\n",
    "print(f\"100cm: {knr.predict([[100]])}\") # 길이가 100cm일 때 무게 예측"
   ]
  },
  {
   "cell_type": "code",
   "execution_count": 148,
   "metadata": {},
   "outputs": [
    {
     "name": "stdout",
     "output_type": "stream",
     "text": [
      "무게가 50cm의 주변 3개 이웃 중에 거리는?? [[6. 7. 7.]]\n",
      "무게가 50cm의 주변 3개 이웃 중에 인덱스는?? [[34  8 14]]\n"
     ]
    }
   ],
   "source": [
    "# 50cm 농어의 이웃을 구함\n",
    "distances_50, indexes_50 = knr.kneighbors([[50]])\n",
    "print(f\"무게가 50cm의 주변 3개 이웃 중에 거리는?? {distances_50}\")\n",
    "print(f\"무게가 50cm의 주변 3개 이웃 중에 인덱스는?? {indexes_50}\")"
   ]
  },
  {
   "cell_type": "code",
   "execution_count": 149,
   "metadata": {},
   "outputs": [
    {
     "name": "stdout",
     "output_type": "stream",
     "text": [
      "무게가 100cm의 주변 3개 이웃 중에 거리는?? [[56. 57. 57.]]\n",
      "무게가 100cm의 주변 3개 이웃 중에 인덱스는?? [[34  8 14]]\n"
     ]
    }
   ],
   "source": [
    "# 100cm 농어의 이웃을 구함\n",
    "distances_100, indexes_100 = knr.kneighbors([[100]])\n",
    "print(f\"무게가 100cm의 주변 3개 이웃 중에 거리는?? {distances_100}\")\n",
    "print(f\"무게가 100cm의 주변 3개 이웃 중에 인덱스는?? {indexes_100}\")"
   ]
  },
  {
   "cell_type": "code",
   "execution_count": 150,
   "metadata": {},
   "outputs": [
    {
     "data": {
      "image/png": "[encoded data removed]",
      "text/plain": [
       "<Figure size 1080x360 with 1 Axes>"
      ]
     },
     "metadata": {
      "needs_background": "light"
     },
     "output_type": "display_data"
    }
   ],
   "source": [
    "# 산점도\n",
    "plt.figure(figsize=(15,5))\n",
    "plt.scatter(train_input, train_target,label='train set')\n",
    "plt.scatter(train_input[indexes_50],train_target[indexes_50], marker='D', label='50cm neighbors')\n",
    "plt.scatter(50,\t1033,\tmarker='^',\tlabel='50cm')\n",
    "plt.scatter(train_input[indexes_100],train_target[indexes_100], marker='P',\tlabel='100cm neighbors')\n",
    "plt.scatter(100, 1033, marker='s', label='100cm')\n",
    "plt.xlim(0,\t110)\n",
    "plt.legend(loc=7)\n",
    "plt.show()"
   ]
  },
  {
   "cell_type": "markdown",
   "metadata": {},
   "source": [
    "- 50cm와 100cm는 점이 겹쳐져 있음"
   ]
  },
  {
   "cell_type": "code",
   "execution_count": 151,
   "metadata": {},
   "outputs": [
    {
     "name": "stdout",
     "output_type": "stream",
     "text": [
      "50cm neighbors indexes [[34  8 14]]\n",
      "100cm neighbors indexes [[34  8 14]]\n"
     ]
    }
   ],
   "source": [
    "# 훈련데이터에서 이웃 데이터의 인덱스 확인\n",
    "print(f\"50cm neighbors indexes {indexes_50}\")\n",
    "print(f\"100cm neighbors indexes {indexes_100}\")"
   ]
  },
  {
   "cell_type": "markdown",
   "metadata": {},
   "source": [
    "- 50cm와 100cm의 인덱스는 동일함"
   ]
  },
  {
   "cell_type": "code",
   "execution_count": 152,
   "metadata": {},
   "outputs": [
    {
     "name": "stdout",
     "output_type": "stream",
     "text": [
      "1033.3333333333333\n",
      "1033.3333333333333\n"
     ]
    }
   ],
   "source": [
    "# 이웃데이터의 무게 평균 계산\n",
    "print(np.mean(train_target[indexes_50]))\n",
    "print(np.mean(train_target[indexes_100]))"
   ]
  },
  {
   "cell_type": "markdown",
   "metadata": {},
   "source": [
    "- 이웃이 동일하니 평균의 거리도 동일함\n",
    "- 50cm와 100cm의 예측 무게가 달라야 하는데 동일하게 나오므로 문제점 발생"
   ]
  },
  {
   "cell_type": "markdown",
   "metadata": {},
   "source": [
    "## 선형회귀"
   ]
  },
  {
   "cell_type": "code",
   "execution_count": 153,
   "metadata": {},
   "outputs": [
    {
     "name": "stdout",
     "output_type": "stream",
     "text": [
      "50cm: [1241.83860323]\n",
      "회귀계수는 [39.01714496], 절편은 -709.0186449535474\n"
     ]
    }
   ],
   "source": [
    "# 회귀식을 그리기 위한 회귀계수와 절편 찾기\n",
    "lr=LinearRegression() # knn회귀 객체 생성\n",
    "lr.fit(train_input,train_target)\n",
    "\n",
    "print(f\"50cm: {lr.predict([[50]])}\")\n",
    "print(f\"회귀계수는 {lr.coef_}, 절편은 {lr.intercept_}\")"
   ]
  },
  {
   "cell_type": "code",
   "execution_count": 154,
   "metadata": {},
   "outputs": [
    {
     "data": {
      "image/png": "[encoded data removed]",
      "text/plain": [
       "<Figure size 432x288 with 1 Axes>"
      ]
     },
     "metadata": {
      "needs_background": "light"
     },
     "output_type": "display_data"
    }
   ],
   "source": [
    "# 산점도에 회귀식 추가\n",
    "plt.scatter(train_input,train_target)\n",
    "plt.plot([15,50],[15*lr.coef_+lr.intercept_,50*lr.coef_+lr.intercept_],color='red',linestyle='--')\n",
    "plt.scatter(50,1241.8,marker='^',color='orangered')\n",
    "plt.show()"
   ]
  },
  {
   "cell_type": "markdown",
   "metadata": {},
   "source": [
    "- plt.plot으로 x축과 y축의 최대값/최소값을 잇는 선이 그려짐\n",
    "- 그런데 여기서, 빨간선인 예측선이 18이하 일 때는 무게가 마이너스로 예측해서 문제점이 발생"
   ]
  },
  {
   "cell_type": "code",
   "execution_count": 155,
   "metadata": {},
   "outputs": [
    {
     "name": "stdout",
     "output_type": "stream",
     "text": [
      "[-162.77861546]\n",
      "[-123.7614705]\n",
      "[-84.74432554]\n",
      "[-45.72718057]\n",
      "[-6.71003561]\n",
      "[32.30710936]\n",
      "[71.32425432]\n",
      "[1241.83860323]\n",
      "[3192.69585141]\n"
     ]
    }
   ],
   "source": [
    "# 마이너스로 나오는 예측값\n",
    "# 무게는 0이하로 나올수가 없음\n",
    "print(lr.predict([[14]]))\n",
    "print(lr.predict([[15]]))\n",
    "print(lr.predict([[16]]))\n",
    "print(lr.predict([[17]]))\n",
    "print(lr.predict([[18]]))\n",
    "print(lr.predict([[19]]))\n",
    "print(lr.predict([[20]]))\n",
    "print(lr.predict([[50]]))\n",
    "print(lr.predict([[100]]))"
   ]
  },
  {
   "cell_type": "markdown",
   "metadata": {},
   "source": [
    "- 여기서 문제점은 15~18까지의 길이에서는 예측값인 무게가 0이하라는 것에 있음"
   ]
  },
  {
   "cell_type": "markdown",
   "metadata": {},
   "source": [
    "## 다항회귀"
   ]
  },
  {
   "cell_type": "code",
   "execution_count": 156,
   "metadata": {},
   "outputs": [
    {
     "name": "stdout",
     "output_type": "stream",
     "text": [
      "[[ 384.16   19.6 ]\n",
      " [ 484.     22.  ]\n",
      " [ 349.69   18.7 ]\n",
      " [ 302.76   17.4 ]\n",
      " [1296.     36.  ]]\n",
      "(42, 2) (14, 2)\n"
     ]
    }
   ],
   "source": [
    "# 다항회귀식 준비\n",
    "train_poly=np.column_stack((train_input**2,train_input))\n",
    "test_poly=np.column_stack((test_input**2,test_input))\n",
    "\n",
    "print(train_poly[0:5])\n",
    "print(train_poly.shape,test_poly.shape)"
   ]
  },
  {
   "cell_type": "code",
   "execution_count": 157,
   "metadata": {},
   "outputs": [
    {
     "name": "stdout",
     "output_type": "stream",
     "text": [
      "[1573.98423528]\n",
      "[  1.01433211 -21.55792498] 116.0502107827827\n"
     ]
    }
   ],
   "source": [
    "# 선형회귀 모델을 이용하여 다항회귀를 하자\n",
    "lr=LinearRegression()\n",
    "lr.fit(train_poly,train_target)\n",
    "\n",
    "print(lr.predict([[50**2,50]]))\n",
    "print(lr.coef_,lr.intercept_)"
   ]
  },
  {
   "cell_type": "code",
   "execution_count": 158,
   "metadata": {},
   "outputs": [
    {
     "data": {
      "image/png": "[encoded data removed]",
      "text/plain": [
       "<Figure size 432x288 with 1 Axes>"
      ]
     },
     "metadata": {
      "needs_background": "light"
     },
     "output_type": "display_data"
    }
   ],
   "source": [
    "# 다항 회귀식 그래프 그리기\n",
    "point=np.arange(15,51) # 길이가 15~50까지인 데이터를 가지고 무게 예측하기 \n",
    "plt.scatter(train_input,train_target)\n",
    "plt.plot(point,1.01*point**2-21.6*point+116.05,color='red',linestyle='--')\n",
    "plt.scatter([50],[1574],marker='^')\n",
    "plt.xlabel('length')\n",
    "plt.ylabel('weight')\n",
    "plt.show()"
   ]
  },
  {
   "cell_type": "markdown",
   "metadata": {},
   "source": [
    "## 다중 회귀"
   ]
  },
  {
   "cell_type": "code",
   "execution_count": 159,
   "metadata": {},
   "outputs": [
    {
     "name": "stdout",
     "output_type": "stream",
     "text": [
      "[[ 8.4   2.11  1.41]\n",
      " [13.7   3.53  2.  ]\n",
      " [15.    3.82  2.43]\n",
      " [16.2   4.59  2.63]\n",
      " [17.4   4.59  2.94]]\n",
      "(56, 3)\n"
     ]
    }
   ],
   "source": [
    "# 데이터 준비\n",
    "df=pd.read_csv('https://bit.ly/perch_csv')\n",
    "perch_full=df.to_numpy()\n",
    "\n",
    "print(perch_full[:5])\n",
    "print(perch_full.shape)"
   ]
  },
  {
   "cell_type": "code",
   "execution_count": 160,
   "metadata": {},
   "outputs": [
    {
     "name": "stdout",
     "output_type": "stream",
     "text": [
      "[[19.6   5.14  3.04]\n",
      " [22.    5.88  3.52]\n",
      " [18.7   5.2   3.12]\n",
      " [17.4   4.59  2.94]\n",
      " [36.   10.61  6.74]\n",
      " [25.    6.44  3.68]\n",
      " [40.   11.93  7.11]\n",
      " [39.   12.43  7.35]\n",
      " [43.   11.93  7.28]\n",
      " [22.    5.64  3.52]\n",
      " [20.    5.08  2.77]\n",
      " [22.    6.11  3.52]\n",
      " [24.    7.29  3.72]\n",
      " [27.5   7.17  4.34]\n",
      " [43.   12.51  7.42]\n",
      " [40.   11.73  7.22]\n",
      " [24.    6.38  3.82]\n",
      " [21.    5.92  3.31]\n",
      " [27.5   7.05  4.34]\n",
      " [40.   12.38  7.46]\n",
      " [32.8  10.03  6.02]\n",
      " [26.5   7.17  4.14]\n",
      " [36.5  10.88  6.86]\n",
      " [13.7   3.53  2.  ]\n",
      " [22.7   5.95  3.63]\n",
      " [15.    3.82  2.43]\n",
      " [37.   10.57  6.37]\n",
      " [35.   11.49  7.8 ]\n",
      " [28.7   7.59  4.64]\n",
      " [23.5   6.28  3.72]\n",
      " [39.   11.14  6.  ]\n",
      " [21.    5.69  3.56]\n",
      " [23.    5.22  3.63]\n",
      " [22.    5.52  4.  ]\n",
      " [44.   12.49  7.6 ]\n",
      " [22.5   6.79  3.62]\n",
      " [19.    5.64  3.05]\n",
      " [37.   10.84  6.26]\n",
      " [22.    6.11  3.41]\n",
      " [25.6   6.56  4.24]\n",
      " [42.   12.8   6.87]\n",
      " [34.5  10.26  6.39]]\n",
      "[  85.  135.   78.   70.  700.  180.  850.  820. 1000.  120.   85.  130.\n",
      "  225.  260. 1100.  900.  145.  115.  265. 1015.  514.  218.  685.   32.\n",
      "  145.   40.  690.  840.  300.  170.  650.  110.  150.  110. 1000.  150.\n",
      "   80.  700.  120.  197. 1100.  556.]\n",
      "(42, 3)\n",
      "(42,)\n"
     ]
    }
   ],
   "source": [
    "# 훈련/테스트 데이터 분리\n",
    "train_input,test_input,train_target,test_target=train_test_split(perch_full,perch_weight,random_state=42)\n",
    "\n",
    "print(train_input)\n",
    "print(train_target)\n",
    "\n",
    "print(train_input.shape)\n",
    "print(train_target.shape)"
   ]
  },
  {
   "cell_type": "markdown",
   "metadata": {},
   "source": [
    "- 56행을 75%는 훈련, 25%는 테스트로 하면 훈련은 42행, 테스트는 14행이 생김"
   ]
  },
  {
   "cell_type": "code",
   "execution_count": 161,
   "metadata": {},
   "outputs": [
    {
     "name": "stdout",
     "output_type": "stream",
     "text": [
      "[[1. 2. 3. 4. 6. 9.]]\n"
     ]
    }
   ],
   "source": [
    "# 절편이 있는 경우 예제\n",
    "poly=PolynomialFeatures()\n",
    "poly.fit([[2,3]])\n",
    "print(poly.transform([[2,3]]))"
   ]
  },
  {
   "cell_type": "code",
   "execution_count": 162,
   "metadata": {},
   "outputs": [
    {
     "name": "stdout",
     "output_type": "stream",
     "text": [
      "[[2. 3. 4. 6. 9.]]\n"
     ]
    }
   ],
   "source": [
    "# 절편이 없는 경우 예제\n",
    "poly=PolynomialFeatures(include_bias=False)\n",
    "poly.fit([[2,3]])\n",
    "print(poly.transform([[2,3]]))"
   ]
  },
  {
   "cell_type": "markdown",
   "metadata": {},
   "source": [
    "- PolynomialFeatures()함수로는 다항의 특성을 만들 수 있음\n",
    "- transform()함수로는 특성 조합을 실제 데이터로 변환 => 숫자데이터\n",
    "- get_feature_names()함수로는 각 특성의 조합을 알려줌 => 'x0','x1',...'x0 x1','x1^2' 이런 식으로 알려줌"
   ]
  },
  {
   "cell_type": "code",
   "execution_count": 163,
   "metadata": {},
   "outputs": [
    {
     "name": "stdout",
     "output_type": "stream",
     "text": [
      "[[ 19.6      5.14     3.04   384.16   100.744   59.584   26.4196  15.6256\n",
      "    9.2416]\n",
      " [ 22.       5.88     3.52   484.     129.36    77.44    34.5744  20.6976\n",
      "   12.3904]\n",
      " [ 18.7      5.2      3.12   349.69    97.24    58.344   27.04    16.224\n",
      "    9.7344]]\n",
      "(42, 9)\n",
      "[[  8.4      2.11     1.41    70.56    17.724   11.844    4.4521   2.9751\n",
      "    1.9881]\n",
      " [ 18.       5.22     3.32   324.      93.96    59.76    27.2484  17.3304\n",
      "   11.0224]\n",
      " [ 27.5      7.28     4.57   756.25   200.2    125.675   52.9984  33.2696\n",
      "   20.8849]]\n",
      "(14, 9)\n",
      "['x0', 'x1', 'x2', 'x0^2', 'x0 x1', 'x0 x2', 'x1^2', 'x1 x2', 'x2^2']\n"
     ]
    }
   ],
   "source": [
    "# 훈련세트로 다중특성 만들기\n",
    "poly=PolynomialFeatures(include_bias=False) # 절편 삭제\n",
    "poly.fit(train_input) \n",
    "\n",
    "train_poly=poly.transform(train_input) # 다중특성을 가진 실제 데이터\n",
    "print(train_poly[0:3])\n",
    "print(train_poly.shape)\n",
    "\n",
    "test_poly=poly.transform(test_input) # 다중특성을 가진 실제 데이터\n",
    "print(test_poly[0:3])\n",
    "print(test_poly.shape)\n",
    "\n",
    "print(poly.get_feature_names()) # ()를 빼먹지말고 꼭 쓰지"
   ]
  },
  {
   "cell_type": "code",
   "execution_count": 164,
   "metadata": {},
   "outputs": [
    {
     "data": {
      "text/plain": [
       "array([[  19.6   ,    5.14  ,    3.04  ,  384.16  ,  100.744 ,   59.584 ,\n",
       "          26.4196,   15.6256,    9.2416],\n",
       "       [  22.    ,    5.88  ,    3.52  ,  484.    ,  129.36  ,   77.44  ,\n",
       "          34.5744,   20.6976,   12.3904],\n",
       "       [  18.7   ,    5.2   ,    3.12  ,  349.69  ,   97.24  ,   58.344 ,\n",
       "          27.04  ,   16.224 ,    9.7344],\n",
       "       [  17.4   ,    4.59  ,    2.94  ,  302.76  ,   79.866 ,   51.156 ,\n",
       "          21.0681,   13.4946,    8.6436],\n",
       "       [  36.    ,   10.61  ,    6.74  , 1296.    ,  381.96  ,  242.64  ,\n",
       "         112.5721,   71.5114,   45.4276],\n",
       "       [  25.    ,    6.44  ,    3.68  ,  625.    ,  161.    ,   92.    ,\n",
       "          41.4736,   23.6992,   13.5424],\n",
       "       [  40.    ,   11.93  ,    7.11  , 1600.    ,  477.2   ,  284.4   ,\n",
       "         142.3249,   84.8223,   50.5521],\n",
       "       [  39.    ,   12.43  ,    7.35  , 1521.    ,  484.77  ,  286.65  ,\n",
       "         154.5049,   91.3605,   54.0225],\n",
       "       [  43.    ,   11.93  ,    7.28  , 1849.    ,  512.99  ,  313.04  ,\n",
       "         142.3249,   86.8504,   52.9984],\n",
       "       [  22.    ,    5.64  ,    3.52  ,  484.    ,  124.08  ,   77.44  ,\n",
       "          31.8096,   19.8528,   12.3904],\n",
       "       [  20.    ,    5.08  ,    2.77  ,  400.    ,  101.6   ,   55.4   ,\n",
       "          25.8064,   14.0716,    7.6729],\n",
       "       [  22.    ,    6.11  ,    3.52  ,  484.    ,  134.42  ,   77.44  ,\n",
       "          37.3321,   21.5072,   12.3904],\n",
       "       [  24.    ,    7.29  ,    3.72  ,  576.    ,  174.96  ,   89.28  ,\n",
       "          53.1441,   27.1188,   13.8384],\n",
       "       [  27.5   ,    7.17  ,    4.34  ,  756.25  ,  197.175 ,  119.35  ,\n",
       "          51.4089,   31.1178,   18.8356],\n",
       "       [  43.    ,   12.51  ,    7.42  , 1849.    ,  537.93  ,  319.06  ,\n",
       "         156.5001,   92.8242,   55.0564],\n",
       "       [  40.    ,   11.73  ,    7.22  , 1600.    ,  469.2   ,  288.8   ,\n",
       "         137.5929,   84.6906,   52.1284],\n",
       "       [  24.    ,    6.38  ,    3.82  ,  576.    ,  153.12  ,   91.68  ,\n",
       "          40.7044,   24.3716,   14.5924],\n",
       "       [  21.    ,    5.92  ,    3.31  ,  441.    ,  124.32  ,   69.51  ,\n",
       "          35.0464,   19.5952,   10.9561],\n",
       "       [  27.5   ,    7.05  ,    4.34  ,  756.25  ,  193.875 ,  119.35  ,\n",
       "          49.7025,   30.597 ,   18.8356],\n",
       "       [  40.    ,   12.38  ,    7.46  , 1600.    ,  495.2   ,  298.4   ,\n",
       "         153.2644,   92.3548,   55.6516],\n",
       "       [  32.8   ,   10.03  ,    6.02  , 1075.84  ,  328.984 ,  197.456 ,\n",
       "         100.6009,   60.3806,   36.2404],\n",
       "       [  26.5   ,    7.17  ,    4.14  ,  702.25  ,  190.005 ,  109.71  ,\n",
       "          51.4089,   29.6838,   17.1396],\n",
       "       [  36.5   ,   10.88  ,    6.86  , 1332.25  ,  397.12  ,  250.39  ,\n",
       "         118.3744,   74.6368,   47.0596],\n",
       "       [  13.7   ,    3.53  ,    2.    ,  187.69  ,   48.361 ,   27.4   ,\n",
       "          12.4609,    7.06  ,    4.    ],\n",
       "       [  22.7   ,    5.95  ,    3.63  ,  515.29  ,  135.065 ,   82.401 ,\n",
       "          35.4025,   21.5985,   13.1769],\n",
       "       [  15.    ,    3.82  ,    2.43  ,  225.    ,   57.3   ,   36.45  ,\n",
       "          14.5924,    9.2826,    5.9049],\n",
       "       [  37.    ,   10.57  ,    6.37  , 1369.    ,  391.09  ,  235.69  ,\n",
       "         111.7249,   67.3309,   40.5769],\n",
       "       [  35.    ,   11.49  ,    7.8   , 1225.    ,  402.15  ,  273.    ,\n",
       "         132.0201,   89.622 ,   60.84  ],\n",
       "       [  28.7   ,    7.59  ,    4.64  ,  823.69  ,  217.833 ,  133.168 ,\n",
       "          57.6081,   35.2176,   21.5296],\n",
       "       [  23.5   ,    6.28  ,    3.72  ,  552.25  ,  147.58  ,   87.42  ,\n",
       "          39.4384,   23.3616,   13.8384],\n",
       "       [  39.    ,   11.14  ,    6.    , 1521.    ,  434.46  ,  234.    ,\n",
       "         124.0996,   66.84  ,   36.    ],\n",
       "       [  21.    ,    5.69  ,    3.56  ,  441.    ,  119.49  ,   74.76  ,\n",
       "          32.3761,   20.2564,   12.6736],\n",
       "       [  23.    ,    5.22  ,    3.63  ,  529.    ,  120.06  ,   83.49  ,\n",
       "          27.2484,   18.9486,   13.1769],\n",
       "       [  22.    ,    5.52  ,    4.    ,  484.    ,  121.44  ,   88.    ,\n",
       "          30.4704,   22.08  ,   16.    ],\n",
       "       [  44.    ,   12.49  ,    7.6   , 1936.    ,  549.56  ,  334.4   ,\n",
       "         156.0001,   94.924 ,   57.76  ],\n",
       "       [  22.5   ,    6.79  ,    3.62  ,  506.25  ,  152.775 ,   81.45  ,\n",
       "          46.1041,   24.5798,   13.1044],\n",
       "       [  19.    ,    5.64  ,    3.05  ,  361.    ,  107.16  ,   57.95  ,\n",
       "          31.8096,   17.202 ,    9.3025],\n",
       "       [  37.    ,   10.84  ,    6.26  , 1369.    ,  401.08  ,  231.62  ,\n",
       "         117.5056,   67.8584,   39.1876],\n",
       "       [  22.    ,    6.11  ,    3.41  ,  484.    ,  134.42  ,   75.02  ,\n",
       "          37.3321,   20.8351,   11.6281],\n",
       "       [  25.6   ,    6.56  ,    4.24  ,  655.36  ,  167.936 ,  108.544 ,\n",
       "          43.0336,   27.8144,   17.9776],\n",
       "       [  42.    ,   12.8   ,    6.87  , 1764.    ,  537.6   ,  288.54  ,\n",
       "         163.84  ,   87.936 ,   47.1969],\n",
       "       [  34.5   ,   10.26  ,    6.39  , 1190.25  ,  353.97  ,  220.455 ,\n",
       "         105.2676,   65.5614,   40.8321]])"
      ]
     },
     "execution_count": 164,
     "metadata": {},
     "output_type": "execute_result"
    }
   ],
   "source": [
    "train_poly"
   ]
  },
  {
   "cell_type": "code",
   "execution_count": 165,
   "metadata": {},
   "outputs": [
    {
     "name": "stdout",
     "output_type": "stream",
     "text": [
      "0.9903183436982126\n",
      "0.9714559911594125\n"
     ]
    }
   ],
   "source": [
    "# 다중 회귀 모델 훈련\n",
    "lr=LinearRegression()\n",
    "lr.fit(train_poly,train_target)\n",
    "print(lr.score(train_poly,train_target))\n",
    "print(lr.score(test_poly,test_target))"
   ]
  },
  {
   "cell_type": "markdown",
   "metadata": {},
   "source": [
    "- 모델 훈련할 때 쓰는 train_poly는 9개의 특성을 가진 데이터임"
   ]
  },
  {
   "cell_type": "code",
   "execution_count": 166,
   "metadata": {},
   "outputs": [
    {
     "name": "stdout",
     "output_type": "stream",
     "text": [
      "(42, 55)\n"
     ]
    }
   ],
   "source": [
    "# 다중회귀 예제 2\n",
    "poly=PolynomialFeatures(degree=5,include_bias=False)\n",
    "poly.fit(train_input)\n",
    "train_poly_tr=poly.transform(train_input)\n",
    "test_poly_tr=poly.transform(test_input)\n",
    "\n",
    "print(train_poly_tr.shape)"
   ]
  },
  {
   "cell_type": "markdown",
   "metadata": {},
   "source": [
    "- 차수는 5로 5차 방정식을 의미하고 절편은 제거\n",
    "- 55개의 특성을 가진 데이터 생성"
   ]
  },
  {
   "cell_type": "code",
   "execution_count": 167,
   "metadata": {},
   "outputs": [
    {
     "name": "stdout",
     "output_type": "stream",
     "text": [
      "0.9903183436982126\n",
      "0.9714559911594125\n"
     ]
    }
   ],
   "source": [
    "# 다중회귀 모델 훈련 및 점수 계산\n",
    "lr.fit(train_poly,train_target)\n",
    "print(lr.score(train_poly,train_target))\n",
    "print(lr.score(test_poly,test_target))"
   ]
  },
  {
   "cell_type": "markdown",
   "metadata": {},
   "source": [
    "# 규제"
   ]
  },
  {
   "cell_type": "code",
   "execution_count": 168,
   "metadata": {},
   "outputs": [
    {
     "data": {
      "text/plain": [
       "(42, 9)"
      ]
     },
     "execution_count": 168,
     "metadata": {},
     "output_type": "execute_result"
    }
   ],
   "source": [
    "train_poly.shape"
   ]
  },
  {
   "cell_type": "code",
   "execution_count": 169,
   "metadata": {},
   "outputs": [],
   "source": [
    "# 클래스를 사용한 표준화\n",
    "from sklearn.preprocessing import StandardScaler\n",
    "\n",
    "ss=StandardScaler()\n",
    "ss.fit(train_poly_tr)\n",
    "train_scaled=ss.transform(train_poly_tr)\n",
    "test_scaled=ss.transform(test_poly_tr)"
   ]
  },
  {
   "cell_type": "code",
   "execution_count": 170,
   "metadata": {},
   "outputs": [
    {
     "name": "stdout",
     "output_type": "stream",
     "text": [
      "0.9896101671037343\n"
     ]
    }
   ],
   "source": [
    "# 릿지 회귀\n",
    "from sklearn.linear_model import Ridge\n",
    "\n",
    "ridge=Ridge()\n",
    "ridge.fit(train_scaled,train_target)\n",
    "print(ridge.score(train_scaled,train_target))"
   ]
  },
  {
   "cell_type": "code",
   "execution_count": 171,
   "metadata": {},
   "outputs": [
    {
     "name": "stdout",
     "output_type": "stream",
     "text": [
      "알파값이 2일 때 평가 점수 : 0.9894516227693472\n",
      "알파값이 0.5일 때 평가 점수 : 0.9897959087322828\n"
     ]
    }
   ],
   "source": [
    "# 알파값을 작게하거나 크게 해보기\n",
    "# alpha=1이 기본값\n",
    "ridge=Ridge(alpha=2)\n",
    "ridge.fit(train_scaled,train_target)\n",
    "print(f\"알파값이 2일 때 평가 점수 : {ridge.score(train_scaled,train_target)}\")\n",
    "\n",
    "ridge=Ridge(alpha=0.5)\n",
    "ridge.fit(train_scaled,train_target)\n",
    "print(f\"알파값이 0.5일 때 평가 점수 : {ridge.score(train_scaled,train_target)}\")\n",
    "\n",
    "# 알파값이 커질 때 규제가 강해져서 계수를 줄이는 것이 더 높은 평가 점수를 받을 수 있음"
   ]
  },
  {
   "cell_type": "code",
   "execution_count": 172,
   "metadata": {},
   "outputs": [
    {
     "data": {
      "image/png": "[encoded data removed]",
      "text/plain": [
       "<Figure size 432x288 with 1 Axes>"
      ]
     },
     "metadata": {
      "needs_background": "light"
     },
     "output_type": "display_data"
    }
   ],
   "source": [
    "# 적절한 알파값 찾기\n",
    "train_score=[]\n",
    "test_score=[]\n",
    "alpha_list=[0.001,0.01,0.1,1,10,100]\n",
    "\n",
    "for alpha in alpha_list:\n",
    "    ridge=Ridge(alpha=alpha)\n",
    "    ridge.fit(train_scaled,train_target)\n",
    "    train_score.append(ridge.score(train_scaled,train_target))\n",
    "    test_score.append(ridge.score(test_scaled,test_target))\n",
    "\n",
    "plt.plot(np.log10(alpha_list),train_score,label='train_set score',marker='o',markersize=3)\n",
    "plt.plot(np.log10(alpha_list),test_score,label='test_set score',marker='s',markersize=3)\n",
    "plt.xlabel('alpha')\n",
    "plt.ylabel('R^2')\n",
    "plt.legend()\n",
    "plt.show()"
   ]
  },
  {
   "cell_type": "markdown",
   "metadata": {},
   "source": [
    "- train과 test가 가장 가까운 알파가 로그되어진 값 -1, 즉 alpha=0,1일 때 가장 적합 "
   ]
  },
  {
   "cell_type": "code",
   "execution_count": 173,
   "metadata": {},
   "outputs": [
    {
     "name": "stdout",
     "output_type": "stream",
     "text": [
      "train의 점수: 0.9903815817570367\n",
      "test의 점수: 0.9827976465386928\n"
     ]
    }
   ],
   "source": [
    "# 알파가 0.1일 때 점수 확인\n",
    "ridge=Ridge(alpha=0.1)\n",
    "ridge.fit(train_scaled,train_target)\n",
    "\n",
    "print(f\"train의 점수: {ridge.score(train_scaled,train_target)}\")\n",
    "print(f\"test의 점수: {ridge.score(test_scaled,test_target)}\")"
   ]
  },
  {
   "cell_type": "code",
   "execution_count": 174,
   "metadata": {},
   "outputs": [
    {
     "name": "stdout",
     "output_type": "stream",
     "text": [
      "라쏘의 train 평가 점수 : 0.989789897208096\n",
      "라쏘의 test 평가 점수 : 0.9800593698421883\n"
     ]
    }
   ],
   "source": [
    "# 라쏘 회귀\n",
    "from sklearn.linear_model import Lasso\n",
    "\n",
    "lasso=Lasso() # 기본 alpha는 1\n",
    "lasso.fit(train_scaled,train_target)\n",
    "\n",
    "print(f\"라쏘의 train 평가 점수 : {lasso.score(train_scaled,train_target)}\")\n",
    "print(f\"라쏘의 test 평가 점수 : {lasso.score(test_scaled,test_target)}\")"
   ]
  },
  {
   "cell_type": "code",
   "execution_count": 176,
   "metadata": {},
   "outputs": [
    {
     "data": {
      "image/png": "[encoded data removed]",
      "text/plain": [
       "<Figure size 432x288 with 1 Axes>"
      ]
     },
     "metadata": {
      "needs_background": "light"
     },
     "output_type": "display_data"
    }
   ],
   "source": [
    "# 라쏘 회귀의 적절한 alpha값 찾기\n",
    "train_score=[]\n",
    "test_score=[]\n",
    "\n",
    "alpha_list=[0.001,0.01,0.1,1,10,100]\n",
    "for alpha in alpha_list:\n",
    "    lasso=Lasso(alpha=alpha,max_iter=10000).fit(train_scaled,train_target)\n",
    "    train_score.append(lasso.score(train_scaled,train_target))\n",
    "    test_score.append(lasso.score(test_scaled,test_target))\n",
    "\n",
    "plt.plot(np.log10(alpha_list),train_score,label='train_set score',marker='o',markersize=3)\n",
    "plt.plot(np.log10(alpha_list),test_score,label='test_set score',marker='s',markersize=3)\n",
    "plt.xlabel('alpha')\n",
    "plt.ylabel('R^2')\n",
    "plt.legend()\n",
    "plt.show()\n",
    "\n",
    "# 로그된 값이 1일때 가장 적합하므로 alpha=10일 때 가장 적절함"
   ]
  },
  {
   "cell_type": "code",
   "execution_count": 177,
   "metadata": {},
   "outputs": [
    {
     "name": "stdout",
     "output_type": "stream",
     "text": [
      "라쏘 train 평가 점수 : 0.9888067471131867\n",
      "라쏘 test 평가 점수 : 0.9824470598706695\n"
     ]
    }
   ],
   "source": [
    "# alpha가 10일 때 평가점수 확인\n",
    "lasso=Lasso(alpha=10)\n",
    "lasso.fit(train_scaled,train_target)\n",
    "\n",
    "print(f\"라쏘 train 평가 점수 : {lasso.score(train_scaled,train_target)}\")\n",
    "print(f\"라쏘 test 평가 점수 : {lasso.score(test_scaled,test_target)}\")"
   ]
  },
  {
   "cell_type": "code",
   "execution_count": null,
   "metadata": {},
   "outputs": [],
   "source": [
    "from sklearn.preprocessing import MinMaxScaler"
   ]
  }
 ],
 "metadata": {
  "kernelspec": {
   "display_name": "Python 3.9.12 ('EV_PY39')",
   "language": "python",
   "name": "python3"
  },
  "language_info": {
   "codemirror_mode": {
    "name": "ipython",
    "version": 3
   },
   "file_extension": ".py",
   "mimetype": "text/x-python",
   "name": "python",
   "nbconvert_exporter": "python",
   "pygments_lexer": "ipython3",
   "version": "3.9.12"
  },
  "orig_nbformat": 4,
  "vscode": {
   "interpreter": {
    "hash": "d1dde8d3f1fc6169eb2afb9c884f1482ff31994a855398e316a83a9dc8ff488b"
   }
  }
 },
 "nbformat": 4,
 "nbformat_minor": 2
}
