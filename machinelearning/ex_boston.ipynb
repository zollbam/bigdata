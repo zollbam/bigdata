{
 "cells": [
  {
   "cell_type": "markdown",
   "metadata": {},
   "source": [
    "## 보스턴 집값"
   ]
  },
  {
   "cell_type": "code",
   "execution_count": 263,
   "metadata": {},
   "outputs": [],
   "source": [
    "# 모듈 로딩 \n",
    "import pandas as pd\n",
    "import numpy as np\n",
    "from sklearn.linear_model import LinearRegression,Ridge,Lasso\n",
    "from sklearn.preprocessing import StandardScaler,PolynomialFeatures\n",
    "from sklearn.model_selection import train_test_split"
   ]
  },
  {
   "cell_type": "code",
   "execution_count": 264,
   "metadata": {},
   "outputs": [],
   "source": [
    "# 데이터 불러오기\n",
    "data_url = \"http://lib.stat.cmu.edu/datasets/boston\"\n",
    "raw_df = pd.read_csv(data_url, sep=\"\\s+\", skiprows=22, header=None)\n",
    "data = pd.DataFrame(np.hstack([raw_df.values[::2, :], raw_df.values[1::2, :2]]))\n",
    "data.columns=['CRIM','ZN','INDUS','CHAS','NOX','RM','AGE','DIS','RAD','TAX','PTRATIO','B','LSTAT']\n",
    "target = pd.DataFrame(raw_df.values[1::2, 2])\n",
    "target.columns=['MEDV']"
   ]
  },
  {
   "cell_type": "code",
   "execution_count": 265,
   "metadata": {},
   "outputs": [
    {
     "name": "stdout",
     "output_type": "stream",
     "text": [
      "        CRIM    ZN  INDUS  CHAS    NOX     RM   AGE     DIS  RAD    TAX  \\\n",
      "0    0.00632  18.0   2.31   0.0  0.538  6.575  65.2  4.0900  1.0  296.0   \n",
      "1    0.02731   0.0   7.07   0.0  0.469  6.421  78.9  4.9671  2.0  242.0   \n",
      "2    0.02729   0.0   7.07   0.0  0.469  7.185  61.1  4.9671  2.0  242.0   \n",
      "3    0.03237   0.0   2.18   0.0  0.458  6.998  45.8  6.0622  3.0  222.0   \n",
      "4    0.06905   0.0   2.18   0.0  0.458  7.147  54.2  6.0622  3.0  222.0   \n",
      "..       ...   ...    ...   ...    ...    ...   ...     ...  ...    ...   \n",
      "501  0.06263   0.0  11.93   0.0  0.573  6.593  69.1  2.4786  1.0  273.0   \n",
      "502  0.04527   0.0  11.93   0.0  0.573  6.120  76.7  2.2875  1.0  273.0   \n",
      "503  0.06076   0.0  11.93   0.0  0.573  6.976  91.0  2.1675  1.0  273.0   \n",
      "504  0.10959   0.0  11.93   0.0  0.573  6.794  89.3  2.3889  1.0  273.0   \n",
      "505  0.04741   0.0  11.93   0.0  0.573  6.030  80.8  2.5050  1.0  273.0   \n",
      "\n",
      "     PTRATIO       B  LSTAT  \n",
      "0       15.3  396.90   4.98  \n",
      "1       17.8  396.90   9.14  \n",
      "2       17.8  392.83   4.03  \n",
      "3       18.7  394.63   2.94  \n",
      "4       18.7  396.90   5.33  \n",
      "..       ...     ...    ...  \n",
      "501     21.0  391.99   9.67  \n",
      "502     21.0  396.90   9.08  \n",
      "503     21.0  396.90   5.64  \n",
      "504     21.0  393.45   6.48  \n",
      "505     21.0  396.90   7.88  \n",
      "\n",
      "[506 rows x 13 columns]\n"
     ]
    }
   ],
   "source": [
    "# 데이터\n",
    "print(data)"
   ]
  },
  {
   "cell_type": "code",
   "execution_count": 266,
   "metadata": {},
   "outputs": [
    {
     "name": "stdout",
     "output_type": "stream",
     "text": [
      "     MEDV\n",
      "0    24.0\n",
      "1    21.6\n",
      "2    34.7\n",
      "3    33.4\n",
      "4    36.2\n",
      "..    ...\n",
      "501  22.4\n",
      "502  20.6\n",
      "503  23.9\n",
      "504  22.0\n",
      "505  11.9\n",
      "\n",
      "[506 rows x 1 columns]\n"
     ]
    }
   ],
   "source": [
    "# 타켓\n",
    "print(target)"
   ]
  },
  {
   "cell_type": "code",
   "execution_count": 267,
   "metadata": {},
   "outputs": [],
   "source": [
    "# 훈련/테스트 데이트 나누기\n",
    "train_input,test_input,train_target,test_target=train_test_split(data,target,random_state=42)"
   ]
  },
  {
   "cell_type": "code",
   "execution_count": 268,
   "metadata": {},
   "outputs": [],
   "source": [
    "# 표준화(평균 0, 표준편차 1)\n",
    "ss=StandardScaler()\n",
    "ss.fit(train_input)\n",
    "train_scaled=ss.transform(train_input)\n",
    "test_scaled=ss.transform(test_input)"
   ]
  },
  {
   "cell_type": "code",
   "execution_count": 269,
   "metadata": {},
   "outputs": [],
   "source": [
    "# 모델 객체 생성 및 훈련\n",
    "model=LinearRegression().fit(train_scaled,train_target)"
   ]
  },
  {
   "cell_type": "code",
   "execution_count": 270,
   "metadata": {},
   "outputs": [
    {
     "name": "stdout",
     "output_type": "stream",
     "text": [
      "train 평가 점수 : 0.748087259862344\n",
      "train 평가 점수 : 0.6844267283527133\n"
     ]
    }
   ],
   "source": [
    "# 객체 평가\n",
    "print(f\"train 평가 점수 : {model.score(train_scaled,train_target)}\")\n",
    "print(f\"train 평가 점수 : {model.score(test_scaled,test_target)}\")"
   ]
  },
  {
   "cell_type": "code",
   "execution_count": 271,
   "metadata": {},
   "outputs": [
    {
     "name": "stdout",
     "output_type": "stream",
     "text": [
      "train 평가 점수 : 0.7450045402600405\n",
      "train 평가 점수 : 0.6799246794498659\n"
     ]
    }
   ],
   "source": [
    "# 모델 객체 생성 및 훈련(릿지)\n",
    "model=Ridge(alpha=20).fit(train_scaled,train_target)\n",
    "print(f\"train 평가 점수 : {model.score(train_scaled,train_target)}\")\n",
    "print(f\"train 평가 점수 : {model.score(test_scaled,test_target)}\")"
   ]
  },
  {
   "cell_type": "code",
   "execution_count": 272,
   "metadata": {},
   "outputs": [
    {
     "name": "stdout",
     "output_type": "stream",
     "text": [
      "train 평가 점수 : 0.6786122566163196\n",
      "train 평가 점수 : 0.628616376211253\n"
     ]
    }
   ],
   "source": [
    "# 모델 객체 생성 및 훈련(라쏘)\n",
    "model=Lasso(alpha=1).fit(train_scaled,train_target)\n",
    "print(f\"train 평가 점수 : {model.score(train_scaled,train_target)}\")\n",
    "print(f\"train 평가 점수 : {model.score(test_scaled,test_target)}\")"
   ]
  },
  {
   "cell_type": "code",
   "execution_count": 273,
   "metadata": {},
   "outputs": [],
   "source": [
    "# 훈련세트로 다중특성 만들기\n",
    "poly=PolynomialFeatures() # 절편 삭제\n",
    "poly.fit(train_input) \n",
    "\n",
    "train_poly=poly.transform(train_input) # 다중특성을 가진 실제 데이터\n",
    "test_poly=poly.transform(test_input) # 다중특성을 가진 실제 데이터"
   ]
  },
  {
   "cell_type": "code",
   "execution_count": 274,
   "metadata": {},
   "outputs": [
    {
     "name": "stdout",
     "output_type": "stream",
     "text": [
      "train 평가 점수 : 0.9418565360420307\n",
      "train 평가 점수 : 0.787831759283443\n"
     ]
    }
   ],
   "source": [
    "# 다중특성을 활용한 모델 객체 생성 및 훈련(릿지)\n",
    "model=Ridge(alpha=0.1).fit(train_poly,train_target)\n",
    "print(f\"train 평가 점수 : {model.score(train_poly,train_target)}\")\n",
    "print(f\"train 평가 점수 : {model.score(test_poly,test_target)}\")"
   ]
  },
  {
   "cell_type": "code",
   "execution_count": 275,
   "metadata": {},
   "outputs": [
    {
     "name": "stdout",
     "output_type": "stream",
     "text": [
      "알파가 0.1일때 test 평가점수는 0.787831759283443\n",
      "알파가 1일때 test 평가점수는 0.7751633327552637\n",
      "알파가 10일때 test 평가점수는 0.7735821268703043\n"
     ]
    }
   ],
   "source": [
    "# 알파값이 0.1 1 10일 때 테스트 점수(릿지)\n",
    "for a in [0.1,1,10]:\n",
    "    model=Ridge(alpha=a).fit(train_poly,train_target)\n",
    "    print(f\"알파가 {a}일때 test 평가점수는 {model.score(test_poly,test_target)}\")"
   ]
  },
  {
   "cell_type": "code",
   "execution_count": 276,
   "metadata": {},
   "outputs": [
    {
     "name": "stdout",
     "output_type": "stream",
     "text": [
      "train 평가 점수 : 0.9189245627705044\n",
      "train 평가 점수 : 0.7872061986906579\n"
     ]
    },
    {
     "name": "stderr",
     "output_type": "stream",
     "text": [
      "C:\\Users\\whrjs\\AppData\\Roaming\\Python\\Python39\\site-packages\\sklearn\\linear_model\\_coordinate_descent.py:648: ConvergenceWarning: Objective did not converge. You might want to increase the number of iterations, check the scale of the features or consider increasing regularisation. Duality gap: 1.580e+03, tolerance: 3.361e+00\n",
      "  model = cd_fast.enet_coordinate_descent(\n"
     ]
    }
   ],
   "source": [
    "# 다중특성을 활용한 모델 객체 생성 및 훈련(라쏘)\n",
    "model=Lasso(alpha=0.1).fit(train_poly,train_target)\n",
    "print(f\"train 평가 점수 : {model.score(train_poly,train_target)}\")\n",
    "print(f\"train 평가 점수 : {model.score(test_poly,test_target)}\")"
   ]
  },
  {
   "cell_type": "code",
   "execution_count": 277,
   "metadata": {},
   "outputs": [
    {
     "name": "stderr",
     "output_type": "stream",
     "text": [
      "C:\\Users\\whrjs\\AppData\\Roaming\\Python\\Python39\\site-packages\\sklearn\\linear_model\\_coordinate_descent.py:648: ConvergenceWarning: Objective did not converge. You might want to increase the number of iterations, check the scale of the features or consider increasing regularisation. Duality gap: 1.580e+03, tolerance: 3.361e+00\n",
      "  model = cd_fast.enet_coordinate_descent(\n",
      "C:\\Users\\whrjs\\AppData\\Roaming\\Python\\Python39\\site-packages\\sklearn\\linear_model\\_coordinate_descent.py:648: ConvergenceWarning: Objective did not converge. You might want to increase the number of iterations, check the scale of the features or consider increasing regularisation. Duality gap: 2.113e+03, tolerance: 3.361e+00\n",
      "  model = cd_fast.enet_coordinate_descent(\n",
      "C:\\Users\\whrjs\\AppData\\Roaming\\Python\\Python39\\site-packages\\sklearn\\linear_model\\_coordinate_descent.py:648: ConvergenceWarning: Objective did not converge. You might want to increase the number of iterations, check the scale of the features or consider increasing regularisation. Duality gap: 2.597e+03, tolerance: 3.361e+00\n",
      "  model = cd_fast.enet_coordinate_descent(\n"
     ]
    },
    {
     "name": "stdout",
     "output_type": "stream",
     "text": [
      "알파가 0.1일때 test 평가점수는 0.7872061986906579\n",
      "알파가 1일때 test 평가점수는 0.7997588192632024\n",
      "알파가 10일때 test 평가점수는 0.7691753916262623\n"
     ]
    }
   ],
   "source": [
    "# 알파값이 0.1 1 10일 때 테스트 점수(라쏘)\n",
    "for a in [0.1,1,10]:\n",
    "    model=Lasso(alpha=a).fit(train_poly,train_target)\n",
    "    print(f\"알파가 {a}일때 test 평가점수는 {model.score(test_poly,test_target)}\")"
   ]
  },
  {
   "cell_type": "code",
   "execution_count": 278,
   "metadata": {},
   "outputs": [
    {
     "data": {
      "text/plain": [
       "array([[ 0.        , -0.40670502, -0.50281197, ...,  0.49514985,\n",
       "        -0.26998241, -0.53563057],\n",
       "       [ 0.        , -0.41096131,  1.23157471, ...,  0.52252137,\n",
       "        -1.08393946, -0.83049161],\n",
       "       [ 0.        , -0.40502371, -0.50281197, ...,  0.39067247,\n",
       "         1.03053207,  0.50656154],\n",
       "       ...,\n",
       "       [ 0.        , -0.40071683, -0.50281197, ...,  0.26204449,\n",
       "        -0.77459731, -0.73983234],\n",
       "       [ 0.        , -0.37546815, -0.50281197, ...,  0.52252137,\n",
       "        -0.46434637, -0.6311278 ],\n",
       "       [ 0.        , -0.41550665,  3.18275972, ...,  0.43546659,\n",
       "        -0.67409098, -0.71133634]])"
      ]
     },
     "execution_count": 278,
     "metadata": {},
     "output_type": "execute_result"
    }
   ],
   "source": [
    "ss=StandardScaler()\n",
    "ss.fit(train_poly)\n",
    "train_poly_scaled=ss.transform(train_poly)\n",
    "test_poly_scaled=ss.transform(test_poly)\n",
    "test_poly_scaled"
   ]
  },
  {
   "cell_type": "code",
   "execution_count": 279,
   "metadata": {},
   "outputs": [
    {
     "data": {
      "text/plain": [
       "array([[ 0.        , -0.42099129, -0.44496424, ...,  0.51542072,\n",
       "        -0.26221976, -0.58576183],\n",
       "       [ 0.        , -0.42475396,  1.22324119, ...,  0.53993495,\n",
       "        -1.160349  , -0.87640478],\n",
       "       [ 0.        , -0.41950497, -0.44496424, ...,  0.42184968,\n",
       "         1.17278235,  0.4415214 ],\n",
       "       ...,\n",
       "       [ 0.        , -0.41569758, -0.44496424, ...,  0.3066491 ,\n",
       "        -0.81901744, -0.78704242],\n",
       "       [ 0.        , -0.39337713, -0.44496424, ...,  0.53993495,\n",
       "        -0.47668311, -0.67989294],\n",
       "       [ 0.        , -0.42877215,  3.0999723 , ...,  0.46196777,\n",
       "        -0.70811764, -0.75895407]])"
      ]
     },
     "execution_count": 279,
     "metadata": {},
     "output_type": "execute_result"
    }
   ],
   "source": [
    "# 다중특성 표준화(평균 0, 표준편차 1) \n",
    "ss=StandardScaler()\n",
    "# ss.fit(train_poly)\n",
    "train_poly_scaled=ss.fit_transform(train_poly)\n",
    "test_poly_scaled=ss.fit_transform(test_poly)\n",
    "test_poly_scaled"
   ]
  },
  {
   "cell_type": "code",
   "execution_count": 280,
   "metadata": {},
   "outputs": [
    {
     "name": "stdout",
     "output_type": "stream",
     "text": [
      "알파가 0.0일때 test 평가점수는 0.658038595082539\n",
      "알파가 0.1일때 test 평가점수는 0.7520748580066157\n",
      "알파가 0.2일때 test 평가점수는 0.7657459892854604\n",
      "알파가 0.3일때 test 평가점수는 0.771900911505416\n",
      "알파가 0.4일때 test 평가점수는 0.7754221028544191\n",
      "알파가 0.5일때 test 평가점수는 0.7777220519229242\n",
      "알파가 0.6일때 test 평가점수는 0.7793532836351512\n",
      "알파가 0.7일때 test 평가점수는 0.7805758372532652\n",
      "알파가 0.8일때 test 평가점수는 0.7815284959453588\n",
      "알파가 0.9일때 test 평가점수는 0.7822923685750311\n",
      "알파가 1.0일때 test 평가점수는 0.7829182145095449\n",
      "알파가 1.1일때 test 평가점수는 0.7834395389226386\n",
      "알파가 1.2일때 test 평가점수는 0.7838794213492188\n",
      "알파가 1.3일때 test 평가점수는 0.7842543239783016\n",
      "알파가 1.4일때 test 평가점수는 0.7845763350132403\n",
      "알파가 1.5일때 test 평가점수는 0.7848545515516198\n",
      "알파가 1.6일때 test 평가점수는 0.7850959652893991\n",
      "알파가 1.7일때 test 평가점수는 0.7853060486498228\n",
      "알파가 1.8일때 test 평가점수는 0.7854891537854789\n",
      "알파가 1.9일때 test 평가점수는 0.7856487909854072\n",
      "알파가 2.0일때 test 평가점수는 0.7857878272084714\n",
      "알파가 2.1일때 test 평가점수는 0.7859086304188917\n",
      "알파가 2.2일때 test 평가점수는 0.7860131763457239\n",
      "알파가 2.3일때 test 평가점수는 0.7861031286824642\n",
      "알파가 2.4일때 test 평가점수는 0.7861799001836404\n",
      "알파가 2.5일때 test 평가점수는 0.7862446998030803\n",
      "알파가 2.6일때 test 평가점수는 0.7862985694855716\n",
      "알파가 2.7일때 test 평가점수는 0.7863424131875703\n",
      "알파가 2.8일때 test 평가점수는 0.7863770199907804\n",
      "알파가 2.9일때 test 평가점수는 0.7864030826754094\n",
      "알파가 3.0일때 test 평가점수는 0.7864212127677367\n",
      "알파가 3.1일때 test 평가점수는 0.7864319528239054\n",
      "알파가 3.2일때 test 평가점수는 0.7864357865281625\n",
      "알파가 3.3일때 test 평가점수는 0.7864331470486396\n",
      "알파가 3.4일때 test 평가점수는 0.7864244239933704\n",
      "알파가 3.5일때 test 평가점수는 0.7864099692339376\n",
      "알파가 3.6일때 test 평가점수는 0.7863901018068895\n",
      "알파가 3.7일때 test 평가점수는 0.7863651120595512\n",
      "알파가 3.8일때 test 평가점수는 0.7863352651730244\n",
      "알파가 3.9일때 test 평가점수는 0.7863008041691701\n",
      "알파가 4.0일때 test 평가점수는 0.7862619524877509\n",
      "알파가 4.1일때 test 평가점수는 0.7862189162038923\n",
      "알파가 4.2일때 test 평가점수는 0.786171885943112\n",
      "알파가 4.3일때 test 평가점수는 0.7861210385410563\n",
      "알파가 4.4일때 test 평가점수는 0.7860665384867742\n",
      "알파가 4.5일때 test 평가점수는 0.786008539181828\n",
      "알파가 4.6일때 test 평가점수는 0.7859471840420671\n",
      "알파가 4.7일때 test 평가점수는 0.7858826074646128\n",
      "알파가 4.8일때 test 평가점수는 0.7858149356788855\n",
      "알파가 4.9일때 test 평가점수는 0.7857442874976603\n",
      "알파가 5.0일때 test 평가점수는 0.7856707749816079\n",
      "알파가 5.1일때 test 평가점수는 0.7855945040287744\n",
      "알파가 5.2일때 test 평가점수는 0.7855155748987699\n",
      "알파가 5.3일때 test 평가점수는 0.7854340826800055\n",
      "알파가 5.4일때 test 평가점수는 0.7853501177071022\n",
      "알파가 5.5일때 test 평가점수는 0.7852637659346666\n",
      "알파가 5.6일때 test 평가점수는 0.7851751092726805\n",
      "알파가 5.7일때 test 평가점수는 0.78508422588813\n",
      "알파가 5.8일때 test 평가점수는 0.7849911904768048\n",
      "알파가 5.9일때 test 평가점수는 0.7848960745087433\n",
      "알파가 6.0일때 test 평가점수는 0.7847989464503142\n",
      "알파가 6.1일때 test 평가점수는 0.7846998719655431\n",
      "알파가 6.2일때 test 평가점수는 0.7845989140990051\n",
      "알파가 6.3일때 test 평가점수는 0.7844961334422407\n",
      "알파가 6.4일때 test 평가점수는 0.7843915882855168\n",
      "알파가 6.5일때 test 평가점수는 0.7842853347564287\n",
      "알파가 6.6일때 test 평가점수는 0.7841774269467434\n",
      "알파가 6.7일때 test 평가점수는 0.7840679170286824\n",
      "알파가 6.8일때 test 평가점수는 0.7839568553617015\n",
      "알파가 6.9일때 test 평가점수는 0.7838442905907186\n",
      "알파가 7.0일때 test 평가점수는 0.7837302697366472\n",
      "알파가 7.1일때 test 평가점수는 0.7836148382799382\n",
      "알파가 7.2일때 test 평가점수는 0.7834980402378472\n",
      "알파가 7.3일때 test 평가점수는 0.7833799182359716\n",
      "알파가 7.4일때 test 평가점수는 0.7832605135746195\n",
      "알파가 7.5일때 test 평가점수는 0.7831398662904699\n",
      "알파가 7.6일때 test 평가점수는 0.7830180152139461\n",
      "알파가 7.7일때 test 평가점수는 0.7828949980226824\n",
      "알파가 7.8일때 test 평가점수는 0.7827708512914413\n",
      "알파가 7.9일때 test 평가점수는 0.7826456105387589\n",
      "알파가 8.0일때 test 평가점수는 0.7825193102706209\n",
      "알파가 8.1일때 test 평가점수는 0.782391984021406\n",
      "알파가 8.2일때 test 평가점수는 0.7822636643923201\n",
      "알파가 8.3일때 test 평가점수는 0.7821343830875342\n",
      "알파가 8.4일때 test 평가점수는 0.782004170948196\n",
      "알파가 8.5일때 test 평가점수는 0.7818730579844947\n",
      "알파가 8.6일때 test 평가점수는 0.7817410734059312\n",
      "알파가 8.7일때 test 평가점수는 0.781608245649904\n",
      "알파가 8.8일때 test 평가점수는 0.7814746024087806\n",
      "알파가 8.9일때 test 평가점수는 0.7813401706555254\n",
      "알파가 9.0일때 test 평가점수는 0.7812049766680225\n",
      "알파가 9.1일때 test 평가점수는 0.7810690460521503\n",
      "알파가 9.2일때 test 평가점수는 0.7809324037637376\n",
      "알파가 9.3일때 test 평가점수는 0.78079507412944\n",
      "알파가 9.4일때 test 평가점수는 0.7806570808666361\n",
      "알파가 9.5일때 test 평가점수는 0.7805184471024005\n",
      "알파가 9.6일때 test 평가점수는 0.7803791953916048\n",
      "알파가 9.7일때 test 평가점수는 0.780239347734222\n",
      "알파가 9.8일때 test 평가점수는 0.780098925591869\n",
      "알파가 9.9일때 test 평가점수는 0.7799579499036391\n"
     ]
    }
   ],
   "source": [
    "# 알파값이 0.1 1 10일 때 테스트 점수(릿지)\n",
    "for a in np.arange(0.0,10.0,0.1):\n",
    "    model=Ridge(alpha=a).fit(train_poly_scaled,train_target)\n",
    "    print(f\"알파가 {np.round(a,2)}일때 test 평가점수는 {model.score(test_poly_scaled,test_target)}\")"
   ]
  },
  {
   "cell_type": "code",
   "execution_count": 281,
   "metadata": {},
   "outputs": [
    {
     "name": "stdout",
     "output_type": "stream",
     "text": [
      "알파가 0.1일때 test 평가점수는 0.7469401223518608\n",
      "알파가 1일때 test 평가점수는 0.6635543295913682\n",
      "알파가 3일때 test 평가점수는 0.5411181019081225\n",
      "알파가 10일때 test 평가점수는 -0.03189647654769301\n"
     ]
    }
   ],
   "source": [
    "# 알파값이 0.1 1 10일 때 테스트 점수(릿지)\n",
    "for a in [0.1,1,3,10]:\n",
    "    model=Lasso(alpha=a).fit(train_poly_scaled,train_target)\n",
    "    print(f\"알파가 {a}일때 test 평가점수는 {model.score(test_poly_scaled,test_target)}\")"
   ]
  },
  {
   "cell_type": "code",
   "execution_count": null,
   "metadata": {},
   "outputs": [],
   "source": []
  },
  {
   "cell_type": "code",
   "execution_count": null,
   "metadata": {},
   "outputs": [],
   "source": []
  }
 ],
 "metadata": {
  "kernelspec": {
   "display_name": "Python 3.9.12 ('EV_PY39')",
   "language": "python",
   "name": "python3"
  },
  "language_info": {
   "codemirror_mode": {
    "name": "ipython",
    "version": 3
   },
   "file_extension": ".py",
   "mimetype": "text/x-python",
   "name": "python",
   "nbconvert_exporter": "python",
   "pygments_lexer": "ipython3",
   "version": "3.9.12"
  },
  "orig_nbformat": 4,
  "vscode": {
   "interpreter": {
    "hash": "d1dde8d3f1fc6169eb2afb9c884f1482ff31994a855398e316a83a9dc8ff488b"
   }
  }
 },
 "nbformat": 4,
 "nbformat_minor": 2
}
