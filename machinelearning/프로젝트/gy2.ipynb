{
 "cells": [
  {
   "cell_type": "markdown",
   "metadata": {},
   "source": [
    "# 애니메이션 캐릭터 이미지 사진으로 닮은 캐릭터 예측하기"
   ]
  },
  {
   "cell_type": "markdown",
   "metadata": {},
   "source": [
    "## 이미지 크롤링"
   ]
  },
  {
   "cell_type": "code",
   "execution_count": null,
   "metadata": {},
   "outputs": [],
   "source": [
    "# 참고 사이트\n",
    "- https://crmn.tistory.com/50\n",
    "- https://wikidocs.net/29530\n",
    "- https://www.remove.bg/ko/upload?source=navbar"
   ]
  },
  {
   "cell_type": "code",
   "execution_count": 78,
   "metadata": {},
   "outputs": [],
   "source": [
    "# 모듈 로딩\n",
    "from urllib.request import urlopen,Request,urlretrieve\n",
    "from bs4 import BeautifulSoup\n",
    "from selenium import webdriver\n",
    "from PIL import Image\n",
    "from sklearn.linear_model import LogisticRegression\n",
    "from sklearn.utils import all_estimators\n",
    "from sklearn.model_selection import train_test_split,GridSearchCV\n",
    "from sklearn.preprocessing import StandardScaler\n",
    "from sklearn.svm import NuSVC\n",
    "import matplotlib.pyplot as plt\n",
    "import os\n",
    "import cv2\n",
    "import numpy as np "
   ]
  },
  {
   "cell_type": "code",
   "execution_count": 10,
   "metadata": {},
   "outputs": [],
   "source": [
    "# 동적 웹 크롤링으로 사진저장 함수\n",
    "def image_save(urlpath,charname):\n",
    "    driver = webdriver.Chrome('C:/Users/whrjs/PycharmProjects/exam\\day_0725/chromedriver.exe')\n",
    "    #driver = webdriver.Chrome('C:\\\\workspace’) # Windows 사용자의 설치 경로\n",
    "    driver.get(urlpath)\n",
    "    html=driver.page_source\n",
    "    soup=BeautifulSoup(html,'html.parser')\n",
    "    driver.quit()\n",
    "\n",
    "    # 태그-속성 찾기\n",
    "    image_finds=soup.select(\"div.bRMDJf img\")\n",
    "    \n",
    "    # 이미지의 url찾기\n",
    "    image=[]\n",
    "    for image_find in image_finds:\n",
    "        try:\n",
    "            image.append(image_find['src'])\n",
    "            image.append(image_find['data-src'])\n",
    "        except:\n",
    "            pass\n",
    "    \n",
    "    # 폴더 만들기\n",
    "    if not os.path.exists('./project2/'+charname):\n",
    "        os.makedirs(charname)\n",
    "    \n",
    "    # 파일 저장하기\n",
    "    for i in range(0,len(image)):\n",
    "        urlretrieve(image[i],'./project2/'+charname+'/'+charname+str(i)+'.png')\n",
    "\n",
    "    # 파일 크기 조절\n",
    "    for png in os.listdir('./project2/'+charname):\n",
    "        Image.open('./project2/'+charname+'/'+png).resize((40,40)).save('./project2/'+charname+'/'+png)"
   ]
  },
  {
   "cell_type": "code",
   "execution_count": 164,
   "metadata": {},
   "outputs": [
    {
     "name": "stderr",
     "output_type": "stream",
     "text": [
      "C:\\Users\\whrjs\\AppData\\Local\\Temp\\ipykernel_26260\\910340126.py:3: DeprecationWarning: executable_path has been deprecated, please pass in a Service object\n",
      "  driver = webdriver.Chrome('C:/Users/whrjs/PycharmProjects/exam\\day_0725/chromedriver.exe')\n"
     ]
    }
   ],
   "source": [
    "# 피카츄\n",
    "image_save('https://www.google.com/search?q=pickachu+png&tbm=isch&ved=2ahUKEwjU_7Gp-4P6AhUKEZQKHeThBnAQ2-cCegQIABAA&oq=pickachu+png&gs_lcp=CgNpbWcQAzIECAAQEzIICAAQHhAHEBMyCAgAEB4QBxATMggIABAeEAUQE1D0Blj0BmDTD2gAcAB4AIABpQKIAaoEkgEDMi0ymAEAoAEBqgELZ3dzLXdpei1pbWfAAQE&sclient=img&ei=hDoZY9StL4qi0ATkw5uABw&bih=892&biw=1920&rlz=1C1CHZN_koKR1011KR1011&hl=ko','pikachu')"
   ]
  },
  {
   "cell_type": "code",
   "execution_count": 9,
   "metadata": {},
   "outputs": [
    {
     "name": "stderr",
     "output_type": "stream",
     "text": [
      "C:\\Users\\whrjs\\AppData\\Local\\Temp\\ipykernel_26260\\910340126.py:3: DeprecationWarning: executable_path has been deprecated, please pass in a Service object\n",
      "  driver = webdriver.Chrome('C:/Users/whrjs/PycharmProjects/exam\\day_0725/chromedriver.exe')\n"
     ]
    }
   ],
   "source": [
    "# 나미\n",
    "image_save('https://www.google.com/search?q=onepiece+nami+png&tbm=isch&ved=2ahUKEwiXh9-Y-oP6AhVNAKYKHeUGBgMQ2-cCegQIABAA&oq=onepiece+nami+png&gs_lcp=CgNpbWcQAzoFCAAQgAQ6BggAEB4QB1CpB1ixImC4JmgBcAB4AYABlASIAeUVkgEKMS4xMC4yLjUtMZgBAKABAaoBC2d3cy13aXotaW1nwAEB&sclient=img&ei=VTkZY9eIGs2AmAXljZgY&bih=892&biw=1920&rlz=1C1CHZN_koKR1011KR1011&hl=ko','nami')\n",
    "\n",
    "# 이슬이\n",
    "image_save('https://www.google.com/search?q=pokemon+kasumi+png&tbm=isch&ved=2ahUKEwitw7K_-oP6AhVBFYgKHXNmDzMQ2-cCegQIABAA&oq=pokemon+kasumi+png&gs_lcp=CgNpbWcQAzoFCAAQgAQ6BggAEB4QBzoICAAQgAQQsQM6BAgAEBM6CAgAEB4QBxATUJsIWMZAYOZCaARwAHgAgAG-AogBxx6SAQgwLjE3LjMuMZgBAKABAaoBC2d3cy13aXotaW1nwAEB&sclient=img&ei=pjkZY63YHcGqoATzzL2YAw&bih=892&biw=1920&rlz=1C1CHZN_koKR1011KR1011&hl=ko','kasumi')\n",
    "\n",
    "# 모리 란\n",
    "image_save('https://www.google.com/search?q=mori+ran+png&tbm=isch&ved=2ahUKEwiTpJjJ-oP6AhUERvUHHaCiBkIQ2-cCegQIABAA&oq=mori+ran+png&gs_lcp=CgNpbWcQAzIICAAQHhAIEAcyCAgAEB4QCBAHMggIABAeEAgQBzoECAAQEzoICAAQHhAHEBNQuQdY-hNglxVoAHAAeACAAdYBiAHyC5IBBTAuNi4ymAEAoAEBqgELZ3dzLXdpei1pbWfAAQE&sclient=img&ei=uzkZY9PaAYSM1e8PoMWakAQ&bih=892&biw=1920&rlz=1C1CHZN_koKR1011KR1011&hl=ko','ran')\n",
    "\n",
    "# 하이바라 아이\n",
    "image_save('https://www.google.com/search?q=haibara+ai+png&tbm=isch&ved=2ahUKEwiNoubY-oP6AhWSA94KHblpA8EQ2-cCegQIABAA&oq=haibara+ai+png&gs_lcp=CgNpbWcQAzIECAAQE1CHBliHBmDVC2gAcAB4AIAB2AGIAZoDkgEFMC4xLjGYAQCgAQGqAQtnd3Mtd2l6LWltZ8ABAQ&sclient=img&ei=2zkZY83ILpKH-Aa5042IDA&bih=892&biw=1920&rlz=1C1CHZN_koKR1011KR1011&hl=ko','haibara')\n",
    "\n",
    "# 쿠시나\n",
    "image_save('https://www.google.com/search?q=kusina+png&tbm=isch&ved=2ahUKEwjM0Lnb-oP6AhVOeN4KHf-gDxEQ2-cCegQIABAA&oq=kusina+png&gs_lcp=CgNpbWcQAzIECAAQEzoFCAAQgAQ6BggAEB4QBzoICAAQHhAHEBNQ9wZYxw9g_hFoAHAAeACAAdIBiAHFCpIBBTAuNS4ymAEAoAEBqgELZ3dzLXdpei1pbWfAAQE&sclient=img&ei=4TkZY4zcE87w-Qb_wb6IAQ&bih=892&biw=1920&rlz=1C1CHZN_koKR1011KR1011&hl=ko','kusina')\n",
    "\n",
    "# 란기쿠\n",
    "image_save('https://www.google.com/search?q=rangiku+png&tbm=isch&ved=2ahUKEwjevs3j-oP6AhWhSfUHHQtvBIsQ2-cCegQIABAA&oq=rangiku+png&gs_lcp=CgNpbWcQAzoECAAQE1DeAljeAmD7BmgAcAB4AIAB0QKIAbcEkgEFMi0xLjGYAQCgAQGqAQtnd3Mtd2l6LWltZ8ABAQ&sclient=img&ei=8jkZY979GaGT1e8Pi96R2Ag&bih=892&biw=1920&rlz=1C1CHZN_koKR1011KR1011&hl=ko','rangiku')\n",
    "\n",
    "# 사쿠라\n",
    "image_save('https://www.google.com/search?q=cardcaptor+sakura+png&tbm=isch&ved=2ahUKEwiXmqr_-oP6AhWCAaYKHQALDkYQ2-cCegQIABAA&oq=cardcaptor+sakura+png&gs_lcp=CgNpbWcQAzIFCAAQgAQyBggAEB4QBzIGCAAQHhAHMgYIABAeEAcyBggAEB4QBzIGCAAQHhAHMgYIABAeEAcyBggAEB4QBzIGCAAQHhAHMgYIABAeEAc6BAgAEBM6CAgAEB4QBxATOggIABCABBCxA1CKB1juM2CDOWgDcAB4AIABrQKIAZgYkgEIMC4xMS40LjGYAQCgAQGqAQtnd3Mtd2l6LWltZ8ABAQ&sclient=img&ei=LDoZY5fUIoKDmAWAlriwBA&bih=892&biw=1920&rlz=1C1CHZN_koKR1011KR1011&hl=ko','sakura')\n",
    "\n",
    "# 지수\n",
    "image_save('https://www.google.com/search?q=daidouuji+tomoyo+png&tbm=isch&ved=2ahUKEwjJ6vSS-oP6AhVzxIsBHSBBDZ4Q2-cCegQIABAA&oq=daidouuji+tomoyo+png&gs_lcp=CgNpbWcQA1CBBlj7B2DDCWgAcAB4AIABsgGIAd0CkgEDMC4ymAEAoAEBqgELZ3dzLXdpei1pbWfAAQE&sclient=img&ei=STkZY4miDPOIr7wPoIK18Ak&bih=892&biw=1920&rlz=1C1CHZN_koKR1011KR1011&hl=ko','tomoyo')\n",
    "\n",
    "# 치치\n",
    "image_save('https://www.google.com/search?q=chichi+png&tbm=isch&ved=2ahUKEwiCz4uJ-4P6AhVRxosBHfEtB2QQ2-cCegQIABAA&oq=chichi+png&gs_lcp=CgNpbWcQAzIECAAQEzIICAAQHhAHEBMyCAgAEB4QBxATMggIABAeEAcQEzIICAAQHhAHEBMyCAgAEB4QBxATMggIABAeEAcQEzoFCAAQgAQ6BAgAEB46BggAEB4QCDoGCAAQHhAHUNsOWNsOYIMXaABwAHgAgAGvAYgB0AKSAQMwLjKYAQCgAQGqAQtnd3Mtd2l6LWltZ8ABAQ&sclient=img&ei=QToZY8KqAtGMr7wP8ducoAY&bih=892&biw=1920&rlz=1C1CHZN_koKR1011KR1011&hl=ko','chichi')\n",
    "\n",
    "# 루피\n",
    "image_save('https://www.google.com/search?q=pororo+luffy+png&tbm=isch&ved=2ahUKEwiw7KCV-4P6AhUNhZQKHZXEBdEQ2-cCegQIABAA&oq=pororo+luffy+png&gs_lcp=CgNpbWcQAzoECAAQEzoICAAQHhAIEBNQ7gNYmSJguyRoAXAAeACAAbsBiAGDCZIBAzAuN5gBAKABAaoBC2d3cy13aXotaW1nwAEB&sclient=img&ei=WjoZY7DXIY2K0gSViZeIDQ&bih=892&biw=1920&rlz=1C1CHZN_koKR1011KR1011&hl=ko','pororo_luffy')"
   ]
  },
  {
   "cell_type": "code",
   "execution_count": 11,
   "metadata": {},
   "outputs": [
    {
     "name": "stderr",
     "output_type": "stream",
     "text": [
      "C:\\Users\\whrjs\\AppData\\Local\\Temp\\ipykernel_26260\\910340126.py:3: DeprecationWarning: executable_path has been deprecated, please pass in a Service object\n",
      "  driver = webdriver.Chrome('C:/Users/whrjs/PycharmProjects/exam\\day_0725/chromedriver.exe')\n"
     ]
    }
   ],
   "source": [
    "# 루피\n",
    "image_save('https://www.google.com/search?q=onepiece+luffy+png&tbm=isch&ved=2ahUKEwiNtPic-4P6AhUKzosBHQU4CqYQ2-cCegQIABAA&oq=onepiece+luffy+png&gs_lcp=CgNpbWcQAzIECAAQEzoGCAAQHhAHOgYIABAeEAhQkwhY1jRgtDZoAnAAeACAAcwCiAGPFJIBBzAuMi44LjGYAQCgAQGqAQtnd3Mtd2l6LWltZ8ABAQ&sclient=img&ei=ajoZY43XKIqcr7wPhfCosAo&bih=892&biw=1920&rlz=1C1CHZN_koKR1011KR1011&hl=ko','luffy')\n",
    "\n",
    "# 피카츄\n",
    "image_save('https://www.google.com/search?q=pickachu+png&tbm=isch&ved=2ahUKEwjU_7Gp-4P6AhUKEZQKHeThBnAQ2-cCegQIABAA&oq=pickachu+png&gs_lcp=CgNpbWcQAzIECAAQEzIICAAQHhAHEBMyCAgAEB4QBxATMggIABAeEAUQE1D0Blj0BmDTD2gAcAB4AIABpQKIAaoEkgEDMi0ymAEAoAEBqgELZ3dzLXdpei1pbWfAAQE&sclient=img&ei=hDoZY9StL4qi0ATkw5uABw&bih=892&biw=1920&rlz=1C1CHZN_koKR1011KR1011&hl=ko','pikachu')\n",
    "\n",
    "# 아구몬\n",
    "image_save('https://www.google.com/search?q=agumon+png&tbm=isch&ved=2ahUKEwj5mPCx-4P6AhU-zYsBHZU2DAEQ2-cCegQIABAA&oq=agumon+png&gs_lcp=CgNpbWcQAzIECAAQEzIICAAQHhAHEBMyCAgAEB4QBRATMggIABAeEAUQEzoICAAQHhAIEBNQzAVYzAVgiAloAHAAeACAAbsBiAHxApIBAzAuMpgBAKABAaoBC2d3cy13aXotaW1nwAEB&sclient=img&ei=ljoZY_n1Ir6ar7wPle2wCA&bih=892&biw=1920&rlz=1C1CHZN_koKR1011KR1011&hl=ko','agumon')\n",
    "\n",
    "# 우디\n",
    "image_save('https://www.google.com/search?q=woody+png&tbm=isch&ved=2ahUKEwjc1aWi5YP6AhVIc5QKHWOLB8kQ2-cCegQIABAA&oq=woody+png&gs_lcp=CgNpbWcQAzIFCAAQgAQyBggAEB4QBzIGCAAQHhAHMgYIABAeEAcyBggAEB4QBzIGCAAQHhAHMgYIABAeEAcyBggAEB4QBzIGCAAQHhAHMgYIABAeEAdQ-wdY-wdgzQ1oAHAAeACAAfcBiAGtA5IBBTAuMS4xmAEAoAEBqgELZ3dzLXdpei1pbWfAAQE&sclient=img&ei=ZCMZY9yTE8jm0QTjlp7IDA&bih=892&biw=1920&rlz=1C1CHZN_koKR1011KR1011&hl=ko','woody')\n",
    "\n",
    "# 유우기\n",
    "image_save('https://www.google.com/search?q=yugi+png&tbm=isch&ved=2ahUKEwiOrZLK-4P6AhV_yYsBHdFcDfQQ2-cCegQIABAA&oq=yugi+png&gs_lcp=CgNpbWcQAzIECAAQEzIECAAQEzIICAAQHhAHEBMyCAgAEB4QBxATMggIABAeEAcQEzIICAAQHhAHEBMyCAgAEB4QBxATMggIABAeEAcQEzIICAAQHhAHEBMyCAgAEB4QBxATOgUIABCABDoGCAAQHhAHOggIABCABBCxA1D9BlivDmC7EWgAcAB4AIAB1wGIAfMFkgEFMC4zLjGYAQCgAQGqAQtnd3Mtd2l6LWltZ8ABAQ&sclient=img&ei=yToZY86kHP-Sr7wP0bm1oA8&bih=892&biw=1920&rlz=1C1CHZN_koKR1011KR1011&hl=ko','yugi')\n",
    "\n",
    "# 해피\n",
    "image_save('https://www.google.com/search?q=fairytail+happy+png&tbm=isch&ved=2ahUKEwjT0ova-4P6AhV6z4sBHes2BzUQ2-cCegQIABAA&oq=fairytail+happy+png&gs_lcp=CgNpbWcQA1C0AViSBGC3BWgAcAB4AIABlAOIAZQDkgEDNC0xmAEAoAEBqgELZ3dzLXdpei1pbWfAAQE&sclient=img&ei=6joZY9O1N_qer7wP6-2cqAM&bih=892&biw=1920&rlz=1C1CHZN_koKR1011KR1011&hl=ko','happy')\n",
    "\n",
    "# 소요\n",
    "image_save('https://www.google.com/search?q=hinata+shoyo+png&tbm=isch&ved=2ahUKEwjxnrzo-4P6AhXMG6YKHWnqDKwQ2-cCegQIABAA&oq=hinata+shoyo+png&gs_lcp=CgNpbWcQAzIECAAQEzIECAAQEzIECAAQEzIECAAQEzIECAAQEzIECAAQEzIECAAQEzIGCAAQHhATMggIABAeEAUQEzIICAAQHhAFEBM6BAgAEB5QygZYygZgkwxoAHAAeACAAcQCiAH5A5IBBzAuMS4wLjGYAQCgAQGqAQtnd3Mtd2l6LWltZ8ABAQ&sclient=img&ei=CTsZY7H2A8y3mAXp1LPgCg&bih=892&biw=1920&rlz=1C1CHZN_koKR1011KR1011&hl=ko','shoyo')\n",
    "\n",
    "# 펭수\n",
    "image_save('https://www.google.com/search?q=pengsoo+png&tbm=isch&ved=2ahUKEwjR6a34-4P6AhUGEJQKHYhdAgcQ2-cCegQIABAA&oq=pengsoo+png&gs_lcp=CgNpbWcQAzIFCAAQgAQ6BggAEB4QB1CXFViAGWCFIGgAcAB4AIABtQGIAZEFkgEDMC40mAEAoAEBqgELZ3dzLXdpei1pbWfAAQE&sclient=img&ei=KjsZY9GsF4ag0ASIu4k4&bih=892&biw=1920&rlz=1C1CHZN_koKR1011KR1011&hl=ko','pengsoo')\n",
    "\n",
    "# 손오공\n",
    "image_save('https://www.google.com/search?q=songoku+png&tbm=isch&ved=2ahUKEwiXm8T--4P6AhUOv5QKHYLoD7MQ2-cCegQIABAA&oq=songoku+png&gs_lcp=CgNpbWcQAzIECAAQEzIICAAQHhAHEBMyCAgAEB4QBRATOgUIABCABFCyBFiyBGCkB2gAcAB4AIABuAGIAesCkgEDMC4ymAEAoAEBqgELZ3dzLXdpei1pbWfAAQE&sclient=img&ei=NzsZY9ejFI7-0gSC0b-YCw&bih=892&biw=1920&rlz=1C1CHZN_koKR1011KR1011&hl=ko','songoku')\n",
    "\n",
    "# 크롱\n",
    "image_save('https://www.google.com/search?q=crong+png&tbm=isch&ved=2ahUKEwjLzKmH_IP6AhUFxosBHfDOCioQ2-cCegQIABAA&oq=crong+png&gs_lcp=CgNpbWcQAzIECAAQEzIICAAQHhAHEBMyCAgAEB4QBxATMggIABAeEAgQEzoFCAAQgAQ6BggAEB4QB1DxBliiD2D0FWgAcAB4AIABugGIAY8IkgEDMC42mAEAoAEBqgELZ3dzLXdpei1pbWfAAQE&sclient=img&ei=STsZY4uEL4WMr7wP8J2r0AI&bih=892&biw=1920&rlz=1C1CHZN_koKR1011KR1011&hl=ko','crong')"
   ]
  },
  {
   "cell_type": "code",
   "execution_count": 79,
   "metadata": {},
   "outputs": [],
   "source": [
    "# 배열 변환\n",
    "input=np.array([[0]*1600])\n",
    "target=[]\n",
    "for fold in os.listdir('./'):\n",
    "    if fold=='gy2.ipynb':\n",
    "        continue\n",
    "    else:\n",
    "        for file in os.listdir('./'+fold):\n",
    "            target.append(fold)\n",
    "            im=cv2.imread('./'+fold+'/'+file)\n",
    "            black=cv2.cvtColor(im,cv2.COLOR_BGR2GRAY)\n",
    "            black_arr=black.reshape(-1,40*40)\n",
    "            input=np.row_stack((input,black_arr))"
   ]
  },
  {
   "cell_type": "code",
   "execution_count": 80,
   "metadata": {},
   "outputs": [],
   "source": [
    "# 훈련가능하게 데이터 변환하기\n",
    "input_arr=input[1:]\n",
    "target_arr=np.array(target)"
   ]
  },
  {
   "cell_type": "code",
   "execution_count": 81,
   "metadata": {},
   "outputs": [],
   "source": [
    "# 타겟데이터를 수치형으로\n",
    "target_num=[]\n",
    "target_uni=['agumon']\n",
    "n=0\n",
    "com='agumon'\n",
    "for tar in target:\n",
    "    if com==tar:\n",
    "        target_num.append(n)\n",
    "    else:\n",
    "        n+=1\n",
    "        com=tar\n",
    "        target_num.append(n)\n",
    "        target_uni.append(tar)\n",
    "target_num_arr=np.array(target_num)"
   ]
  },
  {
   "cell_type": "code",
   "execution_count": 82,
   "metadata": {},
   "outputs": [],
   "source": [
    "# 훈련/테스트 데이터 나누기\n",
    "train_input,test_input,train_target,test_target=train_test_split(input_arr,target_num_arr,random_state=42,stratify=target_num_arr)"
   ]
  },
  {
   "cell_type": "markdown",
   "metadata": {},
   "source": [
    "## 로지스틱 회귀"
   ]
  },
  {
   "cell_type": "code",
   "execution_count": 83,
   "metadata": {},
   "outputs": [
    {
     "name": "stderr",
     "output_type": "stream",
     "text": [
      "C:\\Users\\whrjs\\AppData\\Roaming\\Python\\Python39\\site-packages\\sklearn\\linear_model\\_logistic.py:444: ConvergenceWarning: lbfgs failed to converge (status=1):\n",
      "STOP: TOTAL NO. of ITERATIONS REACHED LIMIT.\n",
      "\n",
      "Increase the number of iterations (max_iter) or scale the data as shown in:\n",
      "    https://scikit-learn.org/stable/modules/preprocessing.html\n",
      "Please also refer to the documentation for alternative solver options:\n",
      "    https://scikit-learn.org/stable/modules/linear_model.html#logistic-regression\n",
      "  n_iter_i = _check_optimize_result(\n"
     ]
    }
   ],
   "source": [
    "logicreg=LogisticRegression().fit(train_input,train_target)"
   ]
  },
  {
   "cell_type": "code",
   "execution_count": 84,
   "metadata": {},
   "outputs": [
    {
     "name": "stdout",
     "output_type": "stream",
     "text": [
      "train 평가 점수 1.0\n",
      "test 평가 점수 0.3805309734513274\n"
     ]
    }
   ],
   "source": [
    "print(f\"train 평가 점수 {logicreg.score(train_input,train_target)}\")\n",
    "print(f\"test 평가 점수 {logicreg.score(test_input,test_target)}\")"
   ]
  },
  {
   "cell_type": "code",
   "execution_count": 85,
   "metadata": {},
   "outputs": [
    {
     "name": "stdout",
     "output_type": "stream",
     "text": [
      "AdaBoostClassifier\n",
      "0.14285714285714285    0.1415929203539823\n",
      "BaggingClassifier\n",
      "0.9970238095238095    0.3274336283185841\n",
      "BernoulliNB\n",
      "0.14583333333333334    0.07964601769911504\n",
      "CalibratedClassifierCV\n"
     ]
    },
    {
     "name": "stderr",
     "output_type": "stream",
     "text": [
      "C:\\Users\\whrjs\\AppData\\Roaming\\Python\\Python39\\site-packages\\sklearn\\svm\\_base.py:1225: ConvergenceWarning: Liblinear failed to converge, increase the number of iterations.\n",
      "  warnings.warn(\n",
      "C:\\Users\\whrjs\\AppData\\Roaming\\Python\\Python39\\site-packages\\sklearn\\svm\\_base.py:1225: ConvergenceWarning: Liblinear failed to converge, increase the number of iterations.\n",
      "  warnings.warn(\n",
      "C:\\Users\\whrjs\\AppData\\Roaming\\Python\\Python39\\site-packages\\sklearn\\svm\\_base.py:1225: ConvergenceWarning: Liblinear failed to converge, increase the number of iterations.\n",
      "  warnings.warn(\n",
      "C:\\Users\\whrjs\\AppData\\Roaming\\Python\\Python39\\site-packages\\sklearn\\svm\\_base.py:1225: ConvergenceWarning: Liblinear failed to converge, increase the number of iterations.\n",
      "  warnings.warn(\n",
      "C:\\Users\\whrjs\\AppData\\Roaming\\Python\\Python39\\site-packages\\sklearn\\svm\\_base.py:1225: ConvergenceWarning: Liblinear failed to converge, increase the number of iterations.\n",
      "  warnings.warn(\n"
     ]
    },
    {
     "name": "stdout",
     "output_type": "stream",
     "text": [
      "0.9642857142857143    0.3008849557522124\n",
      "CategoricalNB\n",
      "0.8452380952380952    0.17699115044247787\n",
      "ClassifierChain\n",
      "__init__() missing 1 required positional argument: 'base_estimator'\n",
      "ComplementNB\n",
      "0.5089285714285714    0.2831858407079646\n",
      "DecisionTreeClassifier\n",
      "1.0    0.23008849557522124\n",
      "DummyClassifier\n",
      "0.0744047619047619    0.07079646017699115\n",
      "ExtraTreeClassifier\n",
      "1.0    0.1504424778761062\n",
      "ExtraTreesClassifier\n",
      "1.0    0.48672566371681414\n",
      "GaussianNB\n",
      "0.6607142857142857    0.22123893805309736\n",
      "GaussianProcessClassifier\n",
      "1.0    0.08849557522123894\n",
      "GradientBoostingClassifier\n",
      "1.0    0.36283185840707965\n",
      "HistGradientBoostingClassifier\n",
      "1.0    0.48672566371681414\n",
      "KNeighborsClassifier\n",
      "0.40476190476190477    0.21238938053097345\n",
      "LabelPropagation\n",
      "1.0    0.061946902654867256\n",
      "LabelSpreading\n",
      "1.0    0.061946902654867256\n",
      "LinearDiscriminantAnalysis\n"
     ]
    },
    {
     "name": "stderr",
     "output_type": "stream",
     "text": [
      "C:\\Users\\whrjs\\AppData\\Roaming\\Python\\Python39\\site-packages\\sklearn\\semi_supervised\\_label_propagation.py:222: RuntimeWarning: invalid value encountered in true_divide\n",
      "  probabilities /= normalizer\n",
      "C:\\Users\\whrjs\\AppData\\Roaming\\Python\\Python39\\site-packages\\sklearn\\semi_supervised\\_label_propagation.py:222: RuntimeWarning: invalid value encountered in true_divide\n",
      "  probabilities /= normalizer\n"
     ]
    },
    {
     "name": "stdout",
     "output_type": "stream",
     "text": [
      "0.9523809523809523    0.08849557522123894\n",
      "LinearSVC\n"
     ]
    },
    {
     "name": "stderr",
     "output_type": "stream",
     "text": [
      "C:\\Users\\whrjs\\AppData\\Roaming\\Python\\Python39\\site-packages\\sklearn\\svm\\_base.py:1225: ConvergenceWarning: Liblinear failed to converge, increase the number of iterations.\n",
      "  warnings.warn(\n"
     ]
    },
    {
     "name": "stdout",
     "output_type": "stream",
     "text": [
      "1.0    0.2831858407079646\n",
      "LogisticRegression\n"
     ]
    },
    {
     "name": "stderr",
     "output_type": "stream",
     "text": [
      "C:\\Users\\whrjs\\AppData\\Roaming\\Python\\Python39\\site-packages\\sklearn\\linear_model\\_logistic.py:444: ConvergenceWarning: lbfgs failed to converge (status=1):\n",
      "STOP: TOTAL NO. of ITERATIONS REACHED LIMIT.\n",
      "\n",
      "Increase the number of iterations (max_iter) or scale the data as shown in:\n",
      "    https://scikit-learn.org/stable/modules/preprocessing.html\n",
      "Please also refer to the documentation for alternative solver options:\n",
      "    https://scikit-learn.org/stable/modules/linear_model.html#logistic-regression\n",
      "  n_iter_i = _check_optimize_result(\n"
     ]
    },
    {
     "name": "stdout",
     "output_type": "stream",
     "text": [
      "1.0    0.3805309734513274\n",
      "LogisticRegressionCV\n"
     ]
    },
    {
     "name": "stderr",
     "output_type": "stream",
     "text": [
      "C:\\Users\\whrjs\\AppData\\Roaming\\Python\\Python39\\site-packages\\sklearn\\linear_model\\_logistic.py:444: ConvergenceWarning: lbfgs failed to converge (status=1):\n",
      "STOP: TOTAL NO. of ITERATIONS REACHED LIMIT.\n",
      "\n",
      "Increase the number of iterations (max_iter) or scale the data as shown in:\n",
      "    https://scikit-learn.org/stable/modules/preprocessing.html\n",
      "Please also refer to the documentation for alternative solver options:\n",
      "    https://scikit-learn.org/stable/modules/linear_model.html#logistic-regression\n",
      "  n_iter_i = _check_optimize_result(\n",
      "C:\\Users\\whrjs\\AppData\\Roaming\\Python\\Python39\\site-packages\\sklearn\\linear_model\\_logistic.py:444: ConvergenceWarning: lbfgs failed to converge (status=1):\n",
      "STOP: TOTAL NO. of ITERATIONS REACHED LIMIT.\n",
      "\n",
      "Increase the number of iterations (max_iter) or scale the data as shown in:\n",
      "    https://scikit-learn.org/stable/modules/preprocessing.html\n",
      "Please also refer to the documentation for alternative solver options:\n",
      "    https://scikit-learn.org/stable/modules/linear_model.html#logistic-regression\n",
      "  n_iter_i = _check_optimize_result(\n",
      "C:\\Users\\whrjs\\AppData\\Roaming\\Python\\Python39\\site-packages\\sklearn\\linear_model\\_logistic.py:444: ConvergenceWarning: lbfgs failed to converge (status=1):\n",
      "STOP: TOTAL NO. of ITERATIONS REACHED LIMIT.\n",
      "\n",
      "Increase the number of iterations (max_iter) or scale the data as shown in:\n",
      "    https://scikit-learn.org/stable/modules/preprocessing.html\n",
      "Please also refer to the documentation for alternative solver options:\n",
      "    https://scikit-learn.org/stable/modules/linear_model.html#logistic-regression\n",
      "  n_iter_i = _check_optimize_result(\n",
      "C:\\Users\\whrjs\\AppData\\Roaming\\Python\\Python39\\site-packages\\sklearn\\linear_model\\_logistic.py:444: ConvergenceWarning: lbfgs failed to converge (status=1):\n",
      "STOP: TOTAL NO. of ITERATIONS REACHED LIMIT.\n",
      "\n",
      "Increase the number of iterations (max_iter) or scale the data as shown in:\n",
      "    https://scikit-learn.org/stable/modules/preprocessing.html\n",
      "Please also refer to the documentation for alternative solver options:\n",
      "    https://scikit-learn.org/stable/modules/linear_model.html#logistic-regression\n",
      "  n_iter_i = _check_optimize_result(\n",
      "C:\\Users\\whrjs\\AppData\\Roaming\\Python\\Python39\\site-packages\\sklearn\\linear_model\\_logistic.py:444: ConvergenceWarning: lbfgs failed to converge (status=1):\n",
      "STOP: TOTAL NO. of ITERATIONS REACHED LIMIT.\n",
      "\n",
      "Increase the number of iterations (max_iter) or scale the data as shown in:\n",
      "    https://scikit-learn.org/stable/modules/preprocessing.html\n",
      "Please also refer to the documentation for alternative solver options:\n",
      "    https://scikit-learn.org/stable/modules/linear_model.html#logistic-regression\n",
      "  n_iter_i = _check_optimize_result(\n",
      "C:\\Users\\whrjs\\AppData\\Roaming\\Python\\Python39\\site-packages\\sklearn\\linear_model\\_logistic.py:444: ConvergenceWarning: lbfgs failed to converge (status=1):\n",
      "STOP: TOTAL NO. of ITERATIONS REACHED LIMIT.\n",
      "\n",
      "Increase the number of iterations (max_iter) or scale the data as shown in:\n",
      "    https://scikit-learn.org/stable/modules/preprocessing.html\n",
      "Please also refer to the documentation for alternative solver options:\n",
      "    https://scikit-learn.org/stable/modules/linear_model.html#logistic-regression\n",
      "  n_iter_i = _check_optimize_result(\n"
     ]
    },
    {
     "name": "stdout",
     "output_type": "stream",
     "text": [
      "1.0    0.336283185840708\n",
      "MLPClassifier\n",
      "0.05357142857142857    0.05309734513274336\n",
      "MultiOutputClassifier\n",
      "__init__() missing 1 required positional argument: 'estimator'\n",
      "MultinomialNB\n",
      "0.6636904761904762    0.34513274336283184\n",
      "NearestCentroid\n",
      "0.5684523809523809    0.2920353982300885\n",
      "NuSVC\n",
      "specified nu is infeasible\n",
      "OneVsOneClassifier\n",
      "__init__() missing 1 required positional argument: 'estimator'\n",
      "OneVsRestClassifier\n",
      "__init__() missing 1 required positional argument: 'estimator'\n",
      "OutputCodeClassifier\n",
      "__init__() missing 1 required positional argument: 'estimator'\n",
      "PassiveAggressiveClassifier\n",
      "0.43452380952380953    0.10619469026548672\n",
      "Perceptron\n",
      "0.5625    0.20353982300884957\n",
      "QuadraticDiscriminantAnalysis\n",
      "1.0    0.061946902654867256\n",
      "RadiusNeighborsClassifier\n",
      "No neighbors found for test samples array([  0,   1,   2,   3,   4,   5,   6,   7,   8,   9,  10,  11,  12,\n",
      "        13,  14,  15,  16,  17,  18,  19,  20,  21,  22,  23,  24,  25,\n",
      "        26,  27,  28,  29,  30,  31,  32,  33,  34,  35,  36,  37,  38,\n",
      "        40,  41,  42,  43,  44,  45,  46,  47,  48,  49,  50,  51,  52,\n",
      "        53,  54,  55,  56,  57,  58,  59,  60,  61,  62,  63,  64,  65,\n",
      "        66,  67,  68,  69,  70,  71,  72,  73,  74,  75,  76,  77,  78,\n",
      "        79,  80,  81,  82,  83,  84,  85,  86,  87,  88,  89,  90,  91,\n",
      "        92,  93,  94,  95,  96,  97,  98,  99, 100, 101, 102, 103, 104,\n",
      "       105, 106, 107, 108, 109, 110, 111, 112], dtype=int64), you can try using larger radius, giving a label for outliers, or considering removing them from your dataset.\n",
      "RandomForestClassifier\n"
     ]
    },
    {
     "name": "stderr",
     "output_type": "stream",
     "text": [
      "C:\\Users\\whrjs\\AppData\\Roaming\\Python\\Python39\\site-packages\\sklearn\\discriminant_analysis.py:887: UserWarning: Variables are collinear\n",
      "  warnings.warn(\"Variables are collinear\")\n"
     ]
    },
    {
     "name": "stdout",
     "output_type": "stream",
     "text": [
      "1.0    0.45132743362831856\n",
      "RidgeClassifier\n",
      "1.0    0.22123893805309736\n",
      "RidgeClassifierCV\n",
      "1.0    0.22123893805309736\n",
      "SGDClassifier\n",
      "0.6339285714285714    0.23008849557522124\n",
      "SVC\n",
      "0.7857142857142857    0.336283185840708\n",
      "StackingClassifier\n",
      "__init__() missing 1 required positional argument: 'estimators'\n",
      "VotingClassifier\n",
      "__init__() missing 1 required positional argument: 'estimators'\n"
     ]
    }
   ],
   "source": [
    "# 최적화 모델 찾아보기\n",
    "models=all_estimators(type_filter='classifier')\n",
    "\n",
    "names=[]\n",
    "train_scores=[]\n",
    "test_scores=[]\n",
    "for name,model in models:\n",
    "    print(name)\n",
    "    try:\n",
    "        md=model() # 객체 생성\n",
    "        md.fit(train_input,train_target) # 학습\n",
    "        names.append(name)\n",
    "        print(md.score(train_input,train_target),md.score(test_input,test_target),sep='    ')\n",
    "    except Exception as e:\n",
    "        print(e)"
   ]
  },
  {
   "cell_type": "code",
   "execution_count": 159,
   "metadata": {},
   "outputs": [],
   "source": [
    "# 저장한 사진으로 예측값 구하기 함수\n",
    "def im_pre(imagefile):\n",
    "    Image.open('C:/machinelearning/project2/test/'+imagefile+'.jpg').resize((40,40)).save('C:/machinelearning/project2/test/te_'+imagefile+'.jpg')\n",
    "\n",
    "    # 그림 그래프 그리기\n",
    "    im_size=cv2.imread('C:/machinelearning/project2/test/te_'+imagefile+'.jpg')\n",
    "    black=cv2.cvtColor(im_size,cv2.COLOR_BGR2GRAY)\n",
    "    plt.imshow(black,cmap='gray')\n",
    "    plt.show()\n",
    "\n",
    "    result=target_uni[logicreg.predict(black.reshape(1,-1))[0]]\n",
    "    print(f\"{imagefile}.png 파일로 예측한 결과는 {result}입니다.\")\n",
    "\n",
    "    img=cv2.imread('C:/machinelearning/project2/'+result+'/'+result+'0.png')\n",
    "    black=cv2.cvtColor(img,cv2.COLOR_BGR2GRAY)\n",
    "    plt.imshow(black,cmap='gray')\n",
    "    plt.show()"
   ]
  },
  {
   "cell_type": "code",
   "execution_count": 160,
   "metadata": {},
   "outputs": [
    {
     "data": {
      "image/png": "[encoded data removed]",
      "text/plain": [
       "<Figure size 432x288 with 1 Axes>"
      ]
     },
     "metadata": {
      "needs_background": "light"
     },
     "output_type": "display_data"
    },
    {
     "name": "stdout",
     "output_type": "stream",
     "text": [
      "image1.png 파일로 예측한 결과는 pikachu입니다.\n"
     ]
    },
    {
     "data": {
      "image/png": "[encoded data removed]",
      "text/plain": [
       "<Figure size 432x288 with 1 Axes>"
      ]
     },
     "metadata": {
      "needs_background": "light"
     },
     "output_type": "display_data"
    }
   ],
   "source": [
    "im_pre('image1')"
   ]
  },
  {
   "cell_type": "code",
   "execution_count": 161,
   "metadata": {},
   "outputs": [
    {
     "data": {
      "image/png": "[encoded data removed]",
      "text/plain": [
       "<Figure size 432x288 with 1 Axes>"
      ]
     },
     "metadata": {
      "needs_background": "light"
     },
     "output_type": "display_data"
    },
    {
     "name": "stdout",
     "output_type": "stream",
     "text": [
      "image2.png 파일로 예측한 결과는 happy입니다.\n"
     ]
    },
    {
     "data": {
      "image/png": "[encoded data removed]",
      "text/plain": [
       "<Figure size 432x288 with 1 Axes>"
      ]
     },
     "metadata": {
      "needs_background": "light"
     },
     "output_type": "display_data"
    }
   ],
   "source": [
    "im_pre('image2')"
   ]
  },
  {
   "cell_type": "code",
   "execution_count": 162,
   "metadata": {},
   "outputs": [
    {
     "data": {
      "image/png": "[encoded data removed]",
      "text/plain": [
       "<Figure size 432x288 with 1 Axes>"
      ]
     },
     "metadata": {
      "needs_background": "light"
     },
     "output_type": "display_data"
    },
    {
     "name": "stdout",
     "output_type": "stream",
     "text": [
      "image3.png 파일로 예측한 결과는 pikachu입니다.\n"
     ]
    },
    {
     "data": {
      "image/png": "[encoded data removed]",
      "text/plain": [
       "<Figure size 432x288 with 1 Axes>"
      ]
     },
     "metadata": {
      "needs_background": "light"
     },
     "output_type": "display_data"
    }
   ],
   "source": [
    "im_pre('image3')"
   ]
  },
  {
   "cell_type": "code",
   "execution_count": 163,
   "metadata": {},
   "outputs": [
    {
     "data": {
      "image/png": "[encoded data removed]",
      "text/plain": [
       "<Figure size 432x288 with 1 Axes>"
      ]
     },
     "metadata": {
      "needs_background": "light"
     },
     "output_type": "display_data"
    },
    {
     "name": "stdout",
     "output_type": "stream",
     "text": [
      "image4.png 파일로 예측한 결과는 pikachu입니다.\n"
     ]
    },
    {
     "data": {
      "image/png": "[encoded data removed]",
      "text/plain": [
       "<Figure size 432x288 with 1 Axes>"
      ]
     },
     "metadata": {
      "needs_background": "light"
     },
     "output_type": "display_data"
    }
   ],
   "source": [
    "im_pre('image4')"
   ]
  },
  {
   "cell_type": "code",
   "execution_count": 140,
   "metadata": {},
   "outputs": [
    {
     "data": {
      "image/png": "[encoded data removed]",
      "text/plain": [
       "<Figure size 432x288 with 1 Axes>"
      ]
     },
     "metadata": {
      "needs_background": "light"
     },
     "output_type": "display_data"
    },
    {
     "name": "stdout",
     "output_type": "stream",
     "text": [
      "cgy.png 파일로 예측한 결과는 nami입니다.\n"
     ]
    },
    {
     "data": {
      "image/png": "[encoded data removed]",
      "text/plain": [
       "<Figure size 432x288 with 1 Axes>"
      ]
     },
     "metadata": {
      "needs_background": "light"
     },
     "output_type": "display_data"
    }
   ],
   "source": [
    "im_pre('cgy')"
   ]
  },
  {
   "cell_type": "code",
   "execution_count": 141,
   "metadata": {},
   "outputs": [
    {
     "data": {
      "image/png": "[encoded data removed]",
      "text/plain": [
       "<Figure size 432x288 with 1 Axes>"
      ]
     },
     "metadata": {
      "needs_background": "light"
     },
     "output_type": "display_data"
    },
    {
     "name": "stdout",
     "output_type": "stream",
     "text": [
      "te_nami1.png 파일로 예측한 결과는 pikachu입니다.\n"
     ]
    },
    {
     "data": {
      "image/png": "[encoded data removed]",
      "text/plain": [
       "<Figure size 432x288 with 1 Axes>"
      ]
     },
     "metadata": {
      "needs_background": "light"
     },
     "output_type": "display_data"
    }
   ],
   "source": [
    "im_pre('te_nami1')"
   ]
  },
  {
   "cell_type": "code",
   "execution_count": null,
   "metadata": {},
   "outputs": [],
   "source": [
    "Image.open('C:/machinelearning/project2/nami/nami0.png')save('C:/machinelearning/project2/'+charname+'/'+'te_'+imagefile+'.png')"
   ]
  },
  {
   "cell_type": "code",
   "execution_count": 150,
   "metadata": {},
   "outputs": [],
   "source": [
    "# 저장한 사진으로 예측값 구하기 함수\n",
    "def im_pre2(charname,imagefile):\n",
    "    #Image.open('C:/machinelearning/project2/'+charname+'/'+imagefile+'.png')\n",
    "\n",
    "    # 그림 그래프 그리기\n",
    "    im_size=cv2.imread('C:/machinelearning/project2/'+charname+'/'+imagefile+'.png')\n",
    "    black=cv2.cvtColor(im_size,cv2.COLOR_BGR2GRAY)\n",
    "    plt.imshow(black,cmap='gray')\n",
    "    plt.show()\n",
    "\n",
    "    result=target_uni[logicreg.predict(black.reshape(1,-1))[0]]\n",
    "    print(f\"{imagefile}.png 파일로 예측한 결과는 {result}입니다.\")\n",
    "\n",
    "    img=cv2.imread('C:/machinelearning/project2/'+result+'/'+imagefile+'.png')\n",
    "    black=cv2.cvtColor(img,cv2.COLOR_BGR2GRAY)\n",
    "    plt.imshow(black,cmap='gray')\n",
    "    plt.show()"
   ]
  },
  {
   "cell_type": "code",
   "execution_count": 154,
   "metadata": {},
   "outputs": [
    {
     "data": {
      "image/png": "[encoded data removed]",
      "text/plain": [
       "<Figure size 432x288 with 1 Axes>"
      ]
     },
     "metadata": {
      "needs_background": "light"
     },
     "output_type": "display_data"
    },
    {
     "name": "stdout",
     "output_type": "stream",
     "text": [
      "nami3.png 파일로 예측한 결과는 nami입니다.\n"
     ]
    },
    {
     "data": {
      "image/png": "[encoded data removed]",
      "text/plain": [
       "<Figure size 432x288 with 1 Axes>"
      ]
     },
     "metadata": {
      "needs_background": "light"
     },
     "output_type": "display_data"
    }
   ],
   "source": [
    "im_pre2('nami','nami3')"
   ]
  },
  {
   "cell_type": "code",
   "execution_count": 168,
   "metadata": {},
   "outputs": [
    {
     "data": {
      "image/png": "[encoded data removed]",
      "text/plain": [
       "<Figure size 432x288 with 1 Axes>"
      ]
     },
     "metadata": {
      "needs_background": "light"
     },
     "output_type": "display_data"
    },
    {
     "name": "stdout",
     "output_type": "stream",
     "text": [
      "crong6.png 파일로 예측한 결과는 crong입니다.\n"
     ]
    },
    {
     "data": {
      "image/png": "[encoded data removed]",
      "text/plain": [
       "<Figure size 432x288 with 1 Axes>"
      ]
     },
     "metadata": {
      "needs_background": "light"
     },
     "output_type": "display_data"
    }
   ],
   "source": [
    "im_pre2('crong','crong6')"
   ]
  },
  {
   "cell_type": "code",
   "execution_count": null,
   "metadata": {},
   "outputs": [],
   "source": []
  }
 ],
 "metadata": {
  "kernelspec": {
   "display_name": "Python 3.9.12 ('EV_PY39')",
   "language": "python",
   "name": "python3"
  },
  "language_info": {
   "codemirror_mode": {
    "name": "ipython",
    "version": 3
   },
   "file_extension": ".py",
   "mimetype": "text/x-python",
   "name": "python",
   "nbconvert_exporter": "python",
   "pygments_lexer": "ipython3",
   "version": "3.9.12"
  },
  "orig_nbformat": 4,
  "vscode": {
   "interpreter": {
    "hash": "d1dde8d3f1fc6169eb2afb9c884f1482ff31994a855398e316a83a9dc8ff488b"
   }
  }
 },
 "nbformat": 4,
 "nbformat_minor": 2
}
