{
 "cells": [
  {
   "cell_type": "markdown",
   "metadata": {},
   "source": [
    "## Logistic Regression\n",
    "- 인공신경망의 기본개념과 동일\n",
    "- Regression이지만 이진분류로 사용\n",
    "- 선형모델 기반으로 y=wx+b 그대로 사용\n",
    "- y=wx+b의 결과 => 분류 변환 함수  \n",
    "   => scipy.special.sigmoid(), scipy.special.softmax(), scipy.special.expit()"
   ]
  },
  {
   "cell_type": "markdown",
   "metadata": {},
   "source": [
    "### 성적 - 합격/불합격 분류 실습"
   ]
  },
  {
   "cell_type": "code",
   "execution_count": 129,
   "metadata": {},
   "outputs": [],
   "source": [
    "# 모듈 로딩\n",
    "from sklearn.linear_model import LogisticRegression\n",
    "import matplotlib.pyplot as plt\n",
    "import numpy as np\n",
    "from scipy.special import expit,softmax"
   ]
  },
  {
   "cell_type": "markdown",
   "metadata": {},
   "source": [
    "#### 1) 데이터 준비"
   ]
  },
  {
   "cell_type": "code",
   "execution_count": 130,
   "metadata": {},
   "outputs": [],
   "source": [
    "x=[78,82,91,94,97] # 점수\n",
    "y=[0,0,1,1,1] # 합격여부(1:합격, 0:불합격)"
   ]
  },
  {
   "cell_type": "code",
   "execution_count": 131,
   "metadata": {},
   "outputs": [],
   "source": [
    "# 학습에 사용할 수 있도록 형변환\n",
    "arrx=np.array(x).reshape(-1,1)\n",
    "arry=np.array(y)"
   ]
  },
  {
   "cell_type": "code",
   "execution_count": 132,
   "metadata": {},
   "outputs": [
    {
     "name": "stdout",
     "output_type": "stream",
     "text": [
      "arrx : (5, 1), arry : (5,)\n"
     ]
    }
   ],
   "source": [
    "# 데이터 체크\n",
    "print(f\"arrx : {arrx.shape}, arry : {arry.shape}\")"
   ]
  },
  {
   "cell_type": "markdown",
   "metadata": {},
   "source": [
    "#### 2) 데이터 확인 => 시각화"
   ]
  },
  {
   "cell_type": "code",
   "execution_count": 133,
   "metadata": {},
   "outputs": [
    {
     "data": {
      "image/png": "[encoded data removed]",
      "text/plain": [
       "<Figure size 432x288 with 1 Axes>"
      ]
     },
     "metadata": {
      "needs_background": "light"
     },
     "output_type": "display_data"
    }
   ],
   "source": [
    "# 현재 데이터 시각화\n",
    "plt.scatter(x,y)\n",
    "plt.xlabel('Score')\n",
    "plt.ylabel('Result')\n",
    "plt.show()"
   ]
  },
  {
   "cell_type": "markdown",
   "metadata": {},
   "source": [
    "#### 3) 모델 생성 & 학습"
   ]
  },
  {
   "cell_type": "code",
   "execution_count": 134,
   "metadata": {},
   "outputs": [],
   "source": [
    "# 객체생성\n",
    "model=LogisticRegression()"
   ]
  },
  {
   "cell_type": "code",
   "execution_count": 135,
   "metadata": {},
   "outputs": [
    {
     "data": {
      "text/html": [
       "<style>#sk-container-id-4 {color: black;background-color: white;}#sk-container-id-4 pre{padding: 0;}#sk-container-id-4 div.sk-toggleable {background-color: white;}#sk-container-id-4 label.sk-toggleable__label {cursor: pointer;display: block;width: 100%;margin-bottom: 0;padding: 0.3em;box-sizing: border-box;text-align: center;}#sk-container-id-4 label.sk-toggleable__label-arrow:before {content: \"▸\";float: left;margin-right: 0.25em;color: #696969;}#sk-container-id-4 label.sk-toggleable__label-arrow:hover:before {color: black;}#sk-container-id-4 div.sk-estimator:hover label.sk-toggleable__label-arrow:before {color: black;}#sk-container-id-4 div.sk-toggleable__content {max-height: 0;max-width: 0;overflow: hidden;text-align: left;background-color: #f0f8ff;}#sk-container-id-4 div.sk-toggleable__content pre {margin: 0.2em;color: black;border-radius: 0.25em;background-color: #f0f8ff;}#sk-container-id-4 input.sk-toggleable__control:checked~div.sk-toggleable__content {max-height: 200px;max-width: 100%;overflow: auto;}#sk-container-id-4 input.sk-toggleable__control:checked~label.sk-toggleable__label-arrow:before {content: \"▾\";}#sk-container-id-4 div.sk-estimator input.sk-toggleable__control:checked~label.sk-toggleable__label {background-color: #d4ebff;}#sk-container-id-4 div.sk-label input.sk-toggleable__control:checked~label.sk-toggleable__label {background-color: #d4ebff;}#sk-container-id-4 input.sk-hidden--visually {border: 0;clip: rect(1px 1px 1px 1px);clip: rect(1px, 1px, 1px, 1px);height: 1px;margin: -1px;overflow: hidden;padding: 0;position: absolute;width: 1px;}#sk-container-id-4 div.sk-estimator {font-family: monospace;background-color: #f0f8ff;border: 1px dotted black;border-radius: 0.25em;box-sizing: border-box;margin-bottom: 0.5em;}#sk-container-id-4 div.sk-estimator:hover {background-color: #d4ebff;}#sk-container-id-4 div.sk-parallel-item::after {content: \"\";width: 100%;border-bottom: 1px solid gray;flex-grow: 1;}#sk-container-id-4 div.sk-label:hover label.sk-toggleable__label {background-color: #d4ebff;}#sk-container-id-4 div.sk-serial::before {content: \"\";position: absolute;border-left: 1px solid gray;box-sizing: border-box;top: 0;bottom: 0;left: 50%;z-index: 0;}#sk-container-id-4 div.sk-serial {display: flex;flex-direction: column;align-items: center;background-color: white;padding-right: 0.2em;padding-left: 0.2em;position: relative;}#sk-container-id-4 div.sk-item {position: relative;z-index: 1;}#sk-container-id-4 div.sk-parallel {display: flex;align-items: stretch;justify-content: center;background-color: white;position: relative;}#sk-container-id-4 div.sk-item::before, #sk-container-id-4 div.sk-parallel-item::before {content: \"\";position: absolute;border-left: 1px solid gray;box-sizing: border-box;top: 0;bottom: 0;left: 50%;z-index: -1;}#sk-container-id-4 div.sk-parallel-item {display: flex;flex-direction: column;z-index: 1;position: relative;background-color: white;}#sk-container-id-4 div.sk-parallel-item:first-child::after {align-self: flex-end;width: 50%;}#sk-container-id-4 div.sk-parallel-item:last-child::after {align-self: flex-start;width: 50%;}#sk-container-id-4 div.sk-parallel-item:only-child::after {width: 0;}#sk-container-id-4 div.sk-dashed-wrapped {border: 1px dashed gray;margin: 0 0.4em 0.5em 0.4em;box-sizing: border-box;padding-bottom: 0.4em;background-color: white;}#sk-container-id-4 div.sk-label label {font-family: monospace;font-weight: bold;display: inline-block;line-height: 1.2em;}#sk-container-id-4 div.sk-label-container {text-align: center;}#sk-container-id-4 div.sk-container {/* jupyter's `normalize.less` sets `[hidden] { display: none; }` but bootstrap.min.css set `[hidden] { display: none !important; }` so we also need the `!important` here to be able to override the default hidden behavior on the sphinx rendered scikit-learn.org. See: https://github.com/scikit-learn/scikit-learn/issues/21755 */display: inline-block !important;position: relative;}#sk-container-id-4 div.sk-text-repr-fallback {display: none;}</style><div id=\"sk-container-id-4\" class=\"sk-top-container\"><div class=\"sk-text-repr-fallback\"><pre>LogisticRegression()</pre><b>In a Jupyter environment, please rerun this cell to show the HTML representation or trust the notebook. <br />On GitHub, the HTML representation is unable to render, please try loading this page with nbviewer.org.</b></div><div class=\"sk-container\" hidden><div class=\"sk-item\"><div class=\"sk-estimator sk-toggleable\"><input class=\"sk-toggleable__control sk-hidden--visually\" id=\"sk-estimator-id-4\" type=\"checkbox\" checked><label for=\"sk-estimator-id-4\" class=\"sk-toggleable__label sk-toggleable__label-arrow\">LogisticRegression</label><div class=\"sk-toggleable__content\"><pre>LogisticRegression()</pre></div></div></div></div></div>"
      ],
      "text/plain": [
       "LogisticRegression()"
      ]
     },
     "execution_count": 135,
     "metadata": {},
     "output_type": "execute_result"
    }
   ],
   "source": [
    "# 학습\n",
    "model.fit(arrx,arry)"
   ]
  },
  {
   "cell_type": "code",
   "execution_count": 136,
   "metadata": {},
   "outputs": [
    {
     "name": "stdout",
     "output_type": "stream",
     "text": [
      "분류 종류 : [0 1]\n",
      "가중치 값 : [[0.62705118]]\n",
      "절편 값 : [-54.1941992]\n",
      "특성 개수 : 1\n"
     ]
    }
   ],
   "source": [
    "# 학습 후 설정된 속성\n",
    "print(f\"분류 종류 : {model.classes_}\") # 정답 추출정보를 출력\n",
    "print(f\"가중치 값 : {model.coef_}\")\n",
    "print(f\"절편 값 : {model.intercept_}\")\n",
    "print(f\"특성 개수 : {model.n_features_in_}\")"
   ]
  },
  {
   "cell_type": "markdown",
   "metadata": {},
   "source": [
    "#### 4) 평가 => score() 학습용 데이터 점수, 테스트용 데이터 점수\n",
    "  - 2개 점수 비교해서 과대적합, 과소적합 체크"
   ]
  },
  {
   "cell_type": "code",
   "execution_count": 137,
   "metadata": {},
   "outputs": [
    {
     "data": {
      "text/plain": [
       "1.0"
      ]
     },
     "execution_count": 137,
     "metadata": {},
     "output_type": "execute_result"
    }
   ],
   "source": [
    "model.score(arrx,arry)"
   ]
  },
  {
   "cell_type": "markdown",
   "metadata": {},
   "source": [
    "- 테스트 데이터가 따로 없으므로 정확도는 1이 나옴"
   ]
  },
  {
   "cell_type": "markdown",
   "metadata": {},
   "source": [
    "#### 5) 테스트 => predict(): 새로운 데이터로 진행"
   ]
  },
  {
   "cell_type": "code",
   "execution_count": 138,
   "metadata": {},
   "outputs": [
    {
     "data": {
      "text/plain": [
       "array([0, 0, 1, 1, 1])"
      ]
     },
     "execution_count": 138,
     "metadata": {},
     "output_type": "execute_result"
    }
   ],
   "source": [
    "# arrx의 예측\n",
    "prey=model.predict(arrx)\n",
    "prey"
   ]
  },
  {
   "cell_type": "code",
   "execution_count": 139,
   "metadata": {},
   "outputs": [
    {
     "data": {
      "text/plain": [
       "array([0])"
      ]
     },
     "execution_count": 139,
     "metadata": {},
     "output_type": "execute_result"
    }
   ],
   "source": [
    "# 50점일 때 합격 여부\n",
    "prey=model.predict([[50]])\n",
    "prey"
   ]
  },
  {
   "cell_type": "code",
   "execution_count": 140,
   "metadata": {},
   "outputs": [
    {
     "data": {
      "text/plain": [
       "array([1])"
      ]
     },
     "execution_count": 140,
     "metadata": {},
     "output_type": "execute_result"
    }
   ],
   "source": [
    "# 90점 일 때 합격 여부\n",
    "prey=model.predict([[90]])\n",
    "prey"
   ]
  },
  {
   "cell_type": "code",
   "execution_count": 141,
   "metadata": {},
   "outputs": [
    {
     "data": {
      "text/plain": [
       "array([1])"
      ]
     },
     "execution_count": 141,
     "metadata": {},
     "output_type": "execute_result"
    }
   ],
   "source": [
    "# 89점 일 때 합격 여부\n",
    "prey=model.predict([[89]])\n",
    "prey"
   ]
  },
  {
   "cell_type": "code",
   "execution_count": 142,
   "metadata": {},
   "outputs": [
    {
     "data": {
      "text/plain": [
       "array([1])"
      ]
     },
     "execution_count": 142,
     "metadata": {},
     "output_type": "execute_result"
    }
   ],
   "source": [
    "# 87점 일 때 합격 여부\n",
    "prey=model.predict([[87]])\n",
    "prey"
   ]
  },
  {
   "cell_type": "code",
   "execution_count": 143,
   "metadata": {},
   "outputs": [
    {
     "data": {
      "text/plain": [
       "array([0])"
      ]
     },
     "execution_count": 143,
     "metadata": {},
     "output_type": "execute_result"
    }
   ],
   "source": [
    "# 86점 일 때 합격 여부\n",
    "prey=model.predict([[86]])\n",
    "prey"
   ]
  },
  {
   "cell_type": "markdown",
   "metadata": {},
   "source": [
    "- 86밑으로는 불합격이 나옴"
   ]
  },
  {
   "cell_type": "code",
   "execution_count": 144,
   "metadata": {},
   "outputs": [
    {
     "name": "stdout",
     "output_type": "stream",
     "text": [
      "분류항목 : [0 1]\n",
      "예측확률 : [[0.94136517 0.05863483]]\n"
     ]
    }
   ],
   "source": [
    "# 82점일 때 합격확률과 불합격확률\n",
    "print(f\"분류항목 : {model.classes_}\")\n",
    "print(f\"예측확률 : {model.predict_proba([[82]])}\")"
   ]
  },
  {
   "cell_type": "code",
   "execution_count": 145,
   "metadata": {},
   "outputs": [
    {
     "data": {
      "text/plain": [
       "array([-2.77600232])"
      ]
     },
     "execution_count": 145,
     "metadata": {},
     "output_type": "execute_result"
    }
   ],
   "source": [
    "# 결정함수\n",
    "model.decision_function([[82]]) "
   ]
  },
  {
   "cell_type": "code",
   "execution_count": 146,
   "metadata": {},
   "outputs": [
    {
     "data": {
      "text/plain": [
       "array([[-2.77600232]])"
      ]
     },
     "execution_count": 146,
     "metadata": {},
     "output_type": "execute_result"
    }
   ],
   "source": [
    "# y=Wx+b : 모델 파라미터\n",
    "model.coef_*82+model.intercept_"
   ]
  },
  {
   "cell_type": "markdown",
   "metadata": {},
   "source": [
    "- 결정함수와 회귀식의 예측값은 서로 동일함"
   ]
  },
  {
   "cell_type": "code",
   "execution_count": 147,
   "metadata": {},
   "outputs": [
    {
     "data": {
      "text/plain": [
       "array([[-0.26779759]])"
      ]
     },
     "execution_count": 147,
     "metadata": {},
     "output_type": "execute_result"
    }
   ],
   "source": [
    "# y=Wx+b : 모델 파라미터\n",
    "model.coef_*86+model.intercept_"
   ]
  },
  {
   "cell_type": "code",
   "execution_count": 148,
   "metadata": {},
   "outputs": [
    {
     "data": {
      "text/plain": [
       "array([[0.35925359]])"
      ]
     },
     "execution_count": 148,
     "metadata": {},
     "output_type": "execute_result"
    }
   ],
   "source": [
    "# y=Wx+b : 모델 파라미터\n",
    "model.coef_*87+model.intercept_"
   ]
  },
  {
   "cell_type": "code",
   "execution_count": 149,
   "metadata": {},
   "outputs": [
    {
     "name": "stdout",
     "output_type": "stream",
     "text": [
      "[0.359]\n"
     ]
    }
   ],
   "source": [
    "# 결정함수 y=wx+b\n",
    "ret=model.decision_function([[87]])\n",
    "print(np.round(ret, 3))"
   ]
  },
  {
   "cell_type": "code",
   "execution_count": 150,
   "metadata": {},
   "outputs": [
    {
     "name": "stdout",
     "output_type": "stream",
     "text": [
      "expit : [0.58885974]\n",
      "softmax : [1.]\n"
     ]
    }
   ],
   "source": [
    "# expit, softmax\n",
    "print(f\"expit : {expit(ret)}\")\n",
    "print(f\"softmax : {softmax(ret)}\")"
   ]
  },
  {
   "cell_type": "code",
   "execution_count": 151,
   "metadata": {},
   "outputs": [
    {
     "name": "stdout",
     "output_type": "stream",
     "text": [
      "80점의 예측 확률 [[0.98 0.02]]\n",
      "95점의 예측 확률 [[0. 1.]]\n"
     ]
    }
   ],
   "source": [
    "# 실패 성공 확률\n",
    "print(f\"80점의 예측 확률 {np.round(model.predict_proba([[80]]),2)}\")\n",
    "print(f\"95점의 예측 확률 {np.round(model.predict_proba([[95]]),2)}\")"
   ]
  },
  {
   "cell_type": "markdown",
   "metadata": {},
   "source": [
    "- 87점부터 회귀식 값이 양수가 되는 것을 확인"
   ]
  },
  {
   "cell_type": "markdown",
   "metadata": {},
   "source": [
    "### 점수(이진분류[A,B])"
   ]
  },
  {
   "cell_type": "code",
   "execution_count": 152,
   "metadata": {},
   "outputs": [],
   "source": [
    "# 데이터 불러오기 \n",
    "X=[82,85, 87, 92, 94, 97] # 점수\n",
    "y=['B','B','B','A','A','A'] # 학점"
   ]
  },
  {
   "cell_type": "code",
   "execution_count": 153,
   "metadata": {},
   "outputs": [
    {
     "name": "stdout",
     "output_type": "stream",
     "text": [
      "회귀계수 [[-0.8204321]]\n",
      "절편 [73.42867468]\n",
      "정확도 : 1.0\n",
      "['B']\n",
      "['B']\n",
      "['B']\n",
      "['A']\n",
      "['A']\n",
      "분류항목 :  ['A' 'B']\n",
      "예측확률 :  [[0. 1.]]\n",
      "예측확률 :  [[0.11 0.89]]\n",
      "예측확률 :  [[0.4 0.6]]\n",
      "예측확률 :  [[0.6 0.4]]\n",
      "예측확률 :  [[1. 0.]]\n"
     ]
    }
   ],
   "source": [
    "# 배열\n",
    "arrx=np.array(X).reshape(-1,1)\n",
    "arry=np.array(y)\n",
    "\n",
    "# 객체 생성\n",
    "model=LogisticRegression()\n",
    "\n",
    "# 객체훈련\n",
    "model.fit(arrx,arry)\n",
    "\n",
    "# 훈련 후\n",
    "print(f\"회귀계수 {model.coef_}\")\n",
    "print(f\"절편 {model.intercept_}\")\n",
    "\n",
    "# 객체평가\n",
    "print(f\"정확도 : {model.score(arrx,arry)}\")\n",
    "\n",
    "# 객체예측\n",
    "print(model.predict([[50]]))\n",
    "print(model.predict([[87]]))\n",
    "print(model.predict([[89]]))\n",
    "print(model.predict([[90]]))\n",
    "print(model.predict([[99]]))\n",
    "\n",
    "# 분류의 확률\n",
    "print('분류항목 : ', model.classes_)\n",
    "print('예측확률 : ', np.round(model.predict_proba([[50]]),2))\n",
    "print('예측확률 : ', np.round(model.predict_proba([[87]]),2))\n",
    "print('예측확률 : ', np.round(model.predict_proba([[89]]),2))\n",
    "print('예측확률 : ', np.round(model.predict_proba([[90]]),2))\n",
    "print('예측확률 : ', np.round(model.predict_proba([[99]]),2))"
   ]
  },
  {
   "cell_type": "markdown",
   "metadata": {},
   "source": [
    "- 위의 합격여부와는 다르게 데이터가 많으므로 90점대 부터가 A라고 예측을 함"
   ]
  },
  {
   "cell_type": "code",
   "execution_count": 154,
   "metadata": {},
   "outputs": [
    {
     "name": "stdout",
     "output_type": "stream",
     "text": [
      "[-8.615]\n"
     ]
    }
   ],
   "source": [
    "# 결정함수 y=wx+b\n",
    "ret=model.decision_function([[100]])\n",
    "print(np.round(ret, 3))"
   ]
  },
  {
   "cell_type": "code",
   "execution_count": 155,
   "metadata": {},
   "outputs": [
    {
     "name": "stdout",
     "output_type": "stream",
     "text": [
      "expit : [0.00018142]\n",
      "softmax : [1.]\n"
     ]
    }
   ],
   "source": [
    "# expit, softmax\n",
    "print(f\"expit : {expit(ret)}\")\n",
    "print(f\"softmax : {softmax(ret)}\")"
   ]
  },
  {
   "cell_type": "code",
   "execution_count": 156,
   "metadata": {},
   "outputs": [
    {
     "name": "stdout",
     "output_type": "stream",
     "text": [
      "80점의 예측 확률 [[0. 1.]]\n",
      "95점의 예측 확률 [[0.99 0.01]]\n"
     ]
    }
   ],
   "source": [
    "# 실패 성공 확률\n",
    "print(f\"80점의 예측 확률 {np.round(model.predict_proba([[80]]),2)}\")\n",
    "print(f\"95점의 예측 확률 {np.round(model.predict_proba([[95]]),2)}\")"
   ]
  },
  {
   "cell_type": "markdown",
   "metadata": {},
   "source": [
    "- 이 모델은 회귀계수가 마이너스라서 예측값이 작을수록 A가 될 확률이 높음"
   ]
  },
  {
   "cell_type": "markdown",
   "metadata": {},
   "source": [
    "### 3개 분류 점수"
   ]
  },
  {
   "cell_type": "code",
   "execution_count": 168,
   "metadata": {},
   "outputs": [],
   "source": [
    "# 데이터 불러오기\n",
    "x=[71, 74,78, 82,85, 87, 92, 94, 97]    # 점수\n",
    "y=['C','C','C','B','B','B','A','A','A'] # 학점"
   ]
  },
  {
   "cell_type": "code",
   "execution_count": 159,
   "metadata": {},
   "outputs": [],
   "source": [
    "# 배열로 변환\n",
    "arrx=np.array(x).reshape(-1,1)\n",
    "arry=np.array(y)\n"
   ]
  },
  {
   "cell_type": "code",
   "execution_count": 167,
   "metadata": {},
   "outputs": [
    {
     "name": "stdout",
     "output_type": "stream",
     "text": [
      "분류종류: ['A' 'B' 'C'], 분류개수 : 1\n",
      "회귀계수 : [[ 0.81689356]\n",
      " [-0.00293966]\n",
      " [-0.8139539 ]]\n",
      "절편 : [-70.52883025   2.84206703  67.68676322]\n",
      "정확도: 1.0\n",
      "70점 예측값: ['C']\n",
      "85점의 결정함수: [[-1.09287792  2.59219616 -1.49931809]]\n",
      "85점의 결정함수 확률(expit): [[0.25107674 0.93035765 0.18252725]]\n",
      "85점의 결정함수 확률(softmax): [[0.02408821 0.95986864 0.01604315]]\n",
      "85점의 분류별 될 확률: [[0.02408821 0.95986864 0.01604315]]\n"
     ]
    }
   ],
   "source": [
    "# 모델\n",
    "model=LogisticRegression(max_iter=100).fit(arrx,arry)\n",
    "\n",
    "print(f\"분류종류: {model.classes_}, 분류개수 : {model.n_features_in_}\")\n",
    "print(f\"회귀계수 : {model.coef_}\")\n",
    "print(f\"절편 : {model.intercept_}\")\n",
    "\n",
    "print(f\"정확도: {model.score(arrx,arry)}\")\n",
    "print(f\"70점 예측값: {model.predict([[70]])}\")\n",
    "\n",
    "print(f\"85점의 결정함수: {model.decision_function([[85]])}\")\n",
    "print(f\"85점의 결정함수 확률(expit): {expit(model.decision_function([[85]]))}\")\n",
    "print(f\"85점의 결정함수 확률(softmax): {softmax(model.decision_function([[85]]))}\") # 전체 합이 1\n",
    "print(f\"85점의 분류별 될 확률: {model.predict_proba([[85]])}\")"
   ]
  },
  {
   "cell_type": "code",
   "execution_count": null,
   "metadata": {},
   "outputs": [],
   "source": []
  }
 ],
 "metadata": {
  "kernelspec": {
   "display_name": "Python 3.9.12 ('EV_PY39')",
   "language": "python",
   "name": "python3"
  },
  "language_info": {
   "codemirror_mode": {
    "name": "ipython",
    "version": 3
   },
   "file_extension": ".py",
   "mimetype": "text/x-python",
   "name": "python",
   "nbconvert_exporter": "python",
   "pygments_lexer": "ipython3",
   "version": "3.9.12"
  },
  "orig_nbformat": 4,
  "vscode": {
   "interpreter": {
    "hash": "d1dde8d3f1fc6169eb2afb9c884f1482ff31994a855398e316a83a9dc8ff488b"
   }
  }
 },
 "nbformat": 4,
 "nbformat_minor": 2
}
