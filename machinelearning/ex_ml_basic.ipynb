{
 "cells": [
  {
   "cell_type": "markdown",
   "metadata": {},
   "source": [
    "# Scikit-learn ML 기본 동작"
   ]
  },
  {
   "cell_type": "markdown",
   "metadata": {},
   "source": [
    "## 1) 데이터 수집 & 준비\n",
    "## 2) 데이터 전처리\n",
    "  - 데이터/타겟 분리\n",
    "  - 데이터 표준화 / 정규화\n",
    "  - 타겟(라벨) 인코딩\n",
    "## 3) 학습을 위한 데이터 준비\n",
    "  - 데이터셋 => 학습용 / 검증용 / 테스트용 데이터셋\n",
    "    * 학습용: 학습에 사용\n",
    "    * 검증용: 모델 생성중에 사용\n",
    "    * 테스트용: 모델 완성 후에 사용\n",
    "## 4) 학습 모델 생성\n",
    "  - 학습 방법 선정 및 모델 객체 생성\n",
    "  - 학습 진행\n",
    "    - __모델 파라미터__ 최적화 => 학습에 의해서 결정되는 파라미터\n",
    "      - ex) W가중치, b절편\n",
    "    - 최적의 모델 파라미터를 찾기 위한 방법 => 최적화(optimizer)\n",
    "  - 모델 평가\n",
    "    - 성능 개선 => 하이퍼파라미터 (모델마다 다름) => 모델 튜닝\n",
    "      - ex) KNN -> K, 학습회수, 학습크기(배치 사이즈), 규제값들  \n",
    "        이 값들에 따라 과대 / 과소 / 적합 으로 다르게 나옴\n",
    "## 5) 모델 테스트\n",
    "  - 학습에 사용되지 않은 데이터\n",
    "  - 새로운 데이터로 테스트 진행"
   ]
  },
  {
   "cell_type": "code",
   "execution_count": 9,
   "metadata": {},
   "outputs": [],
   "source": [
    "# 모듈로딩\n",
    "from sklearn.model_selection import train_test_split\n",
    "from sklearn.linear_model import LinearRegression\n",
    "from sklearn.metrics import mean_absolute_error, mean_squared_error\n",
    "import matplotlib.pyplot as plt\n",
    "import pandas as pd\n",
    "import numpy as np"
   ]
  },
  {
   "cell_type": "code",
   "execution_count": 17,
   "metadata": {},
   "outputs": [],
   "source": [
    "# [1] 데이터 준비\n",
    "# 시간 : 점수\n",
    "x=[2,4,6,8,10] # 시간\n",
    "y=[40,50,60,70,80] # 점수"
   ]
  },
  {
   "cell_type": "code",
   "execution_count": 18,
   "metadata": {},
   "outputs": [
    {
     "name": "stdout",
     "output_type": "stream",
     "text": [
      "(2, 5)\n",
      "    0   1   2   3   4\n",
      "0   2   4   6   8  10\n",
      "1  40  50  60  70  80\n"
     ]
    }
   ],
   "source": [
    "# 예제\n",
    "df=pd.DataFrame([x,y])\n",
    "print(df.shape)\n",
    "print(df)"
   ]
  },
  {
   "cell_type": "code",
   "execution_count": 19,
   "metadata": {},
   "outputs": [
    {
     "name": "stdout",
     "output_type": "stream",
     "text": [
      "(5, 2)\n",
      "   Hour  Score\n",
      "0     2     40\n",
      "1     4     50\n",
      "2     6     60\n",
      "3     8     70\n",
      "4    10     80\n"
     ]
    }
   ],
   "source": [
    "# [1]-1 학습에 사용되는 형태로 데이터 변환\n",
    "df=pd.DataFrame({'Hour':x,'Score':y})\n",
    "print(df.shape)\n",
    "print(df)"
   ]
  },
  {
   "cell_type": "code",
   "execution_count": 20,
   "metadata": {},
   "outputs": [
    {
     "name": "stdout",
     "output_type": "stream",
     "text": [
      "arrx: (5, 1) arry: (5, 1)\n"
     ]
    }
   ],
   "source": [
    "# 넘파이로 배열\n",
    "arrx=np.array(x).reshape(-1,1)\n",
    "arry=np.array(y).reshape(-1,1)\n",
    "\n",
    "print(f'arrx: {arrx.shape} arry: {arry.shape}')"
   ]
  },
  {
   "cell_type": "code",
   "execution_count": 21,
   "metadata": {},
   "outputs": [
    {
     "data": {
      "image/png": "[encoded data removed]",
      "text/plain": [
       "<Figure size 432x288 with 1 Axes>"
      ]
     },
     "metadata": {
      "needs_background": "light"
     },
     "output_type": "display_data"
    }
   ],
   "source": [
    "# [2] 데이터 분포 분석 => EDA => 시각화\n",
    "plt.scatter(x,y)\n",
    "plt.xlabel('Hour')\n",
    "plt.ylabel('Score')\n",
    "plt.show()"
   ]
  },
  {
   "cell_type": "markdown",
   "metadata": {},
   "source": [
    "- 시간과 점수는 비례 관계\n",
    "- 선형의 데이터 분포\n",
    "- 독립변수 => hour\n",
    "- 종속변수 => score\n",
    "- 시간에 따른 점수 예측\n",
    "- 데이터 + 라벨 => 지도 학습\n",
    "- 선형 데이터 분포 => 선형 모델 적용"
   ]
  },
  {
   "cell_type": "code",
   "execution_count": 22,
   "metadata": {},
   "outputs": [],
   "source": [
    "# [3] 학습 방법 선택 및 모델 생성\n",
    "model=LinearRegression().fit(arrx,arry) # 객체 생성"
   ]
  },
  {
   "cell_type": "code",
   "execution_count": 23,
   "metadata": {},
   "outputs": [
    {
     "name": "stdout",
     "output_type": "stream",
     "text": [
      "w: [[5.]], b: [30.]\n"
     ]
    }
   ],
   "source": [
    "# 모델 파라미터 => w  가중치, b 절편\n",
    "print(f\"w: {model.coef_}, b: {model.intercept_}\")"
   ]
  },
  {
   "cell_type": "code",
   "execution_count": 24,
   "metadata": {},
   "outputs": [
    {
     "data": {
      "text/plain": [
       "1.0"
      ]
     },
     "execution_count": 24,
     "metadata": {},
     "output_type": "execute_result"
    }
   ],
   "source": [
    "# 모델평가\n",
    "model.score(arrx,arry)"
   ]
  },
  {
   "cell_type": "code",
   "execution_count": 25,
   "metadata": {},
   "outputs": [
    {
     "data": {
      "text/plain": [
       "1.0"
      ]
     },
     "execution_count": 25,
     "metadata": {},
     "output_type": "execute_result"
    }
   ],
   "source": [
    "# 회귀 => 결정계수 R^2\n",
    "model.score(arrx,arry)"
   ]
  },
  {
   "cell_type": "markdown",
   "metadata": {},
   "source": [
    "- score()\n",
    "  - 분류: 정답과 예측답이 얼마나 맞는지 비교\n",
    "    - 정확도(accuracy)\n",
    "  - 회귀: 정답과 예측답이 얼마나 차이가 나는지(Error)\n",
    "    - 손실함수(Loss/Cost Function) : MSE, MAE, RMSE 등은 0~1 사이에 낮을수록 좋음\n",
    "    - __R2계수 : 0~1사이에서 높을수록 좋음__"
   ]
  },
  {
   "cell_type": "code",
   "execution_count": 28,
   "metadata": {},
   "outputs": [
    {
     "name": "stdout",
     "output_type": "stream",
     "text": [
      "1.4210854715202005e-15\n",
      "1.0097419586828952e-29\n"
     ]
    }
   ],
   "source": [
    "# 오차 확인\n",
    "prey=model.predict(arrx)\n",
    "\n",
    "mae=mean_absolute_error(arry,prey)\n",
    "mse=mean_squared_error(arry,prey)\n",
    "\n",
    "print(mae)\n",
    "print(mse)"
   ]
  },
  {
   "cell_type": "code",
   "execution_count": null,
   "metadata": {},
   "outputs": [],
   "source": []
  }
 ],
 "metadata": {
  "kernelspec": {
   "display_name": "Python 3.9.12 ('EV_PY39')",
   "language": "python",
   "name": "python3"
  },
  "language_info": {
   "codemirror_mode": {
    "name": "ipython",
    "version": 3
   },
   "file_extension": ".py",
   "mimetype": "text/x-python",
   "name": "python",
   "nbconvert_exporter": "python",
   "pygments_lexer": "ipython3",
   "version": "3.9.12"
  },
  "orig_nbformat": 4,
  "vscode": {
   "interpreter": {
    "hash": "d1dde8d3f1fc6169eb2afb9c884f1482ff31994a855398e316a83a9dc8ff488b"
   }
  }
 },
 "nbformat": 4,
 "nbformat_minor": 2
}
