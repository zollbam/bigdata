{
 "cells": [
  {
   "cell_type": "code",
   "execution_count": 3,
   "metadata": {},
   "outputs": [],
   "source": [
    "# 모듈 로딩\n",
    "import matplotlib.pyplot as plt\n",
    "from sklearn.neighbors import KNeighborsClassifier\n",
    "import numpy as np\n",
    "import pandas as pd"
   ]
  },
  {
   "cell_type": "code",
   "execution_count": 6,
   "metadata": {},
   "outputs": [
    {
     "name": "stdout",
     "output_type": "stream",
     "text": [
      "<class 'list'>\n",
      "<class 'numpy.ndarray'>\n"
     ]
    }
   ],
   "source": [
    "# 물고기 데이터\n",
    "fish_length = [25.4, 26.3, 26.5, 29.0, 29.0, 29.7, 29.7, 30.0, 30.0, \n",
    "                30.7, 31.0, 31.0, 31.5, 32.0, 32.0, 32.0, 33.0, 33.0, \n",
    "                33.5, 33.5, 34.0, 34.0, 34.5, 35.0, 35.0, 35.0, 35.0, \n",
    "                36.0, 36.0, 37.0, 38.5, 38.5, 39.5, 41.0, 41.0, 9.8, \n",
    "                10.5, 10.6, 11.0, 11.2, 11.3, 11.8, 11.8, 12.0, 12.2, \n",
    "                12.4, 13.0, 14.3, 15.0]\n",
    "\n",
    "fish_weight = [242.0, 290.0, 340.0, 363.0, 430.0, 450.0, 500.0, 390.0, \n",
    "                450.0, 500.0, 475.0, 500.0, 500.0, 340.0, 600.0, 600.0, \n",
    "                700.0, 700.0, 610.0, 650.0, 575.0, 685.0, 620.0, 680.0,\n",
    "                700.0, 725.0, 720.0, 714.0, 850.0, 1000.0, 920.0, 955.0, \n",
    "                925.0, 975.0, 950.0, 6.7, 7.5, 7.0, 9.7, 9.8, 8.7, 10.0, \n",
    "                9.9, 9.8, 12.2, 13.4, 12.2, 19.7, 19.9]\n",
    "\n",
    "fish_data=np.column_stack((fish_length,fish_weight))\n",
    "# 꼭 튜플 형태로\n",
    "\n",
    "# 정답데이터\n",
    "fish_target=[1]*35+[0]*14\n",
    "print(type(fish_target))\n",
    "\n",
    "# 정답데이터\n",
    "fish_target_a=np.concatenate((np.ones(35),np.zeros(14)))\n",
    "print(type(fish_target_a))"
   ]
  },
  {
   "cell_type": "markdown",
   "metadata": {},
   "source": [
    "- fish_target는 리스트, fish_target_a는 배열"
   ]
  },
  {
   "cell_type": "code",
   "execution_count": 7,
   "metadata": {},
   "outputs": [
    {
     "name": "stdout",
     "output_type": "stream",
     "text": [
      "[5, 6, 7, 8, 9, 10, 11, 12, 13, 14, 15, 16, 17, 18, 19, 20, 21, 22, 23, 24, 25, 26, 27, 28, 29, 30, 31, 32, 33, 34, 35, 36, 37, 38, 39, 40, 41, 42, 43, 44, 45, 46, 47, 48, 49]\n",
      "[1.0, 1.0, 1.0, 1.0, 1.0, 1.0, 1.0, 1.0, 1.0, 1.0, 1.0, 1.0, 1.0, 0.9795918367346939, 0.9795918367346939, 0.9795918367346939, 0.9795918367346939, 0.9795918367346939, 0.9795918367346939, 0.9795918367346939, 0.9795918367346939, 0.9795918367346939, 0.9795918367346939, 0.9591836734693877, 0.7142857142857143, 0.7142857142857143, 0.7142857142857143, 0.7142857142857143, 0.7142857142857143, 0.7142857142857143, 0.7142857142857143, 0.7142857142857143, 0.7142857142857143, 0.7142857142857143, 0.7142857142857143, 0.7142857142857143, 0.7142857142857143, 0.7142857142857143, 0.7142857142857143, 0.7142857142857143, 0.7142857142857143, 0.7142857142857143, 0.7142857142857143, 0.7142857142857143, 0.7142857142857143]\n"
     ]
    }
   ],
   "source": [
    "# n_kneight\n",
    "neighbors=[]\n",
    "score=[]\n",
    "for i in range (5,50):\n",
    "    kn=KNeighborsClassifier(n_neighbors=i) # 객체생성\n",
    "    kn.fit(fish_data,fish_target) # 모델훈련\n",
    "    neighbors.append(i)\n",
    "    score.append(kn.score(fish_data,fish_target)) # 정확도/모델평가\n",
    "print(neighbors)\n",
    "print(score)"
   ]
  },
  {
   "cell_type": "code",
   "execution_count": 67,
   "metadata": {},
   "outputs": [],
   "source": [
    "# y축 눈금 설정을 위한 유니크 값으로\n",
    "uni_score=list(set(score))"
   ]
  },
  {
   "cell_type": "code",
   "execution_count": 8,
   "metadata": {},
   "outputs": [
    {
     "data": {
      "image/png": "[encoded data removed]",
      "text/plain": [
       "<Figure size 432x288 with 1 Axes>"
      ]
     },
     "metadata": {
      "needs_background": "light"
     },
     "output_type": "display_data"
    }
   ],
   "source": [
    "# 그래프 그리기\n",
    "plt.plot(neighbors,score,'s-',markersize=3,linewidth=1,color='skyblue')\n",
    "plt.xlabel('neighbors')\n",
    "plt.xticks(neighbors,fontsize=6)\n",
    "plt.ylabel('score')\n",
    "plt.yticks(score) # uni_score도 score도 둘다 가능\n",
    "plt.show()"
   ]
  },
  {
   "cell_type": "code",
   "execution_count": 9,
   "metadata": {},
   "outputs": [
    {
     "name": "stdout",
     "output_type": "stream",
     "text": [
      "[[ 5.          1.        ]\n",
      " [ 6.          1.        ]\n",
      " [ 7.          1.        ]\n",
      " [ 8.          1.        ]\n",
      " [ 9.          1.        ]\n",
      " [10.          1.        ]\n",
      " [11.          1.        ]\n",
      " [12.          1.        ]\n",
      " [13.          1.        ]\n",
      " [14.          1.        ]\n",
      " [15.          1.        ]\n",
      " [16.          1.        ]\n",
      " [17.          1.        ]\n",
      " [18.          0.97959184]\n",
      " [19.          0.97959184]\n",
      " [20.          0.97959184]\n",
      " [21.          0.97959184]\n",
      " [22.          0.97959184]\n",
      " [23.          0.97959184]\n",
      " [24.          0.97959184]\n",
      " [25.          0.97959184]\n",
      " [26.          0.97959184]\n",
      " [27.          0.97959184]\n",
      " [28.          0.95918367]\n",
      " [29.          0.71428571]\n",
      " [30.          0.71428571]\n",
      " [31.          0.71428571]\n",
      " [32.          0.71428571]\n",
      " [33.          0.71428571]\n",
      " [34.          0.71428571]\n",
      " [35.          0.71428571]\n",
      " [36.          0.71428571]\n",
      " [37.          0.71428571]\n",
      " [38.          0.71428571]\n",
      " [39.          0.71428571]\n",
      " [40.          0.71428571]\n",
      " [41.          0.71428571]\n",
      " [42.          0.71428571]\n",
      " [43.          0.71428571]\n",
      " [44.          0.71428571]\n",
      " [45.          0.71428571]\n",
      " [46.          0.71428571]\n",
      " [47.          0.71428571]\n",
      " [48.          0.71428571]\n",
      " [49.          0.71428571]]\n"
     ]
    }
   ],
   "source": [
    "# column_stack로 나타내기\n",
    "nei_sco=np.column_stack((neighbors,score))\n",
    "print(nei_sco)"
   ]
  },
  {
   "cell_type": "code",
   "execution_count": 77,
   "metadata": {},
   "outputs": [
    {
     "name": "stdout",
     "output_type": "stream",
     "text": [
      "    neighbors     score\n",
      "0         5.0  1.000000\n",
      "1         6.0  1.000000\n",
      "2         7.0  1.000000\n",
      "3         8.0  1.000000\n",
      "4         9.0  1.000000\n",
      "5        10.0  1.000000\n",
      "6        11.0  1.000000\n",
      "7        12.0  1.000000\n",
      "8        13.0  1.000000\n",
      "9        14.0  1.000000\n",
      "10       15.0  1.000000\n",
      "11       16.0  1.000000\n",
      "12       17.0  1.000000\n",
      "13       18.0  0.979592\n",
      "14       19.0  0.979592\n",
      "15       20.0  0.979592\n",
      "16       21.0  0.979592\n",
      "17       22.0  0.979592\n",
      "18       23.0  0.979592\n",
      "19       24.0  0.979592\n",
      "20       25.0  0.979592\n",
      "21       26.0  0.979592\n",
      "22       27.0  0.979592\n",
      "23       28.0  0.959184\n",
      "24       29.0  0.714286\n",
      "25       30.0  0.714286\n",
      "26       31.0  0.714286\n",
      "27       32.0  0.714286\n",
      "28       33.0  0.714286\n",
      "29       34.0  0.714286\n",
      "30       35.0  0.714286\n",
      "31       36.0  0.714286\n",
      "32       37.0  0.714286\n",
      "33       38.0  0.714286\n",
      "34       39.0  0.714286\n",
      "35       40.0  0.714286\n",
      "36       41.0  0.714286\n",
      "37       42.0  0.714286\n",
      "38       43.0  0.714286\n",
      "39       44.0  0.714286\n",
      "40       45.0  0.714286\n",
      "41       46.0  0.714286\n",
      "42       47.0  0.714286\n",
      "43       48.0  0.714286\n",
      "44       49.0  0.714286\n"
     ]
    }
   ],
   "source": [
    "# 데이터 프레임으로 변환\n",
    "nei_sco_df=pd.DataFrame(nei_sco,columns=('neighbors','score'))\n",
    "print(nei_sco_df)"
   ]
  },
  {
   "cell_type": "code",
   "execution_count": null,
   "metadata": {},
   "outputs": [],
   "source": []
  }
 ],
 "metadata": {
  "kernelspec": {
   "display_name": "Python 3.9.12 ('EV_PY39')",
   "language": "python",
   "name": "python3"
  },
  "language_info": {
   "codemirror_mode": {
    "name": "ipython",
    "version": 3
   },
   "file_extension": ".py",
   "mimetype": "text/x-python",
   "name": "python",
   "nbconvert_exporter": "python",
   "pygments_lexer": "ipython3",
   "version": "3.9.12"
  },
  "orig_nbformat": 4,
  "vscode": {
   "interpreter": {
    "hash": "d1dde8d3f1fc6169eb2afb9c884f1482ff31994a855398e316a83a9dc8ff488b"
   }
  }
 },
 "nbformat": 4,
 "nbformat_minor": 2
}
