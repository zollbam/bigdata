{
 "cells": [
  {
   "cell_type": "markdown",
   "metadata": {},
   "source": [
    "# 인물 퀴즈"
   ]
  },
  {
   "cell_type": "code",
   "execution_count": 5,
   "metadata": {},
   "outputs": [],
   "source": [
    "# 모듈 로딩\n",
    "from urllib.request import urlopen,Request,urlretrieve\n",
    "from bs4 import BeautifulSoup\n",
    "from selenium import webdriver\n",
    "from selenium.webdriver.chrome.service import Service\n",
    "from webdriver_manager.chrome import ChromeDriverManager\n",
    "from PIL import Image\n",
    "from sklearn.linear_model import LogisticRegression\n",
    "from sklearn.utils import all_estimators\n",
    "from sklearn.model_selection import train_test_split\n",
    "import matplotlib.pyplot as plt\n",
    "import os\n",
    "import cv2 \n",
    "import numpy as np \n",
    "import pandas as pd\n",
    "import random"
   ]
  },
  {
   "cell_type": "code",
   "execution_count": 6,
   "metadata": {},
   "outputs": [],
   "source": [
    "# 빈딕셔너리 만들기\n",
    "dic_name={}"
   ]
  },
  {
   "cell_type": "code",
   "execution_count": 7,
   "metadata": {},
   "outputs": [],
   "source": [
    "# 동적 웹 크롤링으로 사진저장 함수\n",
    "def image_save(urlpath,starname,korname):\n",
    "    dic_name[starname]=korname\n",
    "    chrome_options = webdriver.ChromeOptions()\n",
    "    driver = webdriver.Chrome(service=Service(ChromeDriverManager().install()), options=chrome_options)\n",
    "    # driver = webdriver.Chrome('C:/Users/USER/googlecrawing/chromedriver.exe')\n",
    "\n",
    "    # selenium 버전이 바뀌면서 경로 지정이 아닌 설치해서 하는 것으로 바뀐거 같음\n",
    "\n",
    "    driver.get(urlpath)\n",
    "    html=driver.page_source\n",
    "    soup=BeautifulSoup(html,'html.parser')\n",
    "    driver.quit()\n",
    "\n",
    "    # 태그-속성 찾기\n",
    "    image_finds=soup.select(\"div.bRMDJf img\")\n",
    "    \n",
    "    # 이미지의 url찾기\n",
    "    image=[]\n",
    "    for image_find in image_finds:\n",
    "        try:\n",
    "            image.append(image_find['src'])\n",
    "            image.append(image_find['data-src'])\n",
    "        except:\n",
    "            pass\n",
    "    \n",
    "    # 폴더 만들기\n",
    "    if not os.path.exists('./'+starname):\n",
    "        os.makedirs(starname)\n",
    "    \n",
    "    # 파일 저장하기\n",
    "    for i in range(0,len(image)):\n",
    "        urlretrieve(image[i],'./'+starname+'/'+starname+str(i)+'.png')\n",
    "\n",
    "    # 파일 크기 조절\n",
    "    for png in os.listdir('./'+starname):\n",
    "        Image.open('./'+starname+'/'+png).resize((2000,2000)).save('./'+starname+'/'+png)"
   ]
  },
  {
   "cell_type": "markdown",
   "metadata": {},
   "source": [
    "### 여성"
   ]
  },
  {
   "cell_type": "code",
   "execution_count": 8,
   "metadata": {},
   "outputs": [],
   "source": [
    "# 아이유\n",
    "image_save('https://www.google.com/search?q=%EC%95%84%EC%9D%B4%EC%9C%A0&rlz=1C1CHZN_koKR1011KR1011&sxsrf=ALiCzsa2Ls7XEX5XKyhGZxgnqtkgZKVzKw:1664539105796&source=lnms&tbm=isch&sa=X&ved=2ahUKEwj4jfawu7z6AhVKY94KHailDGYQ_AUoAXoECAIQAw&biw=1396&bih=596&dpr=1.38','IU','아이유')"
   ]
  },
  {
   "cell_type": "code",
   "execution_count": 9,
   "metadata": {},
   "outputs": [],
   "source": [
    "# 유진쓰\n",
    "image_save('https://www.google.com/search?q=%EC%95%88%EC%9C%A0%EC%A7%84&tbm=isch&ved=2ahUKEwiCltWyu7z6AhXTbN4KHb2aDmkQ2-cCegQIABAA&oq=%EC%95%88%EC%9C%A0%EC%A7%84&gs_lcp=CgNpbWcQAzoICAAQgAQQsQM6BQgAEIAEOgsIABCABBCxAxCDAToICAAQsQMQgwFQgwVYlEpgiktoAnAAeAGAAZkBiAGaCZIBAzAuOZgBAKABAaoBC2d3cy13aXotaW1nwAEB&sclient=img&ei=5dk2Y8KPG9PZ-Qa9tbrIBg&bih=596&biw=1396&rlz=1C1CHZN_koKR1011KR1011','YUGIN','유진쓰')"
   ]
  },
  {
   "cell_type": "code",
   "execution_count": 10,
   "metadata": {},
   "outputs": [],
   "source": [
    "# 김태희\n",
    "image_save('https://www.google.com/search?q=%EA%B9%80%ED%83%9C%ED%9D%AC&rlz=1C1CHZO_koKR1025KR1025&sxsrf=ALiCzsZmvVVN4g1FH0TpCV-d7t1RharQJw:1664659195053&source=lnms&tbm=isch&sa=X&ved=2ahUKEwiG2_jf-r_6AhVOdd4KHaswDhsQ_AUoAXoECAEQAw&biw=1707&bih=924&dpr=1.5','kimtaehui','김태희')"
   ]
  },
  {
   "cell_type": "code",
   "execution_count": 11,
   "metadata": {},
   "outputs": [],
   "source": [
    "# 이영애\n",
    "image_save('https://www.google.com/search?q=%EC%9D%B4%EC%98%81%EC%95%A0&tbm=isch&ved=2ahUKEwjg7dPg-r_6AhUDdJQKHbzgCqMQ2-cCegQIABAA&oq=%EC%9D%B4%EC%98%81%EC%95%A0&gs_lcp=CgNpbWcQAzIICAAQgAQQsQMyCAgAEIAEELEDMgUIABCABDIFCAAQgAQyBQgAEIAEMgUIABCABDIFCAAQgAQyBQgAEIAEMgUIABCABDIFCAAQgAQ6CAgAELEDEIMBOgQIABAYOgYIABAKEBg6CwgAEIAEELEDEIMBUJ8EWOgZYKwbaAlwAHgBgAF8iAGFDJIBBDAuMTSYAQCgAQGqAQtnd3Mtd2l6LWltZ7ABAMABAQ&sclient=img&ei=_K44Y-D_IIPo0QS8wauYCg&bih=924&biw=1707&rlz=1C1CHZO_koKR1025KR1025','leeyoungae','이영애')"
   ]
  },
  {
   "cell_type": "code",
   "execution_count": 12,
   "metadata": {},
   "outputs": [],
   "source": [
    "# 박보영\n",
    "image_save('https://www.google.com/search?q=%EB%B0%95%EB%B3%B4%EC%98%81&tbm=isch&ved=2ahUKEwjc44yH-7_6AhVjw4sBHX8uBPMQ2-cCegQIABAA&oq=%EB%B0%95%EB%B3%B4%EC%98%81&gs_lcp=CgNpbWcQAzIICAAQgAQQsQMyBQgAEIAEMgUIABCABDIFCAAQgAQyBQgAEIAEMgUIABCABDIFCAAQgAQyBQgAEIAEMgUIABCABDIFCAAQgAQ6CwgAEIAEELEDEIMBOgQIABADOggIABCxAxCDAVDeBFjsHGCbHmgFcAB4AYABlQGIAaAMkgEEMC4xNJgBAKABAaoBC2d3cy13aXotaW1nsAEAwAEB&sclient=img&ei=Ta84Y5yJCuOGr7wP_9yQmA8&bih=924&biw=1707&rlz=1C1CHZO_koKR1025KR1025','parkboyoung','박보영')"
   ]
  },
  {
   "cell_type": "code",
   "execution_count": 13,
   "metadata": {},
   "outputs": [],
   "source": [
    "# 노정의 \n",
    "image_save('https://www.google.com/search?q=%EB%85%B8%EC%A0%95%EC%9D%98&tbm=isch&ved=2ahUKEwjP-eef-7_6AhX2z4sBHWcWCBMQ2-cCegQIABAA&oq=%EB%85%B8%EC%A0%95%EC%9D%98&gs_lcp=CgNpbWcQAzILCAAQgAQQsQMQgwEyBQgAEIAEMgUIABCABDIFCAAQgAQyBQgAEIAEMgUIABCABDIFCAAQgAQyBQgAEIAEMgUIABCABDIFCAAQgAQ6CAgAEIAEELEDOgQIABADOggIABCxAxCDAVCOBViGEWD-FGgCcAB4AoABnwGIAYYNkgEEMC4xMZgBAKABAaoBC2d3cy13aXotaW1nsAEAwAEB&sclient=img&ei=gK84Y8-5PPafr7wP56ygmAE&bih=924&biw=1707&rlz=1C1CHZO_koKR1025KR1025','nojeongi','노정의')"
   ]
  },
  {
   "cell_type": "code",
   "execution_count": 14,
   "metadata": {},
   "outputs": [],
   "source": [
    "# 김다미\n",
    "image_save('https://www.google.com/search?q=%EA%B9%80%EB%8B%A4%EB%AF%B8&tbm=isch&ved=2ahUKEwjrjZC_-7_6AhVkKaYKHWuaDx0Q2-cCegQIABAA&oq=%EA%B9%80%EB%8B%A4%EB%AF%B8&gs_lcp=CgNpbWcQAzILCAAQgAQQsQMQgwEyBQgAEIAEMgsIABCABBCxAxCDATIFCAAQgAQyBQgAEIAEMgUIABCABDIFCAAQgAQyBQgAEIAEMgUIABCABDIFCAAQgAQ6CAgAELEDEIMBOggIABCABBCxA1DiBFidDmCHD2gCcAB4AoABigGIAbwJkgEDMC45mAEAoAEBqgELZ3dzLXdpei1pbWewAQDAAQE&sclient=img&ei=wq84Y-ukKOTSmAXrtL7oAQ&bih=924&biw=1707&rlz=1C1CHZO_koKR1025KR1025','kimdami','김다미')"
   ]
  },
  {
   "cell_type": "code",
   "execution_count": 15,
   "metadata": {},
   "outputs": [],
   "source": [
    "# 권나라\n",
    "image_save('https://www.google.com/search?q=%EA%B6%8C%EB%82%98%EB%9D%BC&tbm=isch&ved=2ahUKEwjE5o3b-7_6AhVKbJQKHTYaDG4Q2-cCegQIABAA&oq=%EA%B6%8C%EB%82%98%EB%9D%BC&gs_lcp=CgNpbWcQAzIICAAQgAQQsQMyBQgAEIAEMgUIABCABDIFCAAQgAQyBQgAEIAEMgUIABCABDIFCAAQgAQyBQgAEIAEMgUIABCABDIFCAAQgAQ6CwgAEIAEELEDEIMBOggIABCxAxCDAToECAAQA1CWBliVDmCID2gBcAB4AIABlwGIAc4HkgEDMC45mAEAoAEBqgELZ3dzLXdpei1pbWfAAQE&sclient=img&ei=_a84Y4T0FMrY0QS2tLDwBg&bih=924&biw=1707&rlz=1C1CHZO_koKR1025KR1025','nara','권나라')"
   ]
  },
  {
   "cell_type": "code",
   "execution_count": 16,
   "metadata": {},
   "outputs": [],
   "source": [
    "# 송지효\n",
    "image_save('https://www.google.com/search?q=%EC%86%A1%EC%A7%80%ED%9A%A8&tbm=isch&ved=2ahUKEwizrPbt-7_6AhXrxIsBHVYIDxgQ2-cCegQIABAA&oq=%EC%86%A1%EC%A7%80%ED%9A%A8&gs_lcp=CgNpbWcQAzILCAAQgAQQsQMQgwEyBQgAEIAEMgUIABCABDIFCAAQgAQyBQgAEIAEMgUIABCABDIFCAAQgAQyBQgAEIAEMgUIABCABDIFCAAQgAQ6CAgAEIAEELEDOggIABCxAxCDAVDyCljbGGCCIWgBcAB4AIABnwGIAYgHkgEDMS43mAEAoAEBqgELZ3dzLXdpei1pbWfAAQE&sclient=img&ei=JLA4Y7OKMeuJr7wP1pC8wAE&bih=924&biw=1707&rlz=1C1CHZO_koKR1025KR1025','songjihye','송지효')"
   ]
  },
  {
   "cell_type": "code",
   "execution_count": 17,
   "metadata": {},
   "outputs": [],
   "source": [
    "# 진세연\n",
    "image_save('https://www.google.com/search?q=%EC%A7%84%EC%84%B8%EC%97%B0&tbm=isch&ved=2ahUKEwjmufae_7_6AhUUDJQKHZtvALgQ2-cCegQIABAA&oq=%EC%A7%84%EC%84%B8%EC%97%B0&gs_lcp=CgNpbWcQAzIICAAQgAQQsQMyBQgAEIAEMgUIABCABDIFCAAQgAQyBQgAEIAEMgUIABCABDIFCAAQgAQyBQgAEIAEMgUIABCABDIFCAAQgAQ6BAgAEBhQrAVYiQpguwtoAHAAeACAAWiIAdgEkgEDMy4zmAEAoAEBqgELZ3dzLXdpei1pbWfAAQE&sclient=img&ei=sLM4Y-ahNZSY0ASb34HACw&bih=924&biw=1707&rlz=1C1CHZO_koKR1025KR1025','jinseyeon','진세연')"
   ]
  },
  {
   "cell_type": "code",
   "execution_count": 18,
   "metadata": {},
   "outputs": [],
   "source": [
    "# 소녀시대 윤아\n",
    "image_save('https://www.google.com/search?q=%EC%9C%A4%EC%95%84&tbm=isch&ved=2ahUKEwia5r-g_7_6AhUFVpQKHemJBkoQ2-cCegQIABAA&oq=%EC%9C%A4%EC%95%84&gs_lcp=CgNpbWcQAzIICAAQgAQQsQMyBQgAEIAEMgUIABCABDIFCAAQgAQyBQgAEIAEMgUIABCABDIFCAAQgAQyBQgAEIAEMgUIABCABDIFCAAQgAQ6CwgAEIAEELEDEIMBOggIABCxAxCDAVCoBFjuFGCMFmgBcAB4AIABjQGIAbMGkgEDNS4zmAEAoAEBqgELZ3dzLXdpei1pbWewAQDAAQE&sclient=img&ei=tLM4Y5q8CoWs0QTpk5rQBA&bih=924&biw=1707&rlz=1C1CHZO_koKR1025KR1025','yuna','윤아')"
   ]
  },
  {
   "cell_type": "code",
   "execution_count": 19,
   "metadata": {},
   "outputs": [],
   "source": [
    "# 김유정\n",
    "image_save('https://www.google.com/search?q=%EA%B9%80%EC%9C%A0%EC%A0%95&tbm=isch&ved=2ahUKEwioneuy_7_6AhVI_JQKHZD-Av8Q2-cCegQIABAA&oq=%EA%B9%80%EC%9C%A0%EC%A0%95&gs_lcp=CgNpbWcQAzIICAAQgAQQsQMyBQgAEIAEMgsIABCABBCxAxCDATIFCAAQgAQyBQgAEIAEMgUIABCABDIFCAAQgAQyBQgAEIAEMgUIABCABDIFCAAQgAQ6CAgAELEDEIMBOgQIABADOgYIABAKEBhQvgVY9iNgoCxoCHAAeACAAYwBiAGLCpIBAzMuOZgBAKABAaoBC2d3cy13aXotaW1nsAEAwAEB&sclient=img&ei=2rM4Y6jIJsj40wSQ_Yv4Dw&bih=924&biw=1707&rlz=1C1CHZO_koKR1025KR1025','limyoojung','김유정')"
   ]
  },
  {
   "cell_type": "code",
   "execution_count": 20,
   "metadata": {},
   "outputs": [],
   "source": [
    "# 박신혜\n",
    "image_save('https://www.google.com/search?q=%EB%B0%95%EC%8B%A0%ED%98%9C&tbm=isch&ved=2ahUKEwim48vK_7_6AhUgy4sBHQUBDzAQ2-cCegQIABAA&oq=%EB%B0%95%EC%8B%A0%ED%98%9C&gs_lcp=CgNpbWcQAzIICAAQgAQQsQMyBQgAEIAEMgUIABCABDIFCAAQgAQyBQgAEIAEMgUIABCABDIFCAAQgAQyBQgAEIAEMgUIABCABDIFCAAQgAQ6CwgAEIAEELEDEIMBOggIABCxAxCDAToECAAQA1CFBli3FWDdF2gDcAB4AIABmgGIAdMJkgEEMC4xMZgBAKABAaoBC2d3cy13aXotaW1nsAEAwAEB&sclient=img&ei=DLQ4Y6atG6CWr7wPhYK8gAM&bih=924&biw=1707&rlz=1C1CHZO_koKR1025KR1025','parkshinhye','박신혜')"
   ]
  },
  {
   "cell_type": "code",
   "execution_count": 21,
   "metadata": {},
   "outputs": [],
   "source": [
    "# 안소희\n",
    "image_save('https://www.google.com/search?q=%EC%95%88%EC%86%8C%ED%9D%AC&tbm=isch&ved=2ahUKEwiX8_3h_7_6AhUG0YsBHXCVDSUQ2-cCegQIABAA&oq=%EC%95%88%EC%86%8C%ED%9D%AC&gs_lcp=CgNpbWcQAzIICAAQgAQQsQMyBQgAEIAEMgUIABCABDIFCAAQgAQyBQgAEIAEMgUIABCABDIFCAAQgAQyBQgAEIAEMgUIABCABDIFCAAQgAQ6BAgAEAM6CwgAEIAEELEDEIMBOggIABCxAxCDAVD_DViTKGDlKmgDcAB4AYABnQKIAYgNkgEGMy4xMS4xmAEAoAEBqgELZ3dzLXdpei1pbWewAQDAAQE&sclient=img&ei=PbQ4Y9fgHoair7wP8Kq2qAI&bih=924&biw=1707&rlz=1C1CHZO_koKR1025KR1025','ansohee','안소희')"
   ]
  },
  {
   "cell_type": "code",
   "execution_count": 22,
   "metadata": {},
   "outputs": [],
   "source": [
    "# 청하\n",
    "image_save('https://www.google.com/search?q=%EC%B2%AD%ED%95%98&tbm=isch&ved=2ahUKEwjw9eLx_7_6AhVI8ZQKHc2cBCoQ2-cCegQIABAA&oq=%EC%B2%AD%ED%95%98&gs_lcp=CgNpbWcQAzIICAAQgAQQsQMyBQgAEIAEMgUIABCABDIFCAAQgAQyBQgAEIAEMgUIABCABDIFCAAQgAQyBQgAEIAEMgUIABCABDIFCAAQgAQ6CwgAEIAEELEDEIMBOggIABCxAxCDAVC7BViKDWCCDmgBcAB4AIABb4gBxgaSAQMxLjeYAQCgAQGqAQtnd3Mtd2l6LWltZ7ABAMABAQ&sclient=img&ei=XrQ4Y_DOJcji0wTNuZLQAg&bih=924&biw=1707&rlz=1C1CHZO_koKR1025KR1025',' chungha','청하')"
   ]
  },
  {
   "cell_type": "code",
   "execution_count": 23,
   "metadata": {},
   "outputs": [],
   "source": [
    "# 한지민\n",
    "image_save('https://www.google.com/search?q=%ED%95%9C%EC%A7%80%EB%AF%BC&tbm=isch&ved=2ahUKEwjz97uBgMD6AhUDfpQKHTJfBT4Q2-cCegQIABAA&oq=%ED%95%9C%EC%A7%80%EB%AF%BC&gs_lcp=CgNpbWcQAzIICAAQgAQQsQMyBQgAEIAEMgUIABCABDIFCAAQgAQyBQgAEIAEMgUIABCABDIFCAAQgAQyBQgAEIAEMgUIABCABDIFCAAQgAQ6CwgAEIAEELEDEIMBOggIABCxAxCDAToECAAQA1CGBFiVFGC3FWgEcAB4AoABeIgBmgmSAQQxLjEwmAEAoAEBqgELZ3dzLXdpei1pbWewAQDAAQE&sclient=img&ei=f7Q4Y7O8IIP80QSyvpXwAw&bih=924&biw=1707&rlz=1C1CHZO_koKR1025KR1025','hanjimin','한지민')"
   ]
  },
  {
   "cell_type": "code",
   "execution_count": 24,
   "metadata": {},
   "outputs": [],
   "source": [
    "# 오연서\n",
    "image_save('https://www.google.com/search?q=%EC%98%A4%EC%97%B0%EC%84%9C&tbm=isch&ved=2ahUKEwiyvNGlgMD6AhVKbJQKHTYaDG4Q2-cCegQIABAA&oq=%EC%98%A4%EC%97%B0%EC%84%9C&gs_lcp=CgNpbWcQAzIICAAQgAQQsQMyBQgAEIAEMgUIABCABDIFCAAQgAQyBQgAEIAEMgUIABCABDIFCAAQgAQyBQgAEIAEMgUIABCABDIFCAAQgAQ6BAgAEBg6BggAEAoQGFD1BFiHB2CkCGgAcAB4AIABaogBlgOSAQMyLjKYAQCgAQGqAQtnd3Mtd2l6LWltZ8ABAQ&sclient=img&ei=y7Q4Y_KqF8rY0QS2tLDwBg&bih=924&biw=1707&rlz=1C1CHZO_koKR1025KR1025','ohyeonseo','오연서')"
   ]
  },
  {
   "cell_type": "code",
   "execution_count": 25,
   "metadata": {},
   "outputs": [],
   "source": [
    "# 고성희\n",
    "image_save('https://www.google.com/search?q=%EA%B3%A0%EC%84%B1%ED%9D%AC&tbm=isch&ved=2ahUKEwiiktymgMD6AhVwz4sBHf3dB7AQ2-cCegQIABAA&oq=%EA%B3%A0%EC%84%B1%ED%9D%AC&gs_lcp=CgNpbWcQAzILCAAQgAQQsQMQgwEyCwgAEIAEELEDEIMBMgUIABCABDIFCAAQgAQyBQgAEIAEMgUIABCABDIFCAAQgAQyBQgAEIAEMgUIABCABDIFCAAQgAQ6CAgAEIAEELEDOgQIABATOggIABCxAxCDAToECAAQA1CTBVjiMmDlNWgHcAB4AIAB3AGIAeMTkgEGMC4xNS4xmAEAoAEBqgELZ3dzLXdpei1pbWewAQDAAQE&sclient=img&ei=zbQ4Y-L3J_Cer7wP_bufgAs&bih=924&biw=1707&rlz=1C1CHZO_koKR1025KR1025','goseonghe','고성희')"
   ]
  },
  {
   "cell_type": "code",
   "execution_count": 26,
   "metadata": {},
   "outputs": [],
   "source": [
    "# 이효리\n",
    "image_save('https://www.google.com/search?q=%EC%9D%B4%ED%9A%A8%EB%A6%AC&tbm=isch&ved=2ahUKEwj9hPi_gMD6AhUSzosBHaC_D2cQ2-cCegQIABAA&oq=%EC%9D%B4%ED%9A%A8%EB%A6%AC&gs_lcp=CgNpbWcQAzILCAAQgAQQsQMQgwEyBQgAEIAEMgUIABCABDIFCAAQgAQyBQgAEIAEMgUIABCABDIFCAAQgAQyBQgAEIAEMgUIABCABDIFCAAQgAQ6CAgAEIAEELEDOggIABCxAxCDAToECAAQGFCXBFirJGDOJWgJcAB4AYABkgGIAY4NkgEEMi4xM5gBAKABAaoBC2d3cy13aXotaW1nsAEAwAEB&sclient=img&ei=ArU4Y_37IJKcr7wPoP--uAY&bih=924&biw=1707&rlz=1C1CHZO_koKR1025KR1025','leehyori','이효리')"
   ]
  },
  {
   "cell_type": "code",
   "execution_count": 27,
   "metadata": {},
   "outputs": [],
   "source": [
    "# 고은아\n",
    "image_save('https://www.google.com/search?q=%EA%B3%A0%EC%9D%80%EC%95%84&tbm=isch&ved=2ahUKEwiF9LvrgMD6AhV2z4sBHbCKCNAQ2-cCegQIABAA&oq=%EA%B3%A0%EC%9D%80%EC%95%84&gs_lcp=CgNpbWcQAzIICAAQgAQQsQMyBQgAEIAEMgUIABCABDIFCAAQgAQyBQgAEIAEMgUIABCABDIFCAAQgAQyBQgAEIAEMgUIABCABDIFCAAQgAQ6BggAEB4QBzoECAAQHlDfBFjfBGChBmgAcAB4AIABaIgBzwGSAQMwLjKYAQCgAQGqAQtnd3Mtd2l6LWltZ8ABAQ&sclient=img&ei=XbU4Y8XRMvaer7wPsJWigA0&bih=924&biw=1707&rlz=1C1CHZO_koKR1025KR1025','goeuna','고은아')"
   ]
  },
  {
   "cell_type": "code",
   "execution_count": 28,
   "metadata": {},
   "outputs": [],
   "source": [
    "# 장나라\n",
    "image_save('https://www.google.com/search?q=%EC%9E%A5%EB%82%98%EB%9D%BC&tbm=isch&ved=2ahUKEwisp_PsgMD6AhVLUJQKHbNGC5cQ2-cCegQIABAA&oq=%EC%9E%A5%EB%82%98%EB%9D%BC&gs_lcp=CgNpbWcQAzIICAAQgAQQsQMyCwgAEIAEELEDEIMBMgUIABCABDIFCAAQgAQyBQgAEIAEMgUIABCABDIFCAAQgAQyBQgAEIAEMgUIABCABDIFCAAQgAQ6CAgAELEDEIMBUOEDWMUWYKAaaAJwAHgBgAGXAYgBgAmSAQQwLjEwmAEAoAEBqgELZ3dzLXdpei1pbWewAQDAAQE&sclient=img&ei=YLU4Y6z3Msug0QSzja24CQ&bih=924&biw=1707&rlz=1C1CHZO_koKR1025KR1025','jangnara','장나라')"
   ]
  },
  {
   "cell_type": "code",
   "execution_count": 29,
   "metadata": {},
   "outputs": [],
   "source": [
    "# 전지현\n",
    "image_save('https://www.google.com/search?q=%EC%A0%84%EC%A7%80%ED%98%84&tbm=isch&ved=2ahUKEwiqm5OHgcD6AhVjw4sBHX8uBPMQ2-cCegQIABAA&oq=%EC%A0%84%EC%A7%80%ED%98%84&gs_lcp=CgNpbWcQAzIICAAQgAQQsQMyBQgAEIAEMggIABCABBCxAzIFCAAQgAQyBQgAEIAEMgUIABCABDIFCAAQgAQyBQgAEIAEMgUIABCABDIFCAAQgAQ6CwgAEIAEELEDEIMBOggIABCxAxCDAVDRD1iDJmC9J2gFcAB4AYABnQGIAa4LkgEEMi4xMZgBAKABAaoBC2d3cy13aXotaW1nsAEAwAEB&sclient=img&ei=l7U4Y-rzNeOGr7wP_9yQmA8&bih=924&biw=1707&rlz=1C1CHZO_koKR1025KR1025','jeonjihyeon','전지현')"
   ]
  },
  {
   "cell_type": "code",
   "execution_count": 30,
   "metadata": {},
   "outputs": [],
   "source": [
    "# 김태리\n",
    "image_save('https://www.google.com/search?q=%EA%B9%80%ED%83%9C%EB%A6%AC&tbm=isch&ved=2ahUKEwja26eigcD6AhVUx5QKHdgfCw0Q2-cCegQIABAA&oq=%EA%B9%80%ED%83%9C%EB%A6%AC&gs_lcp=CgNpbWcQAzIICAAQgAQQsQMyBQgAEIAEMgUIABCABDIFCAAQgAQyBQgAEIAEMgUIABCABDIFCAAQgAQyBQgAEIAEMgUIABCABDIFCAAQgAQ6CAgAELEDEIMBOgsIABCABBCxAxCDAVCfBljMDWDSD2gBcAB4AYABbogBqgaSAQM0LjSYAQCgAQGqAQtnd3Mtd2l6LWltZ8ABAQ&sclient=img&ei=0LU4Y9qzM9SO0wTYv6xo&bih=924&biw=1707&rlz=1C1CHZO_koKR1025KR1025','kimteari','김태리')"
   ]
  },
  {
   "cell_type": "code",
   "execution_count": 31,
   "metadata": {},
   "outputs": [],
   "source": [
    "# 하연수\n",
    "image_save('https://www.google.com/search?q=%ED%95%98%EC%97%B0%EC%88%98&tbm=isch&ved=2ahUKEwjSoNGtgcD6AhXhJqYKHa8mDCsQ2-cCegQIABAA&oq=%ED%95%98%EC%97%B0%EC%88%98&gs_lcp=CgNpbWcQAzIICAAQgAQQsQMyBQgAEIAEMgUIABCABDIFCAAQgAQyBQgAEIAEMgUIABCABDIFCAAQgAQyBQgAEIAEMgUIABCABDIFCAAQgAQ6CwgAEIAEELEDEIMBOggIABCxAxCDAToECAAQA1D3BFjZF2DhHGgCcAB4AIABhgGIAZAKkgEEMC4xMJgBAKABAaoBC2d3cy13aXotaW1nsAEAwAEB&sclient=img&ei=6LU4Y9KMJOHNmAWvzbDYAg&bih=924&biw=1707&rlz=1C1CHZO_koKR1025KR1025','hayeonsu','하연수')"
   ]
  },
  {
   "cell_type": "code",
   "execution_count": 32,
   "metadata": {},
   "outputs": [],
   "source": [
    "# 이유비\n",
    "image_save('https://www.google.com/search?q=%EC%9D%B4%EC%9C%A0%EB%B9%84&tbm=isch&ved=2ahUKEwiM2dTEgcD6AhUQwZQKHaOsCZcQ2-cCegQIABAA&oq=%EC%9D%B4%EC%9C%A0%EB%B9%84&gs_lcp=CgNpbWcQAzIICAAQgAQQsQMyBQgAEIAEMgUIABCABDIFCAAQgAQyBQgAEIAEMgUIABCABDIFCAAQgAQyBQgAEIAEMgUIABCABDIFCAAQgAQ6BAgAEAM6CAgAELEDEIMBOgsIABCABBCxAxCDAVC2BFjDD2DxEmgDcAB4AYABwQGIAbsJkgEDMC45mAEAoAEBqgELZ3dzLXdpei1pbWewAQDAAQE&sclient=img&ei=GLY4Y4ztNZCC0wSj2aa4CQ&bih=924&biw=1707&rlz=1C1CHZO_koKR1025KR1025','leeyoobi','이유비')"
   ]
  },
  {
   "cell_type": "code",
   "execution_count": 33,
   "metadata": {},
   "outputs": [],
   "source": [
    "# 여자친구 은하\n",
    "image_save('https://www.google.com/search?q=VIVIZ+%EC%9D%80%ED%95%98&rlz=1C1CHZO_koKR1025KR1025&hl=ko&sxsrf=ALiCzsZ_E4aZ1_DcdmB89ylpWDKrDwo0Pg:1664661187216&source=lnms&tbm=isch&sa=X&ved=2ahUKEwjE3vCVgsD6AhXN6mEKHfFICR8Q_AUoAXoECAIQAw&biw=1707&bih=924&dpr=1.5','eunha','은하')"
   ]
  },
  {
   "cell_type": "code",
   "execution_count": 34,
   "metadata": {},
   "outputs": [],
   "source": [
    "# 노사연\n",
    "image_save('https://www.google.com/search?q=%EB%85%B8%EC%82%AC%EC%97%B0&tbm=isch&ved=2ahUKEwix18qXgsD6AhXdz4sBHSTqD6wQ2-cCegQIABAA&oq=%EB%85%B8%EC%82%AC%EC%97%B0&gs_lcp=CgNpbWcQAzIFCAAQgAQyBQgAEIAEMgUIABCABDIFCAAQgAQyBQgAEIAEMgUIABCABDIFCAAQgAQyBQgAEIAEMgUIABCABDIFCAAQgAQ6BAgAEBg6CAgAEIAEELEDOgsIABCABBCxAxCDAToICAAQsQMQgwFQnwRY8i1gvC9oCXAAeASAAZcBiAGVEZIBBDEuMTmYAQCgAQGqAQtnd3Mtd2l6LWltZ7ABAMABAQ&sclient=img&ei=xrY4Y7HcL92fr7wPpNS_4Ao&bih=924&biw=1707&rlz=1C1CHZO_koKR1025KR1025&hl=ko','nosayeon','노사연')"
   ]
  },
  {
   "cell_type": "code",
   "execution_count": 35,
   "metadata": {},
   "outputs": [],
   "source": [
    "# 카리나\n",
    "image_save('https://www.google.com/search?q=%EC%B9%B4%EB%A6%AC%EB%82%98&tbm=isch&ved=2ahUKEwi1ud-0gsD6AhVdTZQKHcgtBdcQ2-cCegQIABAA&oq=%EC%B9%B4%EB%A6%AC%EB%82%98&gs_lcp=CgNpbWcQAzIICAAQgAQQsQMyBAgAEAMyCAgAEIAEELEDMgQIABADMgQIABADMgUIABCABDIFCAAQgAQyCAgAELEDEIMBMgUIABCABDIFCAAQgAQ6CwgAEIAEELEDEIMBUOQEWMgRYK8eaANwAHgBgAFuiAGtB5IBAzEuOJgBAKABAaoBC2d3cy13aXotaW1nsAEAwAEB&sclient=img&ei=A7c4Y_WrOd2a0QTI25S4DQ&bih=924&biw=1707&rlz=1C1CHZO_koKR1025KR1025&hl=ko','karina','카리나')"
   ]
  },
  {
   "cell_type": "code",
   "execution_count": 36,
   "metadata": {},
   "outputs": [],
   "source": [
    "# 예지\n",
    "image_save('https://www.google.com/search?q=%EC%98%88%EC%A7%80&tbm=isch&ved=2ahUKEwitruXDgsD6AhVB0YsBHUdEDLMQ2-cCegQIABAA&oq=%EC%98%88%EC%A7%80&gs_lcp=CgNpbWcQAzIICAAQgAQQsQMyBQgAEIAEMgUIABCABDIFCAAQgAQyBQgAEIAEMgUIABCABDIFCAAQgAQyBQgAEIAEMgUIABCABDIFCAAQgAQ6BAgAEAM6CAgAELEDEIMBOgsIABCABBCxAxCDAVDVBFi0EmC7F2gCcAB4AIABe4gB_wWSAQMxLjaYAQCgAQGqAQtnd3Mtd2l6LWltZ7ABAMABAQ&sclient=img&ei=I7c4Y-2QHsGir7wPx4ixmAs&bih=924&biw=1707&rlz=1C1CHZO_koKR1025KR1025&hl=ko','yegi','예지')"
   ]
  },
  {
   "cell_type": "code",
   "execution_count": 37,
   "metadata": {},
   "outputs": [],
   "source": [
    "# 선미\n",
    "image_save('https://www.google.com/search?q=%EC%84%A0%EB%AF%B8&tbm=isch&ved=2ahUKEwiH6aHTgsD6AhXMG6YKHW0MCmcQ2-cCegQIABAA&oq=%EC%84%A0%EB%AF%B8&gs_lcp=CgNpbWcQAzIICAAQgAQQsQMyBQgAEIAEMgUIABCABDIFCAAQgAQyBQgAEIAEMgUIABCABDIFCAAQgAQyBQgAEIAEMgUIABCABDIFCAAQgAQ6CAgAELEDEIMBOgsIABCABBCxAxCDAVDJA1j7CWCRC2gBcAB4AYABsQGIAa8HkgEDMC43mAEAoAEBqgELZ3dzLXdpei1pbWewAQDAAQE&sclient=img&ei=Q7c4Y8e7Ocy3mAXtmKi4Bg&bih=924&biw=1707&rlz=1C1CHZO_koKR1025KR1025&hl=ko','seonmi','선미')"
   ]
  },
  {
   "cell_type": "code",
   "execution_count": 38,
   "metadata": {},
   "outputs": [],
   "source": [
    "# 경리\n",
    "image_save('https://www.google.com/search?q=%EA%B2%BD%EB%A6%AC&tbm=isch&ved=2ahUKEwjXn8zkgsD6AhXTxIsBHfiSBMYQ2-cCegQIABAA&oq=%EA%B2%BD%EB%A6%AC&gs_lcp=CgNpbWcQAzIICAAQgAQQsQMyBQgAEIAEMgUIABCABDIFCAAQgAQyBQgAEIAEMgUIABCABDIFCAAQgAQyBQgAEIAEMgUIABCABDIFCAAQgAQ6CwgAEIAEELEDEIMBOggIABCxAxCDAToECAAQA1CeBFjPC2CkDWgBcAB4AIABjAGIAfYFkgEDMy40mAEAoAEBqgELZ3dzLXdpei1pbWewAQDAAQE&sclient=img&ei=aLc4Y9fLEdOJr7wP-KWSsAw&bih=924&biw=1707&rlz=1C1CHZO_koKR1025KR1025&hl=ko','gyeongri','경리')"
   ]
  },
  {
   "cell_type": "code",
   "execution_count": 39,
   "metadata": {},
   "outputs": [],
   "source": [
    "# 오하영\n",
    "image_save('https://www.google.com/search?q=%EC%98%A4%ED%95%98%EC%98%81&tbm=isch&ved=2ahUKEwitv7WUg8D6AhVwz4sBHf3dB7AQ2-cCegQIABAA&oq=dhgkdud&gs_lcp=CgNpbWcQARgAMggIABCABBCxAzIFCAAQgAQyBQgAEIAEMgUIABCABDIFCAAQgAQyBQgAEIAEMgUIABCABDIFCAAQgAQyBQgAEIAEMgUIABCABDoICAAQsQMQgwE6CwgAEIAEELEDEIMBUJgHWJkNYK0daABwAHgAgAFviAHZBpIBAzAuOJgBAKABAaoBC2d3cy13aXotaW1nwAEB&sclient=img&ei=zLc4Y62pI_Cer7wP_bufgAs&bih=924&biw=1707&rlz=1C1CHZO_koKR1025KR1025&hl=ko','ohhayoung','오하영')"
   ]
  },
  {
   "cell_type": "code",
   "execution_count": 40,
   "metadata": {},
   "outputs": [],
   "source": [
    "# 조현\n",
    "image_save('https://www.google.com/search?q=%EC%A1%B0%ED%98%84&tbm=isch&ved=2ahUKEwjOjvilg8D6AhWz0IsBHcJbDmUQ2-cCegQIABAA&oq=%EC%A1%B0%ED%98%84&gs_lcp=CgNpbWcQAzIICAAQgAQQsQMyCAgAEIAEELEDMgUIABCABDILCAAQgAQQsQMQgwEyCwgAEIAEELEDEIMBMgUIABCABDIFCAAQgAQyBQgAEIAEMgUIABCABDIFCAAQgARQjQNYpQxgqw1oAnAAeAGAAZUBiAGMB5IBAzEuN5gBAKABAaoBC2d3cy13aXotaW1nsAEAwAEB&sclient=img&ei=8bc4Y47SE7Ohr7wPwre5qAY&bih=924&biw=1707&rlz=1C1CHZO_koKR1025KR1025&hl=ko','johyeon','조현')"
   ]
  },
  {
   "cell_type": "code",
   "execution_count": 86,
   "metadata": {},
   "outputs": [],
   "source": [
    "# 옥주현\n",
    "image_save('https://www.google.com/search?q=%EC%98%A5%EC%A3%BC%ED%98%84&tbm=isch&ved=2ahUKEwi4qYq8g8D6AhUAw4sBHUwJAF8Q2-cCegQIABAA&oq=%EC%98%A5%EC%A3%BC%ED%98%84&gs_lcp=CgNpbWcQAzIICAAQgAQQsQMyBQgAEIAEMgUIABCABDIFCAAQgAQyBQgAEIAEMgUIABCABDIFCAAQgAQyBQgAEIAEMgUIABCABDIFCAAQgAQ6CwgAEIAEELEDEIMBOggIABCxAxCDAVDZBVjPJWCcJ2gIcAB4AIABiAGIAaMKkgEEMi4xMJgBAKABAaoBC2d3cy13aXotaW1nsAEAwAEB&sclient=img&ei=H7g4Y_idLoCGr7wPzJKA-AU&bih=924&biw=1707&rlz=1C1CHZO_koKR1025KR1025&hl=ko','ockjoohyun','옥주현')"
   ]
  },
  {
   "cell_type": "code",
   "execution_count": 87,
   "metadata": {},
   "outputs": [],
   "source": [
    "# 서현진\n",
    "image_save('https://www.google.com/search?q=%EC%84%9C%ED%98%84%EC%A7%84&tbm=isch&ved=2ahUKEwi-15nQg8D6AhVg0IsBHRYZBsAQ2-cCegQIABAA&oq=%EC%84%9C%ED%98%84%EC%A7%84&gs_lcp=CgNpbWcQAzIICAAQgAQQsQMyBQgAEIAEMgUIABCABDIFCAAQgAQyBQgAEIAEMgUIABCABDIFCAAQgAQyBQgAEIAEMgUIABCABDIFCAAQgAQ6CAgAELEDEIMBOgQIABADUPgFWLEZYMkaaANwAHgBgAG3AYgBoAmSAQM2LjWYAQCgAQGqAQtnd3Mtd2l6LWltZ7ABAMABAQ&sclient=img&ei=Sbg4Y_6OOuCgr7wPlrKYgAw&bih=924&biw=1707&rlz=1C1CHZO_koKR1025KR1025&hl=ko','seohyunjin','서현진')"
   ]
  },
  {
   "cell_type": "code",
   "execution_count": 88,
   "metadata": {},
   "outputs": [],
   "source": [
    "# 박은빈\n",
    "image_save('https://www.google.com/search?q=%EB%B0%95%EC%9D%80%EB%B9%88&tbm=isch&ved=2ahUKEwi4j_Ppg8D6AhWyy4sBHaq0DmQQ2-cCegQIABAA&oq=%EB%B0%95%EC%9D%80%EB%B9%88&gs_lcp=CgNpbWcQAzILCAAQgAQQsQMQgwEyBQgAEIAEMgUIABCABDIFCAAQgAQyBQgAEIAEMgUIABCABDIFCAAQgAQyBQgAEIAEMgUIABCABDIFCAAQgAQ6CAgAEIAEELEDOggIABCxAxCDAToECAAQA1CVBFiJEWDHFWgBcAB4AIABbIgB2QmSAQQyLjEwmAEAoAEBqgELZ3dzLXdpei1pbWewAQDAAQE&sclient=img&ei=f7g4Y_jTM7KXr7wPqum6oAY&bih=924&biw=1707&rlz=1C1CHZO_koKR1025KR1025&hl=ko','parkeunbin','박은빈')"
   ]
  },
  {
   "cell_type": "code",
   "execution_count": 89,
   "metadata": {},
   "outputs": [],
   "source": [
    "# 주현영\n",
    "image_save('https://www.google.com/search?q=%EC%A3%BC%ED%98%84%EC%98%81&tbm=isch&ved=2ahUKEwimmcn-g8D6AhUK_5QKHaUOCyEQ2-cCegQIABAA&oq=%EC%A3%BC%ED%98%84%EC%98%81&gs_lcp=CgNpbWcQAzILCAAQgAQQsQMQgwEyBAgAEBgyBAgAEBgyBAgAEBgyBAgAEBgyBAgAEBgyBAgAEBgyBAgAEBgyBAgAEBgyBAgAEBg6BQgAEIAEOggIABCABBCxAzoECAAQAzoICAAQsQMQgwFQtgRYmBBgpBRoAnAAeACAAYkBiAGSCZIBAzYuNZgBAKABAaoBC2d3cy13aXotaW1nsAEAwAEB&sclient=img&ei=q7g4Y-aXDIr-0wSlnayIAg&bih=924&biw=1707&rlz=1C1CHZO_koKR1025KR1025&hl=ko','joohyunyoung','주현영')"
   ]
  },
  {
   "cell_type": "code",
   "execution_count": 90,
   "metadata": {},
   "outputs": [],
   "source": [
    "# 유관순 열사\n",
    "image_save('https://www.google.com/search?q=%EC%9C%A0%EA%B4%80%EC%88%9C%EC%97%B4%EC%82%AC&tbm=isch&ved=2ahUKEwjB09uRhMD6AhWBHaYKHSUXCegQ2-cCegQIABAA&oq=%EC%9C%A0%EA%B4%80%EC%88%9C%EC%97%B4%EC%82%AC&gs_lcp=CgNpbWcQAzIFCAAQgAQyBQgAEIAEMgUIABCABDIECAAQGDIECAAQGDIECAAQGDIECAAQGDIECAAQGDoLCAAQgAQQsQMQgwE6CAgAEIAEELEDOggIABCxAxCDAVD7BFjlGWDhGmgDcAB4AIABoQGIAcwOkgEEMC4xN5gBAKABAaoBC2d3cy13aXotaW1nsAEAwAEB&sclient=img&ei=07g4Y4GeFYG7mAWlrqTADg&bih=924&biw=1707&rlz=1C1CHZO_koKR1025KR1025&hl=ko','yugwansoon','유관순 열사')"
   ]
  },
  {
   "cell_type": "code",
   "execution_count": 91,
   "metadata": {},
   "outputs": [],
   "source": [
    "# 김연경\n",
    "image_save('https://www.google.com/search?q=%EA%B9%80%EC%97%B0%EA%B2%BD&tbm=isch&ved=2ahUKEwiPn4a7hMD6AhUH_JQKHVYIBIsQ2-cCegQIABAA&oq=%EA%B9%80%EC%97%B0%EA%B2%BD&gs_lcp=CgNpbWcQAzIICAAQgAQQsQMyBQgAEIAEMgUIABCABDIFCAAQgAQyBQgAEIAEMgUIABCABDIFCAAQgAQyBQgAEIAEMgUIABCABDIFCAAQgAQ6BAgAEBg6CAgAELEDEIMBOgsIABCABBCxAxCDAToGCAAQChAYUJMHWJwkYM0naARwAHgAgAF2iAGrCpIBBDAuMTKYAQCgAQGqAQtnd3Mtd2l6LWltZ8ABAQ&sclient=img&ei=Krk4Y4_iAYf40wTWkJDYCA&bih=924&biw=1707&rlz=1C1CHZO_koKR1025KR1025&hl=ko','kimyeonkyung','김연경')"
   ]
  },
  {
   "cell_type": "code",
   "execution_count": 92,
   "metadata": {},
   "outputs": [],
   "source": [
    "# 김세정\n",
    "image_save('https://www.google.com/search?q=%EA%B9%80%EC%84%B8%EC%A0%95&tbm=isch&ved=2ahUKEwiLz9DghMD6AhXlyIsBHceMCsQQ2-cCegQIABAA&oq=%EA%B9%80%EC%84%B8%EC%A0%95&gs_lcp=CgNpbWcQAzIICAAQgAQQsQMyBQgAEIAEMgUIABCABDIFCAAQgAQyBQgAEIAEMgUIABCABDIFCAAQgAQyBQgAEIAEMgUIABCABDIFCAAQgAQ6CwgAEIAEELEDEIMBOggIABCxAxCDAVCuA1jHC2CGDWgBcAB4AIABhAGIAdwGkgEDMi42mAEAoAEBqgELZ3dzLXdpei1pbWfAAQE&sclient=img&ei=eLk4Y4uzM-WRr7wPx5mqoAw&bih=924&biw=1707&rlz=1C1CHZO_koKR1025KR1025&hl=ko','kimsejeong','김세정')"
   ]
  },
  {
   "cell_type": "markdown",
   "metadata": {},
   "source": [
    "### 남성"
   ]
  },
  {
   "cell_type": "code",
   "execution_count": 93,
   "metadata": {},
   "outputs": [],
   "source": [
    "# 원빈\n",
    "image_save('https://www.google.com/search?q=%EC%9B%90%EB%B9%88&tbm=isch&ved=2ahUKEwikkPqvvbz6AhXyRvUHHUHLCzoQ2-cCegQIABAA&oq=%EC%9B%90%EB%B9%88&gs_lcp=CgNpbWcQAzIICAAQgAQQsQMyCAgAEIAEELEDMgUIABCABDIFCAAQgAQyBQgAEIAEMgUIABCABDIFCAAQgAQyBQgAEIAEMgUIABCABDIFCAAQgAQ6BAgAEBg6CwgAEIAEELEDEIMBUJ8IWK4OYL0VaABwAHgAgAF-iAHQB5IBAzAuOJgBAKABAaoBC2d3cy13aXotaW1nwAEB&sclient=img&ei=-Ns2Y6S0JvKN1e8PwZav0AM&bih=596&biw=1396&rlz=1C1CHZN_koKR1011KR1011','ONEBIN','원빈')"
   ]
  },
  {
   "cell_type": "code",
   "execution_count": 94,
   "metadata": {},
   "outputs": [],
   "source": [
    "# 공유\n",
    "image_save('https://www.google.com/search?q=%EA%B3%B5%EC%9C%A0&tbm=isch&ved=2ahUKEwia7pnMvLz6AhXPQd4KHd-GCJAQ2-cCegQIABAA&oq=%EA%B3%B5%EC%9C%A0&gs_lcp=CgNpbWcQAzIICAAQgAQQsQMyBQgAEIAEMgUIABCABDIFCAAQgAQyBQgAEIAEMgUIABCABDIFCAAQgAQyBQgAEIAEMgUIABCABDIFCAAQgAQ6CwgAEIAEELEDEIMBOgQIABADUPsXWNNDYLdHaAFwAHgAgAGCAYgB6AWSAQMwLjaYAQCgAQGqAQtnd3Mtd2l6LWltZ7ABAMABAQ&sclient=img&ei=J9s2Y9q-Gs-D-QbfjaKACQ&bih=596&biw=1396&rlz=1C1CHZN_koKR1011KR1011','GONGYOU','공유')"
   ]
  },
  {
   "cell_type": "code",
   "execution_count": 42,
   "metadata": {},
   "outputs": [],
   "source": [
    "# 유아인\n",
    "image_save('https://www.google.com/search?q=%EC%9C%A0%EC%95%84%EC%9D%B8&tbm=isch&ved=2ahUKEwjYjrWe_cD6AhVIyIsBHW2bClUQ2-cCegQIABAA&oq=%EC%9C%A0%EC%95%84%EC%9D%B8&gs_lcp=CgNpbWcQAzIICAAQgAQQsQMyCAgAEIAEELEDMgUIABCABDIFCAAQgAQyBQgAEIAEMgUIABCABDIFCAAQgAQyBQgAEIAEMgUIABCABDIFCAAQgAQ6BggAEB4QBzoGCAAQHhAFUOaEQ1iFi0Nglo1DaAJwAHgBgAGvA4gByxGSAQkxLjQuMi4yLjGYAQCgAQGqAQtnd3Mtd2l6LWltZ8ABAQ&sclient=img&ei=zjc5Y9jvKMiQr7wP7baqqAU&bih=924&biw=1707&rlz=1C1CHZO_koKR1025KR1025&hl=ko','yooain','유아인')"
   ]
  },
  {
   "cell_type": "code",
   "execution_count": 43,
   "metadata": {},
   "outputs": [],
   "source": [
    "# 차은우\n",
    "image_save('https://www.google.com/search?q=%EC%B0%A8%EC%9D%80%EC%9A%B0&tbm=isch&ved=2ahUKEwj9saeRgsH6AhXLFYgKHVhbBLwQ2-cCegQIABAA&oq=%EC%B0%A8%EC%9D%80%EC%9A%B0&gs_lcp=CgNpbWcQAzIICAAQgAQQsQMyCAgAEIAEELEDMgQIABADMgsIABCABBCxAxCDATIFCAAQgAQyBQgAEIAEMgUIABCABDIFCAAQgAQyBQgAEIAEMgUIABCABFDLC1i6J2DZKWgJcAB4AoAB0wKIAbIZkgEIMC4xMy40LjGYAQCgAQGqAQtnd3Mtd2l6LWltZ7ABAMABAQ&sclient=img&ei=8Tw5Y731FcuroATYtpHgCw&bih=924&biw=1707&rlz=1C1CHZO_koKR1025KR1025&hl=ko','chaeunwoo','차은우')"
   ]
  },
  {
   "cell_type": "code",
   "execution_count": 44,
   "metadata": {},
   "outputs": [],
   "source": [
    "# 정해인\n",
    "image_save('https://www.google.com/search?q=%EC%A0%95%ED%95%B4%EC%9D%B8&tbm=isch&ved=2ahUKEwj34ILEhsH6AhXZ32EKHa7aDcwQ2-cCegQIABAA&oq=%EC%A0%95%ED%95%B4%EC%9D%B8&gs_lcp=CgNpbWcQAzIICAAQgAQQsQMyBQgAEIAEMgUIABCABDIFCAAQgAQyBQgAEIAEMgUIABCABDIFCAAQgAQyBQgAEIAEMgUIABCABDIFCAAQgAQ6BAgAEAM6CwgAEIAEELEDEIMBOggIABCxAxCDAVCxB1iSDmDwD2gBcAB4AYABmwGIAeoIkgEDMC44mAEAoAEBqgELZ3dzLXdpei1pbWfAAQE&sclient=img&ei=jUE5Y7fmG9m_hwOutbfgDA&bih=924&biw=1707&rlz=1C1CHZO_koKR1025KR1025&hl=ko','jungaein','정해인')"
   ]
  },
  {
   "cell_type": "code",
   "execution_count": 45,
   "metadata": {},
   "outputs": [],
   "source": [
    "# 박해진 \n",
    "image_save('https://www.google.com/search?q=%EB%B0%95%ED%95%B4%EC%A7%84&tbm=isch&ved=2ahUKEwjn9YrIhsH6AhWOTPUHHe3WDpcQ2-cCegQIABAA&oq=%EB%B0%95%ED%95%B4%EC%A7%84&gs_lcp=CgNpbWcQAzILCAAQgAQQsQMQgwEyBQgAEIAEMgsIABCABBCxAxCDATIFCAAQgAQyBQgAEIAEMgUIABCABDIFCAAQgAQyBQgAEIAEMgUIABCABDIFCAAQgAQ6CAgAEIAEELEDOgQIABADOggIABCxAxCDAToECAAQHlDUCljjJmDSJ2gJcAB4A4ABjwKIAbMUkgEGMC4xMi4zmAEAoAEBqgELZ3dzLXdpei1pbWewAQDAAQE&sclient=img&ei=lUE5Y6fXO46Z1e8P7a27uAk&bih=924&biw=1707&rlz=1C1CHZO_koKR1025KR1025&hl=ko','parkhaejin','박해진')"
   ]
  },
  {
   "cell_type": "code",
   "execution_count": 46,
   "metadata": {},
   "outputs": [],
   "source": [
    "# 소지섭\n",
    "image_save('https://www.google.com/search?q=%EC%86%8C%EC%A7%80%EC%84%AD&tbm=isch&ved=2ahUKEwim84bVhsH6AhX9RvUHHaAmAqgQ2-cCegQIABAA&oq=%EC%86%8C%EC%A7%80%EC%84%AD&gs_lcp=CgNpbWcQAzIICAAQgAQQsQMyBQgAEIAEMgUIABCABDIFCAAQgAQyBQgAEIAEMgUIABCABDIFCAAQgAQyBQgAEIAEMgUIABCABDIFCAAQgAQ6BggAEAoQGDoLCAAQgAQQsQMQgwE6CAgAELEDEIMBUJYGWKgTYNYVaAFwAHgBgAHSAYgB5gmSAQUwLjcuMZgBAKABAaoBC2d3cy13aXotaW1nwAEB&sclient=img&ei=sUE5Y-bWCv2N1e8PoM2IwAo&bih=924&biw=1707&rlz=1C1CHZO_koKR1025KR1025&hl=ko','sojisub','소지섭')"
   ]
  },
  {
   "cell_type": "code",
   "execution_count": 47,
   "metadata": {},
   "outputs": [],
   "source": [
    "# 서인국\n",
    "image_save('https://www.google.com/search?q=%EC%84%9C%EC%9D%B8%EA%B5%AD&tbm=isch&ved=2ahUKEwjYoeLZhsH6AhUnTPUHHZ1hCxkQ2-cCegQIABAA&oq=%EC%84%9C%EC%9D%B8%EA%B5%AD&gs_lcp=CgNpbWcQAzIICAAQgAQQsQMyBQgAEIAEMgUIABCABDIFCAAQgAQyBQgAEIAEMgUIABCABDIFCAAQgAQyBQgAEIAEMgUIABCABDIFCAAQgAQ6CAgAELEDEIMBUMsHWM0RYN8TaAFwAHgBgAHkAYgBuAuSAQUwLjcuMpgBAKABAaoBC2d3cy13aXotaW1nwAEB&sclient=img&ei=u0E5Y5jYA6eY1e8PncOtyAE&bih=924&biw=1707&rlz=1C1CHZO_koKR1025KR1025&hl=ko','seoingunk','서인국')"
   ]
  },
  {
   "cell_type": "code",
   "execution_count": 48,
   "metadata": {},
   "outputs": [],
   "source": [
    "# 조정석\n",
    "image_save('https://www.google.com/search?q=%EC%A1%B0%EC%A0%95%EC%84%9D&tbm=isch&ved=2ahUKEwjyhYLehsH6AhUtRvUHHfMdCkAQ2-cCegQIABAA&oq=%EC%A1%B0%EC%A0%95%EC%84%9D&gs_lcp=CgNpbWcQAzIICAAQgAQQsQMyBQgAEIAEMgUIABCABDIFCAAQgAQyBQgAEIAEMgUIABCABDIFCAAQgAQyBQgAEIAEMgUIABCABDIFCAAQgAQ6CwgAEIAEELEDEIMBUOcJWNARYLwUaAFwAHgBgAH8AYgBgA2SAQUwLjYuM5gBAKABAaoBC2d3cy13aXotaW1nwAEB&sclient=img&ei=w0E5Y7KYO62M1e8P87uogAQ&bih=924&biw=1707&rlz=1C1CHZO_koKR1025KR1025&hl=ko','jojungsunk','조정석')"
   ]
  },
  {
   "cell_type": "code",
   "execution_count": 49,
   "metadata": {},
   "outputs": [],
   "source": [
    "# 규현\n",
    "image_save('https://www.google.com/search?q=%EA%B7%9C%ED%98%84&tbm=isch&ved=2ahUKEwig-YzjhsH6AhWDUPUHHSolAX8Q2-cCegQIABAA&oq=%EA%B7%9C%ED%98%84&gs_lcp=CgNpbWcQAzIICAAQgAQQsQMyBQgAEIAEMgUIABCABDIFCAAQgAQyBQgAEIAEMgUIABCABDIFCAAQgAQyBQgAEIAEMgUIABCABDIFCAAQgAQ6CAgAELEDEIMBOgQIABADUNgIWJENYOoVaAFwAHgBgAGAAogBsgiSAQUwLjQuMpgBAKABAaoBC2d3cy13aXotaW1nwAEB&sclient=img&ei=zkE5Y6DaJoOh1e8PqsqE-Ac&bih=924&biw=1707&rlz=1C1CHZO_koKR1025KR1025&hl=ko','kyuhyun','규현')"
   ]
  },
  {
   "cell_type": "code",
   "execution_count": 50,
   "metadata": {},
   "outputs": [],
   "source": [
    "# 옥택연\n",
    "image_save('https://www.google.com/search?q=%EC%98%A5%ED%83%9D%EC%97%B0&tbm=isch&ved=2ahUKEwjWyPbnhsH6AhWOUPUHHX35DBsQ2-cCegQIABAA&oq=%EC%98%A5%ED%83%9D%EC%97%B0&gs_lcp=CgNpbWcQAzIICAAQgAQQsQMyBQgAEIAEMgUIABCABDIFCAAQgAQyBQgAEIAEMgUIABCABDIFCAAQgAQyBQgAEIAEMgUIABCABDIFCAAQgAQ6CwgAEIAEELEDEIMBUMcJWO8UYKoWaABwAHgAgAHsBYgBrRKSAQkwLjYuMy42LTGYAQCgAQGqAQtnd3Mtd2l6LWltZ8ABAQ&sclient=img&ei=2EE5Y9b8LY6h1e8P_fKz2AE&bih=924&biw=1707&rlz=1C1CHZO_koKR1025KR1025&hl=ko','oktaeyeon','옥택연')"
   ]
  },
  {
   "cell_type": "code",
   "execution_count": 51,
   "metadata": {},
   "outputs": [],
   "source": [
    "# 하정우\n",
    "image_save('https://www.google.com/search?q=%ED%95%98%EC%A0%95%EC%9A%B0&tbm=isch&ved=2ahUKEwig5cLwhsH6AhXgTPUHHbfoBxMQ2-cCegQIABAA&oq=%ED%95%98%EC%A0%95%EC%9A%B0&gs_lcp=CgNpbWcQAzIICAAQgAQQsQMyBQgAEIAEMgUIABCABDIFCAAQgAQyBQgAEIAEMgUIABCABDIFCAAQgAQyBQgAEIAEMgUIABCABDIFCAAQgAQ6BAgAEANQn0pYjVlglV9oAnAAeAKAAZgCiAHeDpIBBTAuNy40mAEAoAEBqgELZ3dzLXdpei1pbWewAQDAAQE&sclient=img&ei=6kE5Y6DIL-CZ1e8Pt9GfmAE&bih=924&biw=1707&rlz=1C1CHZO_koKR1025KR1025&hl=ko','hajungwoo','하정우')"
   ]
  },
  {
   "cell_type": "code",
   "execution_count": 52,
   "metadata": {},
   "outputs": [],
   "source": [
    "# 강하늘\n",
    "image_save('https://www.google.com/search?q=%EA%B0%95%ED%95%98%EB%8A%98&tbm=isch&ved=2ahUKEwivu7_3hsH6AhVITPUHHYGCCyIQ2-cCegQIABAA&oq=%EA%B0%95%ED%95%98%EB%8A%98&gs_lcp=CgNpbWcQAzIICAAQgAQQsQMyCwgAEIAEELEDEIMBMgUIABCABDIFCAAQgAQyBQgAEIAEMgUIABCABDIICAAQgAQQsQMyBQgAEIAEMgUIABCABDILCAAQgAQQsQMQgwE6CAgAELEDEIMBOgQIABADUKMOWKQbYJMcaAJwAHgCgAHkAogB0Q6SAQcxLjguMS4xmAEAoAEBqgELZ3dzLXdpei1pbWewAQDAAQE&sclient=img&ei=-UE5Y-_aGMiY1e8PgYWukAI&bih=924&biw=1707&rlz=1C1CHZO_koKR1025KR1025&hl=ko','ganghaneul','강하늘')"
   ]
  },
  {
   "cell_type": "code",
   "execution_count": 53,
   "metadata": {},
   "outputs": [],
   "source": [
    "# 임시완\n",
    "image_save('https://www.google.com/search?q=%EC%9E%84%EC%8B%9C%EC%99%84&tbm=isch&ved=2ahUKEwiLqIb8hsH6AhWQTPUHHcTKDtoQ2-cCegQIABAA&oq=%EC%9E%84%EC%8B%9C%EC%99%84&gs_lcp=CgNpbWcQAzIICAAQgAQQsQMyBQgAEIAEMgUIABCABDIFCAAQgAQyBQgAEIAEMgUIABCABDIFCAAQgAQyBQgAEIAEMgUIABCABDIFCAAQgAQ6BAgAEAM6CwgAEIAEELEDEIMBUMsLWNEYYLwZaAJwAHgBgAGHAogBigySAQUwLjkuMZgBAKABAaoBC2d3cy13aXotaW1nsAEAwAEB&sclient=img&ei=AkI5Y4ufOpCZ1e8PxJW70A0&bih=924&biw=1707&rlz=1C1CHZO_koKR1025KR1025&hl=ko','imsiwan','임시완')"
   ]
  },
  {
   "cell_type": "code",
   "execution_count": 54,
   "metadata": {},
   "outputs": [],
   "source": [
    "# 광희\n",
    "image_save('https://www.google.com/search?q=%EA%B4%91%ED%9D%AC&tbm=isch&ved=2ahUKEwiI6YeFh8H6AhWeSfUHHcOzCLUQ2-cCegQIABAA&oq=%EA%B4%91%ED%9D%AC&gs_lcp=CgNpbWcQAzIICAAQgAQQsQMyBQgAEIAEMgUIABCABDIFCAAQgAQyCAgAEIAEELEDMggIABCABBCxAzIFCAAQgAQyCAgAEIAEELEDMggIABCABBCxAzIFCAAQgARQ7wlYrw9gjhFoAHAAeACAAawCiAHYCpIBBzAuNC4yLjGYAQCgAQGqAQtnd3Mtd2l6LWltZ8ABAQ&sclient=img&ei=FUI5Y8iKNJ6T1e8Pw-eiqAs&bih=924&biw=1707&rlz=1C1CHZO_koKR1025KR1025&hl=ko','gwanghui','광희')"
   ]
  },
  {
   "cell_type": "code",
   "execution_count": 55,
   "metadata": {},
   "outputs": [],
   "source": [
    "# 세종대왕\n",
    "image_save('https://www.google.com/search?q=%EC%84%B8%EC%A2%85%EB%8C%80%EC%99%95&tbm=isch&ved=2ahUKEwi8pdOIh8H6AhVXTPUHHZcNAFcQ2-cCegQIABAA&oq=%EC%84%B8%EC%A2%85%EB%8C%80%EC%99%95&gs_lcp=CgNpbWcQAzIICAAQgAQQsQMyCAgAEIAEELEDMgUIABCABDIFCAAQgAQyBQgAEIAEMgUIABCABDIFCAAQgAQyBQgAEIAEMgUIABCABDIFCAAQgARQwAtY1RpgxxtoAnAAeAKAAfUCiAGVDpIBBzEuNi4yLjGYAQCgAQGqAQtnd3Mtd2l6LWltZ7ABAMABAQ&sclient=img&ei=HUI5Y_yiF9eY1e8Pl5uAuAU&bih=924&biw=1707&rlz=1C1CHZO_koKR1025KR1025&hl=ko','sejong','세종대왕')"
   ]
  },
  {
   "cell_type": "code",
   "execution_count": 56,
   "metadata": {},
   "outputs": [],
   "source": [
    "# 백종원\n",
    "image_save('https://www.google.com/search?q=%EB%B0%B1%EC%A2%85%EC%9B%90&tbm=isch&ved=2ahUKEwiN046Ph8H6AhXARvUHHfJFBhUQ2-cCegQIABAA&oq=%EB%B0%B1%EC%A2%85%EC%9B%90&gs_lcp=CgNpbWcQAzIICAAQgAQQsQMyBQgAEIAEMgUIABCABDIFCAAQgAQyBQgAEIAEMgUIABCABDIFCAAQgAQyBQgAEIAEMgUIABCABDIFCAAQgARQ1AlY6RJg7BNoAHAAeACAAZkCiAHfDZIBBTAuOC4ymAEAoAEBqgELZ3dzLXdpei1pbWfAAQE&sclient=img&ei=KkI5Y42WOcCN1e8P8ouZqAE&bih=924&biw=1707&rlz=1C1CHZO_koKR1025KR1025&hl=ko','backjongwan','백종원')"
   ]
  },
  {
   "cell_type": "code",
   "execution_count": 57,
   "metadata": {},
   "outputs": [],
   "source": [
    "# 유승호\n",
    "image_save('https://www.google.com/search?q=%EC%9C%A0%EC%8A%B9%ED%98%B8&tbm=isch&ved=2ahUKEwjny6OTh8H6AhWUSfUHHcxvB3QQ2-cCegQIABAA&oq=%EC%9C%A0%EC%8A%B9%ED%98%B8&gs_lcp=CgNpbWcQAzIICAAQgAQQsQMyBQgAEIAEMgUIABCABDIFCAAQgAQyBQgAEIAEMgUIABCABDIFCAAQgAQyBQgAEIAEMgUIABCABDIFCAAQgAQ6BAgAEBg6BggAEAoQGFDxCFisJmDeJ2gBcAB4AIAB9wOIAaEVkgELMC4xLjUuMS4xLjGYAQCgAQGqAQtnd3Mtd2l6LWltZ8ABAQ&sclient=img&ei=M0I5Y6fmKJST1e8PzN-doAc&bih=924&biw=1707&rlz=1C1CHZO_koKR1025KR1025&hl=ko','yooseunghoo','유승호')"
   ]
  },
  {
   "cell_type": "code",
   "execution_count": 58,
   "metadata": {},
   "outputs": [],
   "source": [
    "# 강다니엘\n",
    "image_save('https://www.google.com/search?q=%EA%B0%95%EB%8B%A4%EB%8B%88%EC%97%98&tbm=isch&ved=2ahUKEwiG2PObh8H6AhXETPUHHQL_CLEQ2-cCegQIABAA&oq=%EA%B0%95%EB%8B%A4%EB%8B%88%EC%97%98&gs_lcp=CgNpbWcQA1DTCliRE2DxE2gAcAB4AIABAIgBAJIBAJgBAKABAaoBC2d3cy13aXotaW1nwAEB&sclient=img&ei=RUI5Y8ahLsSZ1e8Pgv6jiAs&bih=924&biw=1707&rlz=1C1CHZO_koKR1025KR1025&hl=ko','ganhgdaniel','강다니엘')"
   ]
  },
  {
   "cell_type": "code",
   "execution_count": 59,
   "metadata": {},
   "outputs": [],
   "source": [
    "# 송중기\n",
    "image_save('https://www.google.com/search?q=%EC%86%A1%EC%A4%91%EA%B8%B0&tbm=isch&ved=2ahUKEwjS0-qgh8H6AhUIUvUHHaF5AJcQ2-cCegQIABAA&oq=%EC%86%A1%EC%A4%91%EA%B8%B0&gs_lcp=CgNpbWcQAzIICAAQgAQQsQMyBQgAEIAEMgUIABCABDIFCAAQgAQyBQgAEIAEMgUIABCABDIFCAAQgAQyBQgAEIAEMgUIABCABDIICAAQgAQQsQM6CwgAEIAEELEDEIMBOggIABCxAxCDAVCqC1i-E2DbFGgAcAB4AIAB0QKIAaENkgEHMC40LjMuMZgBAKABAaoBC2d3cy13aXotaW1nwAEB&sclient=img&ei=UEI5Y9LrBYik1e8PofOBuAk&bih=924&biw=1707&rlz=1C1CHZO_koKR1025KR1025&hl=ko','songjoonggi','송중기')"
   ]
  },
  {
   "cell_type": "code",
   "execution_count": 60,
   "metadata": {},
   "outputs": [],
   "source": [
    "# 육성재\n",
    "image_save('https://www.google.com/search?q=%EC%9C%A1%EC%84%B1%EC%9E%AC&tbm=isch&ved=2ahUKEwjImtGkh8H6AhVdRvUHHf6tDswQ2-cCegQIABAA&oq=%EC%9C%A1%EC%84%B1%EC%9E%AC&gs_lcp=CgNpbWcQAzILCAAQgAQQsQMQgwEyBQgAEIAEMgUIABCABDIFCAAQgAQyBQgAEIAEMgUIABCABDIFCAAQgAQyBQgAEIAEMgUIABCABDIFCAAQgAQ6CAgAEIAEELEDOgQIABADULYLWNsSYKQUaAFwAHgBgAGfAogB9g-SAQUwLjMuNpgBAKABAaoBC2d3cy13aXotaW1nwAEB&sclient=img&ei=WEI5Y8iOBN2M1e8P_tu64Aw&bih=924&biw=1707&rlz=1C1CHZO_koKR1025KR1025&hl=ko','yoolsungjae','육성재')"
   ]
  },
  {
   "cell_type": "code",
   "execution_count": 61,
   "metadata": {},
   "outputs": [],
   "source": [
    "# 윤두준\n",
    "image_save('https://www.google.com/search?q=%EC%9C%A4%EB%91%90%EC%A4%80&tbm=isch&ved=2ahUKEwj1truqh8H6AhX-TPUHHSRiAy0Q2-cCegQIABAA&oq=%EC%9C%A4%EB%91%90%EC%A4%80&gs_lcp=CgNpbWcQA1AAWABgAGgAcAB4AIABAIgBAJIBAJgBAKoBC2d3cy13aXotaW1n&sclient=img&ei=ZEI5Y_X0Ef6Z1e8PpMSN6AI&bih=924&biw=1707&rlz=1C1CHZO_koKR1025KR1025&hl=ko','yoondojoon','윤두준')"
   ]
  },
  {
   "cell_type": "code",
   "execution_count": 62,
   "metadata": {},
   "outputs": [],
   "source": [
    "# 송강\n",
    "image_save('https://www.google.com/search?q=%EC%86%A1%EA%B0%95&tbm=isch&ved=2ahUKEwj82uO0h8H6AhVPHKYKHRgKDcAQ2-cCegQIABAA&oq=%EC%86%A1%EA%B0%95&gs_lcp=CgNpbWcQAzIICAAQgAQQsQMyCAgAEIAEELEDMgUIABCABDIFCAAQgAQyBQgAEIAEMgUIABCABDIFCAAQgAQyCAgAEIAEELEDMgUIABCABDIFCAAQgAQ6CwgAEIAEELEDEIMBUMoKWOEPYPgRaABwAHgAgAHpAogB4AySAQcwLjIuNC4xmAEAoAEBqgELZ3dzLXdpei1pbWfAAQE&sclient=img&ei=eUI5Y7y6OM-4mAWYlLSADA&bih=924&biw=1707&rlz=1C1CHZO_koKR1025KR1025&hl=ko','songgang','송강')"
   ]
  },
  {
   "cell_type": "code",
   "execution_count": 63,
   "metadata": {},
   "outputs": [],
   "source": [
    "# 이종석\n",
    "image_save('https://www.google.com/search?q=%EC%9D%B4%EC%A2%85%EC%84%9D&tbm=isch&ved=2ahUKEwja4oLKh8H6AhVMXJQKHc_HAjUQ2-cCegQIABAA&oq=%EC%9D%B4%EC%A2%85%EC%84%9D&gs_lcp=CgNpbWcQAzIICAAQgAQQsQMyCwgAEIAEELEDEIMBMgUIABCABDIFCAAQgAQyBQgAEIAEMgUIABCABDIFCAAQgAQyBQgAEIAEMgUIABCABDIFCAAQgAQ6CAgAELEDEIMBUP4DWNAPYOcQaABwAHgBgAHYA4gBxgySAQkwLjQuMi4wLjGYAQCgAQGqAQtnd3Mtd2l6LWltZ8ABAQ&sclient=img&ei=pkI5Y9r3HMy40QTPj4uoAw&bih=924&biw=1707&rlz=1C1CHZO_koKR1025KR1025&hl=ko','leejongseok','이종석')"
   ]
  },
  {
   "cell_type": "code",
   "execution_count": 64,
   "metadata": {},
   "outputs": [],
   "source": [
    "# 남주혁\n",
    "image_save('https://www.google.com/search?q=%EB%82%A8%EC%A3%BC%ED%98%81&tbm=isch&ved=2ahUKEwicjNzPh8H6AhVGx5QKHeozBYsQ2-cCegQIABAA&oq=%EB%82%A8%EC%A3%BC%ED%98%81&gs_lcp=CgNpbWcQAzIICAAQgAQQsQMyBQgAEIAEMgUIABCABDIFCAAQgAQyBQgAEIAEMgUIABCABDIFCAAQgAQyBQgAEIAEMgUIABCABDIFCAAQgAQ6CwgAEIAEELEDEIMBUMcLWKkbYLIcaAJwAHgBgAGOAogB4Q2SAQUwLjYuM5gBAKABAaoBC2d3cy13aXotaW1nsAEAwAEB&sclient=img&ei=skI5Y5zrGcaO0wTq55TYCA&bih=924&biw=1707&rlz=1C1CHZO_koKR1025KR1025&hl=ko','namjoohyuk','남주혁')"
   ]
  },
  {
   "cell_type": "code",
   "execution_count": 65,
   "metadata": {},
   "outputs": [],
   "source": [
    "# 박서준\n",
    "image_save('https://www.google.com/search?q=%EB%B0%95%EC%84%9C%EC%A4%80&tbm=isch&ved=2ahUKEwjG_6zVh8H6AhUD25QKHWkSAasQ2-cCegQIABAA&oq=%EB%B0%95%EC%84%9C%EC%A4%80&gs_lcp=CgNpbWcQAzIICAAQgAQQsQMyCAgAELEDEIMBMgUIABCABDILCAAQgAQQsQMQgwEyCAgAEIAEELEDMggIABCABBCxAzIFCAAQgAQyBQgAEIAEMgUIABCABDIFCAAQgAQ6BAgAEANQrwZY9RFgiBNoA3AAeAOAAaMCiAGAD5IBBTAuOC4ymAEAoAEBqgELZ3dzLXdpei1pbWewAQDAAQE&sclient=img&ei=vkI5Y8aoDoO20wTppITYCg&bih=924&biw=1707&rlz=1C1CHZO_koKR1025KR1025&hl=ko','parkseojoon','박서준')"
   ]
  },
  {
   "cell_type": "code",
   "execution_count": 66,
   "metadata": {},
   "outputs": [],
   "source": [
    "# 유해진\n",
    "image_save('https://www.google.com/search?q=%EC%9C%A0%ED%95%B4%EC%A7%84&tbm=isch&ved=2ahUKEwjLypbih8H6AhUD9pQKHfLnBTIQ2-cCegQIABAA&oq=%EC%9C%A0%ED%95%B4%EC%A7%84&gs_lcp=CgNpbWcQAzIICAAQgAQQsQMyBQgAEIAEMgUIABCABDIFCAAQgAQyBQgAEIAEMgUIABCABDIFCAAQgAQyBQgAEIAEMgUIABCABDIFCAAQgARQywhYpg9gphBoAnAAeAKAAesBiAHpCZIBBTAuNi4xmAEAoAEBqgELZ3dzLXdpei1pbWfAAQE&sclient=img&ei=2UI5Y4v6B4Ps0wTyz5eQAw&bih=924&biw=1707&rlz=1C1CHZO_koKR1025KR1025&hl=ko','yoohaejin','유해진')"
   ]
  },
  {
   "cell_type": "code",
   "execution_count": 67,
   "metadata": {},
   "outputs": [],
   "source": [
    "# 강기영\n",
    "image_save('https://www.google.com/search?q=%EA%B0%95%EA%B8%B0%EC%98%81&tbm=isch&ved=2ahUKEwi1g-Hdh8H6AhVEXJQKHT84BTsQ2-cCegQIABAA&oq=%EA%B0%95%EA%B8%B0%EC%98%81&gs_lcp=CgNpbWcQAzIFCAAQgAQyBQgAEIAEMgUIABCABDIFCAAQgAQyBQgAEIAEMgUIABCABDIFCAAQgAQ6CAgAEIAEELEDOgQIABADOgsIABCABBCxAxCDAVClEFjtFmCWGWgBcAB4AYABiQKIAeINkgEFMC41LjSYAQCgAQGqAQtnd3Mtd2l6LWltZ8ABAQ&sclient=img&ei=z0I5Y_XfNMS40QS_8JTYAw&bih=924&biw=1707&rlz=1C1CHZO_koKR1025KR1025&hl=ko','ganggiyoung','강기영')"
   ]
  },
  {
   "cell_type": "code",
   "execution_count": 68,
   "metadata": {},
   "outputs": [],
   "source": [
    "# 김수현\n",
    "image_save('https://www.google.com/search?q=%EA%B9%80%EC%88%98%ED%98%84&tbm=isch&ved=2ahUKEwjHrqbnh8H6AhVG_5QKHfVPBa4Q2-cCegQIABAA&oq=%EA%B9%80%EC%88%98%ED%98%84&gs_lcp=CgNpbWcQAzILCAAQgAQQsQMQgwEyCAgAEIAEELEDMgUIABCABDIFCAAQgAQyBQgAEIAEMgUIABCABDIFCAAQgAQyBQgAEIAEMgUIABCABDIFCAAQgAQ6CAgAELEDEIMBOgQIABADUIcLWO0TYPwWaAFwAHgBgAH1AogBmw-SAQcwLjUuMy4xmAEAoAEBqgELZ3dzLXdpei1pbWfAAQE&sclient=img&ei=40I5Y4exNcb-0wT1n5XwCg&bih=924&biw=1707&rlz=1C1CHZO_koKR1025KR1025&hl=ko','kimsoohyun','김수현')"
   ]
  },
  {
   "cell_type": "code",
   "execution_count": 69,
   "metadata": {},
   "outputs": [],
   "source": [
    "# 지창욱\n",
    "image_save('https://www.google.com/search?q=%EC%A7%80%EC%B0%BD%EC%9A%B1&tbm=isch&ved=2ahUKEwjJ3fLvh8H6AhUG9pQKHQ1qA6cQ2-cCegQIABAA&oq=%EC%A7%80%EC%B0%BD%EC%9A%B1&gs_lcp=CgNpbWcQAzIICAAQgAQQsQMyBQgAEIAEMgUIABCABDIFCAAQgAQyBQgAEIAEMgUIABCABDIFCAAQgAQyBQgAEIAEMgUIABCABDIFCAAQgAQ6CwgAEIAEELEDEIMBOggIABCxAxCDAVDFB1i7EGCQEmgBcAB4AYABlQKIAccMkgEFMC41LjOYAQCgAQGqAQtnd3Mtd2l6LWltZ8ABAQ&sclient=img&ei=9UI5Y4mPN4bs0wSN1I24Cg&bih=924&biw=1707&rlz=1C1CHZO_koKR1025KR1025&hl=ko','jichangwook','지창욱')"
   ]
  },
  {
   "cell_type": "code",
   "execution_count": 70,
   "metadata": {},
   "outputs": [],
   "source": [
    "# 마동석\n",
    "image_save('https://www.google.com/search?q=%EB%A7%88%EB%8F%99%EC%84%9D&tbm=isch&ved=2ahUKEwiar5D0h8H6AhVrzYsBHRUTBC0Q2-cCegQIABAA&oq=%EB%A7%88%EB%8F%99%EC%84%9D&gs_lcp=CgNpbWcQAzIICAAQgAQQsQMyBQgAEIAEMgUIABCABDIFCAAQgAQyBQgAEIAEMgUIABCABDIFCAAQgAQyBQgAEIAEMgUIABCABDIFCAAQgAQ6CAgAELEDEIMBUMYJWOkSYOQTaAFwAHgBgAGZAogBmwySAQUwLjUuM5gBAKABAaoBC2d3cy13aXotaW1nwAEB&sclient=img&ei=_kI5Y5q4L-uar7wPlaaQ6AI&bih=924&biw=1707&rlz=1C1CHZO_koKR1025KR1025&hl=ko','madongseok','마동석')"
   ]
  },
  {
   "cell_type": "code",
   "execution_count": 71,
   "metadata": {},
   "outputs": [],
   "source": [
    "# 디오\n",
    "image_save('https://www.google.com/search?q=%EB%94%94%EC%98%A4&tbm=isch&ved=2ahUKEwjv7cj-h8H6AhUSLJQKHTVsD1cQ2-cCegQIABAA&oq=%EB%94%94%EC%98%A4&gs_lcp=CgNpbWcQAzIFCAAQgAQyCAgAEIAEELEDMggIABCABBCxAzIICAAQgAQQsQMyBQgAEIAEMgsIABCABBCxAxCDATIICAAQgAQQsQMyCAgAEIAEELEDMgUIABCABDIICAAQgAQQsQNQwQVYmAhguAloAHAAeACAAb0CiAG_BZIBBzAuMS4xLjGYAQCgAQGqAQtnd3Mtd2l6LWltZ8ABAQ&sclient=img&ei=FEM5Y--TKZLY0AS12L24BQ&bih=924&biw=1707&rlz=1C1CHZO_koKR1025KR1025&hl=ko','dio','디오')"
   ]
  },
  {
   "cell_type": "code",
   "execution_count": 72,
   "metadata": {},
   "outputs": [],
   "source": [
    "# 닉쿤\n",
    "image_save('https://www.google.com/search?q=%EB%8B%89%EC%BF%A4&tbm=isch&ved=2ahUKEwiGzZ6AiMH6AhXVJqYKHeLRCwkQ2-cCegQIABAA&oq=%EB%8B%89%EC%BF%A4&gs_lcp=CgNpbWcQAzIFCAAQgAQyBQgAEIAEMgUIABCABDIFCAAQgAQyBQgAEIAEMgUIABCABDIFCAAQgAQyBQgAEIAEMgUIABCABDIFCAAQgAQ6CAgAEIAEELEDOgsIABCABBCxAxCDAVCECFj1DWDlDmgAcAB4AIAB7gGIAe4IkgEFMC41LjGYAQCgAQGqAQtnd3Mtd2l6LWltZ8ABAQ&sclient=img&ei=GEM5Y4bhCtXNmAXio69I&bih=924&biw=1707&rlz=1C1CHZO_koKR1025KR1025&hl=ko','nickhun','닉쿤')"
   ]
  },
  {
   "cell_type": "code",
   "execution_count": 73,
   "metadata": {},
   "outputs": [],
   "source": [
    "# 이지훈\n",
    "image_save('https://www.google.com/search?q=%EA%B0%80%EC%88%98+%EC%9D%B4%EC%A7%80%ED%9B%88&tbm=isch&ved=2ahUKEwjV8JCJiMH6AhVdTZQKHcgtBdcQ2-cCegQIABAA&oq=%EA%B0%80%EC%88%98+%EC%9D%B4%EC%A7%80%ED%9B%88&gs_lcp=CgNpbWcQAzIFCAAQgAQyBQgAEIAEMgUIABCABDIFCAAQgAQyBQgAEIAEMgUIABCABDIFCAAQgAQyBQgAEIAEMgUIABCABDIFCAAQgAQ6CAgAEIAEELEDOgQIABADOggIABCxAxCDAToLCAAQgAQQsQMQgwFQqwdY5Rxg9R1oA3AAeAOAAasCiAGUE5IBBTAuNy41mAEAoAEBqgELZ3dzLXdpei1pbWfAAQE&sclient=img&ei=KkM5Y9WzMt2a0QTI25S4DQ&bih=924&biw=1707&rlz=1C1CHZO_koKR1025KR1025&hl=ko','easyhoon','이지훈')"
   ]
  },
  {
   "cell_type": "code",
   "execution_count": 74,
   "metadata": {},
   "outputs": [],
   "source": [
    "# 김범수\n",
    "image_save('https://www.google.com/search?q=%EA%B0%80%EC%88%98+%EA%B9%80%EB%B2%94%EC%88%98&tbm=isch&ved=2ahUKEwic7KqTiMH6AhVPEKYKHSXuAFEQ2-cCegQIABAA&oq=%EA%B0%80%EC%88%98+%EA%B9%80%EB%B2%94%EC%88%98&gs_lcp=CgNpbWcQAzIGCAAQHhAHMgYIABAeEAcyCAgAEB4QCBAHMggIABAeEAgQBzoICAAQgAQQsQM6BQgAEIAEUK8TWP8YYPEZaAFwAHgBgAHmAYgB7AeSAQUwLjIuM5gBAKABAaoBC2d3cy13aXotaW1nwAEB&sclient=img&ei=QEM5Y5zMDc-gmAWl3IOIBQ&bih=924&biw=1707&rlz=1C1CHZO_koKR1025KR1025&hl=ko','kimhumsoo','김범수')"
   ]
  },
  {
   "cell_type": "code",
   "execution_count": 75,
   "metadata": {},
   "outputs": [],
   "source": [
    "# 이승기 \n",
    "image_save('https://www.google.com/search?q=%EC%9D%B4%EC%8A%B9%EA%B8%B0&tbm=isch&ved=2ahUKEwjbtKuWiMH6AhUzIqYKHU68Bu4Q2-cCegQIABAA&oq=%EC%9D%B4%EC%8A%B9%EA%B8%B0&gs_lcp=CgNpbWcQAzIICAAQgAQQsQMyBQgAEIAEMggIABCABBCxAzILCAAQgAQQsQMQgwEyCwgAEIAEELEDEIMBMggIABCABBCxAzIICAAQgAQQsQMyBQgAEIAEMgUIABCABDILCAAQgAQQsQMQgwE6BAgAEBhQjAdYrhFgxhJoAXAAeAGAAbkCiAH-CpIBBzAuNS4xLjGYAQCgAQGqAQtnd3Mtd2l6LWltZ8ABAQ&sclient=img&ei=RkM5Y9v5H7PEmAXO-JrwDg&bih=924&biw=1707&rlz=1C1CHZO_koKR1025KR1025&hl=ko','leeseunggi','이승기')"
   ]
  },
  {
   "cell_type": "code",
   "execution_count": 76,
   "metadata": {},
   "outputs": [],
   "source": [
    "# 조성모\n",
    "image_save('https://www.google.com/search?q=%EC%A1%B0%EC%84%B1%EB%AA%A8&tbm=isch&ved=2ahUKEwjmuLuaiMH6AhVBUpQKHeOpCrUQ2-cCegQIABAA&oq=%EC%A1%B0%EC%84%B1%EB%AA%A8&gs_lcp=CgNpbWcQAzIFCAAQgAQyBQgAEIAEMgUIABCABDIFCAAQgAQyBQgAEIAEMgUIABCABDIFCAAQgAQyBQgAEIAEMgUIABCABDIFCAAQgAQ6CAgAEIAEELEDOgsIABCABBCxAxCDAVC9B1igDWDCDmgAcAB4AYAB6wGIAecKkgEFMS40LjOYAQCgAQGqAQtnd3Mtd2l6LWltZ8ABAQ&sclient=img&ei=T0M5Y6bVCsGk0QTj06qoCw&bih=924&biw=1707&rlz=1C1CHZO_koKR1025KR1025&hl=ko','josungmo','조성모')"
   ]
  },
  {
   "cell_type": "code",
   "execution_count": 77,
   "metadata": {},
   "outputs": [],
   "source": [
    "# 최홍만\n",
    "image_save('https://www.google.com/search?q=%EC%B5%9C%ED%99%8D%EB%A7%8C&tbm=isch&ved=2ahUKEwiF1eGdiMH6AhWTKaYKHdE_D6kQ2-cCegQIABAA&oq=%EC%B5%9C%ED%99%8D%EB%A7%8C&gs_lcp=CgNpbWcQAzIICAAQgAQQsQMyBQgAEIAEMgUIABCABDIFCAAQgAQyBQgAEIAEMgUIABCABDIFCAAQgAQyBQgAEIAEMgUIABCABDIFCAAQgAQ6CwgAEIAEELEDEIMBUJoHWKwPYKoQaAFwAHgBgAHLAYgB4gmSAQUwLjYuMZgBAKABAaoBC2d3cy13aXotaW1nwAEB&sclient=img&ei=VkM5Y4XSBZPTmAXR_7zICg&bih=924&biw=1707&rlz=1C1CHZO_koKR1025KR1025&hl=ko','choihongman','최홍만')"
   ]
  },
  {
   "cell_type": "code",
   "execution_count": 78,
   "metadata": {},
   "outputs": [],
   "source": [
    "# 손흥민\n",
    "image_save('https://www.google.com/search?q=%EC%86%90%ED%9D%A5%EB%AF%BC&tbm=isch&ved=2ahUKEwjo26yhiMH6AhWMIqYKHRy-CXkQ2-cCegQIABAA&oq=%EC%86%90%ED%9D%A5%EB%AF%BC&gs_lcp=CgNpbWcQAzIICAAQgAQQsQMyBQgAEIAEMgUIABCABDIFCAAQgAQyBQgAEIAEMgUIABCABDIFCAAQgAQyBQgAEIAEMgUIABCABDIFCAAQgAQ6CwgAEIAEELEDEIMBOggIABCxAxCDAVD9B1jjEWDhEmgBcAB4AYABgwKIAbENkgEFMC41LjSYAQCgAQGqAQtnd3Mtd2l6LWltZ8ABAQ&sclient=img&ei=XUM5Y6i5JYzFmAWc_KbIBw&bih=924&biw=1707&rlz=1C1CHZO_koKR1025KR1025&hl=ko','sonheungmin','손흥민')"
   ]
  },
  {
   "cell_type": "code",
   "execution_count": 79,
   "metadata": {},
   "outputs": [],
   "source": [
    "# 황치열\n",
    "image_save('https://www.google.com/search?q=%ED%99%A9%EC%B9%98%EC%97%B4&tbm=isch&ved=2ahUKEwiM3ZuoiMH6AhUQAKYKHT1FCAwQ2-cCegQIABAA&oq=%ED%99%A9%EC%B9%98%EC%97%B4&gs_lcp=CgNpbWcQA1DlCFicEmDMHWgAcAB4AIABAIgBAJIBAJgBAKABAaoBC2d3cy13aXotaW1nwAEB&sclient=img&ei=bEM5Y4x3kICYBb2KoWA&bih=924&biw=1707&rlz=1C1CHZO_koKR1025KR1025&hl=ko','hwangchiyeol','황치열')"
   ]
  },
  {
   "cell_type": "markdown",
   "metadata": {},
   "source": [
    "### 캐릭터"
   ]
  },
  {
   "cell_type": "code",
   "execution_count": 99,
   "metadata": {},
   "outputs": [],
   "source": [
    "# 크롱\n",
    "image_save('https://www.google.com/search?q=%ED%81%AC%EB%A1%B1&tbm=isch&ved=2ahUKEwjOsvWvjsH6AhVOx5QKHdHoBJ4Q2-cCegQIABAA&oq=%ED%81%AC%EB%A1%B1&gs_lcp=CgNpbWcQAzIICAAQgAQQsQMyCAgAELEDEIMBMggIABCABBCxAzIICAAQgAQQsQMyCAgAEIAEELEDMggIABCABBCxAzIICAAQgAQQsQMyCAgAEIAEELEDMgUIABCABDIICAAQgAQQsQNQtQ1YuRxgth1oBXAAeAGAAbkCiAHFCJIBBzAuMi4yLjGYAQCgAQGqAQtnd3Mtd2l6LWltZ7ABAMABAQ&sclient=img&ei=xkk5Y863L86O0wTR0ZPwCQ&bih=924&biw=1707&rlz=1C1CHZO_koKR1025KR1025&hl=ko','crong','크롱')"
   ]
  },
  {
   "cell_type": "code",
   "execution_count": 100,
   "metadata": {},
   "outputs": [],
   "source": [
    "# 포로리\n",
    "image_save('https://www.google.com/search?q=%ED%8F%AC%EB%A1%9C%EB%A6%AC+%EB%B3%B4%EB%85%B8%EB%B3%B4%EB%85%B8&tbm=isch&ved=2ahUKEwjJtvTsjcH6AhVNTZQKHZv4DsEQ2-cCegQIABAA&oq=%ED%8F%AC%EB%A1%9C%EB%A6%AC&gs_lcp=CgNpbWcQARgBMgUIABCABDIFCAAQgAQyBQgAEIAEMgUIABCABDIFCAAQgAQyBQgAEIAEMgUIABCABDIFCAAQgAQyBQgAEIAEMgUIABCABFAAWABgywpoAHAAeACAAbABiAGwAZIBAzAuMZgBAKoBC2d3cy13aXotaW1nwAEB&sclient=img&ei=Okk5Y8mxD82a0QSb8buIDA&bih=924&biw=1707&rlz=1C1CHZO_koKR1025KR1025&hl=ko','porori','포로리')"
   ]
  },
  {
   "cell_type": "code",
   "execution_count": 101,
   "metadata": {},
   "outputs": [],
   "source": [
    "# 졸라맨\n",
    "image_save('https://www.google.com/search?q=%EC%A1%B8%EB%9D%BC%EB%A7%A8&tbm=isch&ved=2ahUKEwjJ8vDYjcH6AhVxJqYKHQqTAYMQ2-cCegQIABAA&oq=%EC%A1%B8%EB%9D%BC%EB%A7%A8&gs_lcp=CgNpbWcQAzIFCAAQgAQyBQgAEIAEMgUIABCABDIFCAAQgAQyBQgAEIAEMgUIABCABDIFCAAQgAQyBQgAEIAEMgUIABCABDIFCAAQgAQ6CAgAEIAEELEDOgsIABCABBCxAxCDAVC5CFi6EmDvE2gBcAB4AoABlQWIAdgPkgEJMC43LjEuNS0xmAEAoAEBqgELZ3dzLXdpei1pbWfAAQE&sclient=img&ei=EEk5Y8mqD_HMmAWKpoaYCA&bih=924&biw=1707&rlz=1C1CHZO_koKR1025KR1025&hl=ko','zoolaman','졸라맨')"
   ]
  },
  {
   "cell_type": "code",
   "execution_count": 102,
   "metadata": {},
   "outputs": [],
   "source": [
    "# 뿌까\n",
    "image_save('https://www.google.com/search?q=%EB%BF%8C%EA%B9%8C&rlz=1C1CHZO_koKR1025KR1025&sxsrf=ALiCzsZIFyvQ3ymWvjKEZ1jOA6jC238lzw:1664698990368&source=lnms&tbm=isch&sa=X&ved=2ahUKEwjt-en_jsH6AhXHm1YBHf9rBVkQ_AUoAXoECAIQAw&biw=556&bih=908&dpr=1.5','pooca','뿌까')"
   ]
  },
  {
   "cell_type": "code",
   "execution_count": 103,
   "metadata": {},
   "outputs": [],
   "source": [
    "# 햄토리\n",
    "image_save('https://www.google.com/search?q=%ED%96%84%ED%86%A0%EB%A6%AC&tbm=isch&ved=2ahUKEwiZqdeAj8H6AhVPHKYKHRgKDcAQ2-cCegQIABAA&oq=%ED%96%84%ED%86%A0%EB%A6%AC&gs_lcp=CgNpbWcQAzIICAAQgAQQsQMyBQgAEIAEMgUIABCABDIFCAAQgAQyBQgAEIAEMgUIABCABDIFCAAQgAQyBQgAEIAEMgUIABCABDIFCAAQgAQ6BAgAEANQ2ghYlhJgrhRoAXAAeACAAZwCiAGeDJIBBTAuNS4zmAEAoAEBqgELZ3dzLXdpei1pbWfAAQE&sclient=img&ei=cEo5Y5mxCc-4mAWYlLSADA&bih=908&biw=556&rlz=1C1CHZO_koKR1025KR1025','hamtori','햄토리')"
   ]
  },
  {
   "cell_type": "code",
   "execution_count": 104,
   "metadata": {},
   "outputs": [],
   "source": [
    "# 제삐\n",
    "image_save('https://www.google.com/search?q=%EC%A0%9C%EC%82%90&tbm=isch&ved=2ahUKEwizqrijkMH6AhWxNaYKHSZ_AxsQ2-cCegQIABAA&oq=%EC%A0%9C%EC%82%90&gs_lcp=CgNpbWcQAzIFCAAQgAQyBQgAEIAEMgUIABCABDIFCAAQgAQyBQgAEIAEMgUIABCABDIFCAAQgAQyBQgAEIAEMgUIABCABDIFCAAQgAQ6BAgAEBg6CAgAEIAEELEDOgQIABADOgYIABAKEBhQggZYqxdg5hhoA3AAeACAAdEDiAGbDpIBCTAuNC4xLjAuMpgBAKABAaoBC2d3cy13aXotaW1nwAEB&sclient=img&ei=xUs5Y_OzHbHrmAWm_o3YAQ&bih=924&biw=1707&rlz=1C1CHZO_koKR1025KR1025&hl=ko','zebbi','제삐')"
   ]
  },
  {
   "cell_type": "code",
   "execution_count": 105,
   "metadata": {},
   "outputs": [],
   "source": [
    "# 세균맨\n",
    "image_save('https://www.google.com/search?q=%EC%84%B8%EA%B7%A0%EB%A7%A8&tbm=isch&ved=2ahUKEwiz7u_3kMH6AhWzxosBHRBVAegQ2-cCegQIABAA&oq=%EC%84%B8%EA%B7%A0%EB%A7%A8&gs_lcp=CgNpbWcQAzIICAAQHhAIEAcyBggAEAoQGDIGCAAQChAYMgYIABAKEBgyBggAEAoQGDoICAAQgAQQsQM6BQgAEIAEOgQIABATOggIABAeEAcQE1DBB1jhD2DXEWgBcAB4AYAB8AGIAdgJkgEFMC42LjGYAQCgAQGqAQtnd3Mtd2l6LWltZ8ABAQ&sclient=img&ei=dkw5Y7PbIbONr7wPkKqFwA4&bih=924&biw=1707&rlz=1C1CHZO_koKR1025KR1025&hl=ko','segunman','세균맨')"
   ]
  },
  {
   "cell_type": "code",
   "execution_count": 106,
   "metadata": {},
   "outputs": [],
   "source": [
    "# 호돌이\n",
    "image_save('https://www.google.com/search?q=%ED%98%B8%EB%8F%8C%EC%9D%B4&tbm=isch&ved=2ahUKEwjWiNn6kMH6AhVSx5QKHVDJBkcQ2-cCegQIABAA&oq=%ED%98%B8%EB%8F%8C%EC%9D%B4&gs_lcp=CgNpbWcQAzIFCAAQgAQyBQgAEIAEMgUIABCABDIFCAAQgAQyBQgAEIAEMgUIABCABDIFCAAQgAQyBQgAEIAEMgUIABCABDIFCAAQgAQ6CAgAEIAEELEDOgQIABADOggIABCxAxCDAToLCAAQgAQQsQMQgwFQoQlY0xhg6BpoAXAAeACAAdwCiAG_C5IBBzAuNi4xLjGYAQCgAQGqAQtnd3Mtd2l6LWltZ8ABAQ&sclient=img&ei=fEw5Y9baHNKO0wTQkpu4BA&bih=924&biw=1707&rlz=1C1CHZO_koKR1025KR1025&hl=ko','hodol','호돌이')"
   ]
  },
  {
   "cell_type": "code",
   "execution_count": 107,
   "metadata": {},
   "outputs": [],
   "source": [
    "# 핑구\n",
    "image_save('https://www.google.com/search?q=%ED%95%91%EA%B5%AC&tbm=isch&ved=2ahUKEwiC2_uZkcH6AhUlJaYKHeWqBUgQ2-cCegQIABAA&oq=%ED%95%91%EA%B5%AC&gs_lcp=CgNpbWcQAzIICAAQgAQQsQMyBQgAEIAEMgUIABCABDIFCAAQgAQyBQgAEIAEMgUIABCABDIFCAAQgAQyBQgAEIAEMgUIABCABDIFCAAQgAQ6CwgAEIAEELEDEIMBULMFWKMNYMIPaAFwAHgBgAH0AYgB6gqSAQUwLjcuMZgBAKABAaoBC2d3cy13aXotaW1nsAEAwAEB&sclient=img&ei=vkw5Y4KEA6XKmAXl1ZbABA&bih=924&biw=1707&rlz=1C1CHZO_koKR1025KR1025&hl=ko','pinggoo','핑구')"
   ]
  },
  {
   "cell_type": "code",
   "execution_count": 108,
   "metadata": {},
   "outputs": [],
   "source": [
    "# 나옹\n",
    "image_save('https://www.google.com/search?q=%EB%82%98%EC%98%B9&tbm=isch&ved=2ahUKEwjt1MiHk8H6AhUEHqYKHSy4CKIQ2-cCegQIABAA&oq=%EB%82%98%EC%98%B9&gs_lcp=CgNpbWcQAzILCAAQgAQQsQMQgwEyBQgAEIAEMgUIABCABDIFCAAQgAQyBQgAEIAEMgUIABCABDIFCAAQgAQyBQgAEIAEMgUIABCABDIFCAAQgAQ6CAgAEIAEELEDOgQIABADOggIABCxAxCDAVDYB1jc4AJgsuICaAJwAHgDgAHhAogB4gySAQcwLjQuMS4ymAEAoAEBqgELZ3dzLXdpei1pbWewAQDAAQE&sclient=img&ei=sE45Y-28FIS8mAWs8KKQCg&bih=924&biw=1707&rlz=1C1CHZO_koKR1025KR1025&hl=ko','nayoo','나옹')"
   ]
  },
  {
   "cell_type": "code",
   "execution_count": 109,
   "metadata": {},
   "outputs": [],
   "source": [
    "# 피요몬\n",
    "image_save('https://www.google.com/search?q=%ED%94%BC%EC%9A%94%EB%AA%AC&tbm=isch&ved=2ahUKEwi6jbbFk8H6AhUJ7JQKHSxACbEQ2-cCegQIABAA&oq=%ED%94%BC%EC%9A%94%EB%AA%AC&gs_lcp=CgNpbWcQAzIFCAAQgAQyBQgAEIAEMgUIABCABDIFCAAQgAQyBAgAEBgyBAgAEBgyBAgAEBgyBAgAEBgyBAgAEBgyBggAEB4QBToGCAAQChAYOgsIABCABBCxAxCDAToICAAQgAQQsQNQiwdYizFgtjJoA3AAeAOAAd4BiAGqDZIBBTAuOC4ymAEAoAEBqgELZ3dzLXdpei1pbWewAQDAAQE&sclient=img&ei=Mk85Y7qsA4nY0wSsgKWICw&bih=924&biw=1707&rlz=1C1CHZO_koKR1025KR1025&hl=ko','piyomon','피요몬')"
   ]
  },
  {
   "cell_type": "code",
   "execution_count": 110,
   "metadata": {},
   "outputs": [],
   "source": [
    "# 퐁퐁부인\n",
    "image_save('https://www.google.com/search?q=%ED%90%81%ED%90%81%EB%B6%80%EC%9D%B8&tbm=isch&ved=2ahUKEwi41dfak8H6AhUWz4sBHWNjBQ4Q2-cCegQIABAA&oq=%ED%90%81%ED%90%81%EB%B6%80%EC%9D%B8&gs_lcp=CgNpbWcQAzIFCAAQgAQyBQgAEIAEMgUIABCABDIFCAAQgAQyBAgAEBgyBAgAEBgyBAgAEBgyBAgAEBgyBAgAEBgyBggAEB4QBToGCAAQHhAHOggIABCABBCxA1C-B1it6QFg0OsBaAJwAHgCgAGvAogBqBSSAQcwLjkuNC4xmAEAoAEBqgELZ3dzLXdpei1pbWewAQDAAQE&sclient=img&ei=Xk85Y7iuJ5aer7wP48aVcA&bih=924&biw=1707&rlz=1C1CHZO_koKR1025KR1025&hl=ko','pongpong','퐁퐁부인')"
   ]
  },
  {
   "cell_type": "code",
   "execution_count": 111,
   "metadata": {},
   "outputs": [],
   "source": [
    "# 포\n",
    "image_save('https://www.google.com/search?q=%EC%BF%B5%ED%91%B8%ED%8C%AC%EB%8D%94+%ED%8F%AC&tbm=isch&ved=2ahUKEwiK8fH2k8H6AhUaA6YKHWKVA6YQ2-cCegQIABAA&oq=%EC%BF%B5%ED%91%B8%ED%8C%AC%EB%8D%94+%ED%8F%AC&gs_lcp=CgNpbWcQAzIFCAAQgAQyBQgAEIAEMgUIABCABDIFCAAQgAQyBQgAEIAEMgQIABAYOgYIABAeEAc6BAgAEAM6CAgAEIAEELEDOgsIABCABBCxAxCDAVDtCliaQmDSRGgCcAB4AoABuQKIAa0bkgEHMC44LjcuMpgBAKABAaoBC2d3cy13aXotaW1nsAEAwAEB&sclient=img&ei=mU85Y8rAMJqGmAXiqo6wCg&bih=924&biw=1707&rlz=1C1CHZO_koKR1025KR1025&hl=ko','po','쿵푸팬더 포')"
   ]
  },
  {
   "cell_type": "code",
   "execution_count": 112,
   "metadata": {},
   "outputs": [],
   "source": [
    "# 도날드덕\n",
    "image_save('https://www.google.com/search?q=%EB%8F%84%EB%82%A0%EB%93%9C%EB%8D%95&tbm=isch&ved=2ahUKEwjujKfLlMH6AhUZzosBHXvfBooQ2-cCegQIABAA&oq=%EB%8F%84%EB%82%A0%EB%93%9C%EB%8D%95&gs_lcp=CgNpbWcQAzIFCAAQgAQyBQgAEIAEMgUIABCABDIFCAAQgAQyBQgAEIAEMgUIABCABDIFCAAQgAQyBQgAEIAEMgUIABCABDIFCAAQgAQ6BAgAEBg6BggAEB4QBzoICAAQgAQQsQM6CAgAELEDEIMBUNkPWKE5YL08aANwAHgCgAHyAYgBwhGSAQUwLjkuNJgBAKABAaoBC2d3cy13aXotaW1nsAEAwAEB&sclient=img&ei=SlA5Y-6_Mpmcr7wP-76b0Ag&bih=924&biw=1707&rlz=1C1CHZO_koKR1025KR1025&hl=ko','donaldduck','도날드덕')"
   ]
  },
  {
   "cell_type": "code",
   "execution_count": 113,
   "metadata": {},
   "outputs": [],
   "source": [
    "# 기영이\n",
    "image_save('https://www.google.com/search?q=%EA%B8%B0%EC%98%81%EC%9D%B4&tbm=isch&ved=2ahUKEwiO7bv7lMH6AhXZEKYKHY3tDLcQ2-cCegQIABAA&oq=%EA%B8%B0%EC%98%81%EC%9D%B4&gs_lcp=CgNpbWcQAzIICAAQgAQQsQMyBQgAEIAEMgUIABCABDIFCAAQgAQyBQgAEIAEMgUIABCABDIFCAAQgAQyBQgAEIAEMgUIABCABDIFCAAQgAQ6CAgAELEDEIMBOgsIABCABBCxAxCDAVD9B1iIDmDvD2gBcAB4AIAB3AGIAfUJkgEFMC43LjGYAQCgAQGqAQtnd3Mtd2l6LWltZ8ABAQ&sclient=img&ei=r1A5Y87ZMtmhmAWN27O4Cw&bih=924&biw=1707&rlz=1C1CHZO_koKR1025KR1025&hl=ko','giyoung','기영이')"
   ]
  },
  {
   "cell_type": "code",
   "execution_count": 114,
   "metadata": {},
   "outputs": [],
   "source": [
    "# 뚜비\n",
    "image_save('https://www.google.com/search?q=%ED%85%94%EB%A0%88%ED%86%A0%EB%B9%84+%EB%9A%9C%EB%B9%84&tbm=isch&ved=2ahUKEwjt3uuIlcH6AhWhz4sBHQTnD2oQ2-cCegQIABAA&oq=%ED%85%94%EB%A0%88%ED%86%A0%EB%B9%84+%EB%9A%9C%EB%B9%84&gs_lcp=CgNpbWcQAzIFCAAQgAQyBAgAEBg6CAgAEIAEELEDOgsIABCABBCxAxCDAToECAAQE1DVBliXWGDfW2gKcAB4A4ABgQKIAdkdkgEGMC4xOS40mAEAoAEBqgELZ3dzLXdpei1pbWewAQDAAQE&sclient=img&ei=y1A5Y63NNaGfr7wPhM6_0AY&bih=924&biw=1707&rlz=1C1CHZO_koKR1025KR1025&hl=ko','ddubi','뚜비')"
   ]
  },
  {
   "cell_type": "code",
   "execution_count": 115,
   "metadata": {},
   "outputs": [],
   "source": [
    "# 신영만\n",
    "image_save('https://www.google.com/search?q=%EC%8B%A0%EC%98%81%EB%A7%8C&tbm=isch&ved=2ahUKEwiO7bv7lMH6AhXZEKYKHY3tDLcQ2-cCegQIABAA&oq=%EC%8B%A0%EC%98%81%EB%A7%8C&gs_lcp=CgNpbWcQAzIFCAAQgAQyBQgAEIAEMgUIABCABDIFCAAQgAQyBQgAEIAEMgUIABCABDIFCAAQgAQyBQgAEIAEMgUIABCABDIFCAAQgAQ6CAgAEIAEELEDOgsIABCABBCxAxCDAVCvCFiJH2DyH2gFcAB4BIAB3gKIAa4VkgEIMC4xMy4yLjGYAQCgAQGqAQtnd3Mtd2l6LWltZ7ABAMABAQ&sclient=img&ei=r1A5Y87ZMtmhmAWN27O4Cw&bih=924&biw=1707&rlz=1C1CHZO_koKR1025KR1025&hl=ko','sinyoungman','신영만')"
   ]
  },
  {
   "cell_type": "code",
   "execution_count": 116,
   "metadata": {},
   "outputs": [],
   "source": [
    "# 가필드\n",
    "image_save('https://www.google.com/search?q=%EA%B0%80%ED%95%84%EB%93%9C&tbm=isch&ved=2ahUKEwi6m9bylcH6AhUFVpQKHemJBkoQ2-cCegQIABAA&oq=%EA%B0%80%ED%95%84%EB%93%9C&gs_lcp=CgNpbWcQAzIFCAAQgAQyBQgAEIAEMgUIABCABDIFCAAQgAQyBQgAEIAEMgUIABCABDIFCAAQgAQyBQgAEIAEMgUIABCABDIFCAAQgAQ6CAgAEIAEELEDOgQIABADOggIABCxAxCDAVC9B1jGFWD6FmgDcAB4BIAB1gGIAdoNkgEFMC43LjOYAQCgAQGqAQtnd3Mtd2l6LWltZ7ABAMABAQ&sclient=img&ei=qVE5Y_qiMoWs0QTpk5rQBA&bih=924&biw=1707&rlz=1C1CHZO_koKR1025KR1025&hl=ko','gamild','가필드')"
   ]
  },
  {
   "cell_type": "code",
   "execution_count": 117,
   "metadata": {},
   "outputs": [],
   "source": [
    "# 제리\n",
    "image_save('https://www.google.com/search?q=%EC%A0%9C%EB%A6%AC&tbm=isch&ved=2ahUKEwiOrryblsH6AhX4TPUHHdJIBeQQ2-cCegQIABAA&oq=%EC%A0%9C%EB%A6%AC&gs_lcp=CgNpbWcQAzIICAAQgAQQsQMyBQgAEIAEMgUIABCABDIFCAAQgAQyBQgAEIAEMgUIABCABDIFCAAQgAQyBQgAEIAEMgUIABCABDIFCAAQgAQ6BAgAEANQoCRY7yZgmSloAXAAeAGAAYYCiAHsBpIBBTAuNC4xmAEAoAEBqgELZ3dzLXdpei1pbWfAAQE&sclient=img&ei=_1E5Y86yF_iZ1e8P0pGVoA4&bih=924&biw=1707&rlz=1C1CHZO_koKR1025KR1025&hl=ko','jerry','제리')"
   ]
  },
  {
   "cell_type": "code",
   "execution_count": 118,
   "metadata": {},
   "outputs": [],
   "source": [
    "# 배찌\n",
    "image_save('https://www.google.com/search?q=%EB%B0%B0%EC%B0%8C&tbm=isch&ved=2ahUKEwiul4TGlsH6AhXYTPUHHbOKBgcQ2-cCegQIABAA&oq=%EB%B0%B0%EC%B0%8C&gs_lcp=CgNpbWcQAzIFCAAQgAQyBQgAEIAEMgUIABCABDIFCAAQgAQyBQgAEIAEMgUIABCABDIFCAAQgAQyBQgAEIAEMgUIABCABDIFCAAQgAQ6CAgAEIAEELEDUMMMWMwQYNASaABwAHgAgAG4AYgB7gWSAQMwLjWYAQCgAQGqAQtnd3Mtd2l6LWltZ8ABAQ&sclient=img&ei=WFI5Y66LJ9iZ1e8Ps5WaOA&bih=924&biw=1707&rlz=1C1CHZO_koKR1025KR1025&hl=ko','bazzi','배찌')"
   ]
  },
  {
   "cell_type": "code",
   "execution_count": 140,
   "metadata": {},
   "outputs": [],
   "source": [
    "# 사진이 나오는 함수\n",
    "def image_random_print():\n",
    "    random_name=random.choice(list(dic_name.keys()))\n",
    "    random_image=random.choice(os.listdir('./'+random_name))\n",
    "\n",
    "    img=Image.open('./'+random_name+'./'+random_image)\n",
    "    img.show()\n",
    "\n",
    "    # print(f\"정답은 {dic_name[random_name]}입니다.\")"
   ]
  },
  {
   "cell_type": "code",
   "execution_count": 242,
   "metadata": {},
   "outputs": [],
   "source": [
    "image_random_print()"
   ]
  },
  {
   "cell_type": "code",
   "execution_count": null,
   "metadata": {},
   "outputs": [],
   "source": []
  },
  {
   "cell_type": "code",
   "execution_count": null,
   "metadata": {},
   "outputs": [],
   "source": []
  },
  {
   "cell_type": "code",
   "execution_count": null,
   "metadata": {},
   "outputs": [],
   "source": []
  },
  {
   "cell_type": "code",
   "execution_count": null,
   "metadata": {},
   "outputs": [],
   "source": []
  },
  {
   "cell_type": "code",
   "execution_count": null,
   "metadata": {},
   "outputs": [],
   "source": []
  },
  {
   "cell_type": "code",
   "execution_count": null,
   "metadata": {},
   "outputs": [],
   "source": []
  },
  {
   "cell_type": "code",
   "execution_count": null,
   "metadata": {},
   "outputs": [],
   "source": []
  },
  {
   "cell_type": "code",
   "execution_count": null,
   "metadata": {},
   "outputs": [],
   "source": []
  },
  {
   "cell_type": "code",
   "execution_count": null,
   "metadata": {},
   "outputs": [],
   "source": []
  },
  {
   "cell_type": "code",
   "execution_count": null,
   "metadata": {},
   "outputs": [],
   "source": []
  },
  {
   "cell_type": "code",
   "execution_count": null,
   "metadata": {},
   "outputs": [],
   "source": []
  },
  {
   "cell_type": "code",
   "execution_count": null,
   "metadata": {},
   "outputs": [],
   "source": []
  },
  {
   "cell_type": "code",
   "execution_count": null,
   "metadata": {},
   "outputs": [],
   "source": []
  },
  {
   "cell_type": "code",
   "execution_count": null,
   "metadata": {},
   "outputs": [],
   "source": []
  },
  {
   "cell_type": "code",
   "execution_count": null,
   "metadata": {},
   "outputs": [],
   "source": []
  },
  {
   "cell_type": "code",
   "execution_count": null,
   "metadata": {},
   "outputs": [],
   "source": []
  }
 ],
 "metadata": {
  "kernelspec": {
   "display_name": "Python 3.9.13 ('PY_39')",
   "language": "python",
   "name": "python3"
  },
  "language_info": {
   "codemirror_mode": {
    "name": "ipython",
    "version": 3
   },
   "file_extension": ".py",
   "mimetype": "text/x-python",
   "name": "python",
   "nbconvert_exporter": "python",
   "pygments_lexer": "ipython3",
   "version": "3.9.13"
  },
  "orig_nbformat": 4,
  "vscode": {
   "interpreter": {
    "hash": "f383b27726cf6678b0d04baf9693a2bc69529457fb17a6accda21f03ae2e2b23"
   }
  }
 },
 "nbformat": 4,
 "nbformat_minor": 2
}
